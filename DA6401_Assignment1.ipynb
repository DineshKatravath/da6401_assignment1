{
  "nbformat": 4,
  "nbformat_minor": 0,
  "metadata": {
    "colab": {
      "provenance": [],
      "mount_file_id": "19vUMa14pElIaaTFQPBYtHIXth-3FGDI4",
      "authorship_tag": "ABX9TyOH08dvMddjTWLWthtoMGcn",
      "include_colab_link": true
    },
    "kernelspec": {
      "name": "python3",
      "display_name": "Python 3"
    },
    "language_info": {
      "name": "python"
    }
  },
  "cells": [
    {
      "cell_type": "markdown",
      "metadata": {
        "id": "view-in-github",
        "colab_type": "text"
      },
      "source": [
        "<a href=\"https://colab.research.google.com/github/DineshKatravath/da6401_assignment1/blob/main/DA6401_Assignment1.ipynb\" target=\"_parent\"><img src=\"https://colab.research.google.com/assets/colab-badge.svg\" alt=\"Open In Colab\"/></a>"
      ]
    },
    {
      "cell_type": "markdown",
      "source": [
        "# Connecting to Wandb"
      ],
      "metadata": {
        "id": "i2AKthrOGZsq"
      }
    },
    {
      "cell_type": "code",
      "execution_count": null,
      "metadata": {
        "colab": {
          "base_uri": "https://localhost:8080/"
        },
        "collapsed": true,
        "id": "DUlc7pPDEKHJ",
        "outputId": "919fe10b-0d00-486a-c021-8d59c4dfea55"
      },
      "outputs": [
        {
          "output_type": "stream",
          "name": "stdout",
          "text": [
            "Requirement already satisfied: wandb in /usr/local/lib/python3.11/dist-packages (0.19.7)\n",
            "Requirement already satisfied: click!=8.0.0,>=7.1 in /usr/local/lib/python3.11/dist-packages (from wandb) (8.1.8)\n",
            "Requirement already satisfied: docker-pycreds>=0.4.0 in /usr/local/lib/python3.11/dist-packages (from wandb) (0.4.0)\n",
            "Requirement already satisfied: gitpython!=3.1.29,>=1.0.0 in /usr/local/lib/python3.11/dist-packages (from wandb) (3.1.44)\n",
            "Requirement already satisfied: platformdirs in /usr/local/lib/python3.11/dist-packages (from wandb) (4.3.6)\n",
            "Requirement already satisfied: protobuf!=4.21.0,!=5.28.0,<6,>=3.19.0 in /usr/local/lib/python3.11/dist-packages (from wandb) (4.25.6)\n",
            "Requirement already satisfied: psutil>=5.0.0 in /usr/local/lib/python3.11/dist-packages (from wandb) (5.9.5)\n",
            "Requirement already satisfied: pydantic<3,>=2.6 in /usr/local/lib/python3.11/dist-packages (from wandb) (2.10.6)\n",
            "Requirement already satisfied: pyyaml in /usr/local/lib/python3.11/dist-packages (from wandb) (6.0.2)\n",
            "Requirement already satisfied: requests<3,>=2.0.0 in /usr/local/lib/python3.11/dist-packages (from wandb) (2.32.3)\n",
            "Requirement already satisfied: sentry-sdk>=2.0.0 in /usr/local/lib/python3.11/dist-packages (from wandb) (2.22.0)\n",
            "Requirement already satisfied: setproctitle in /usr/local/lib/python3.11/dist-packages (from wandb) (1.3.5)\n",
            "Requirement already satisfied: setuptools in /usr/local/lib/python3.11/dist-packages (from wandb) (75.1.0)\n",
            "Requirement already satisfied: typing-extensions<5,>=4.4 in /usr/local/lib/python3.11/dist-packages (from wandb) (4.12.2)\n",
            "Requirement already satisfied: six>=1.4.0 in /usr/local/lib/python3.11/dist-packages (from docker-pycreds>=0.4.0->wandb) (1.17.0)\n",
            "Requirement already satisfied: gitdb<5,>=4.0.1 in /usr/local/lib/python3.11/dist-packages (from gitpython!=3.1.29,>=1.0.0->wandb) (4.0.12)\n",
            "Requirement already satisfied: annotated-types>=0.6.0 in /usr/local/lib/python3.11/dist-packages (from pydantic<3,>=2.6->wandb) (0.7.0)\n",
            "Requirement already satisfied: pydantic-core==2.27.2 in /usr/local/lib/python3.11/dist-packages (from pydantic<3,>=2.6->wandb) (2.27.2)\n",
            "Requirement already satisfied: charset-normalizer<4,>=2 in /usr/local/lib/python3.11/dist-packages (from requests<3,>=2.0.0->wandb) (3.4.1)\n",
            "Requirement already satisfied: idna<4,>=2.5 in /usr/local/lib/python3.11/dist-packages (from requests<3,>=2.0.0->wandb) (3.10)\n",
            "Requirement already satisfied: urllib3<3,>=1.21.1 in /usr/local/lib/python3.11/dist-packages (from requests<3,>=2.0.0->wandb) (2.3.0)\n",
            "Requirement already satisfied: certifi>=2017.4.17 in /usr/local/lib/python3.11/dist-packages (from requests<3,>=2.0.0->wandb) (2025.1.31)\n",
            "Requirement already satisfied: smmap<6,>=3.0.1 in /usr/local/lib/python3.11/dist-packages (from gitdb<5,>=4.0.1->gitpython!=3.1.29,>=1.0.0->wandb) (5.0.2)\n"
          ]
        }
      ],
      "source": [
        "!pip install wandb"
      ]
    },
    {
      "cell_type": "code",
      "source": [
        "import wandb\n",
        "wandb.login()"
      ],
      "metadata": {
        "colab": {
          "base_uri": "https://localhost:8080/",
          "height": 208
        },
        "collapsed": true,
        "id": "5MPbxRm6GsTI",
        "outputId": "7300bc4b-1694-4b38-8905-f416afb78d62"
      },
      "execution_count": null,
      "outputs": [
        {
          "output_type": "stream",
          "name": "stderr",
          "text": [
            "\u001b[34m\u001b[1mwandb\u001b[0m: Using wandb-core as the SDK backend.  Please refer to https://wandb.me/wandb-core for more information.\n"
          ]
        },
        {
          "output_type": "display_data",
          "data": {
            "text/plain": [
              "<IPython.core.display.Javascript object>"
            ],
            "application/javascript": [
              "\n",
              "        window._wandbApiKey = new Promise((resolve, reject) => {\n",
              "            function loadScript(url) {\n",
              "            return new Promise(function(resolve, reject) {\n",
              "                let newScript = document.createElement(\"script\");\n",
              "                newScript.onerror = reject;\n",
              "                newScript.onload = resolve;\n",
              "                document.body.appendChild(newScript);\n",
              "                newScript.src = url;\n",
              "            });\n",
              "            }\n",
              "            loadScript(\"https://cdn.jsdelivr.net/npm/postmate/build/postmate.min.js\").then(() => {\n",
              "            const iframe = document.createElement('iframe')\n",
              "            iframe.style.cssText = \"width:0;height:0;border:none\"\n",
              "            document.body.appendChild(iframe)\n",
              "            const handshake = new Postmate({\n",
              "                container: iframe,\n",
              "                url: 'https://wandb.ai/authorize'\n",
              "            });\n",
              "            const timeout = setTimeout(() => reject(\"Couldn't auto authenticate\"), 5000)\n",
              "            handshake.then(function(child) {\n",
              "                child.on('authorize', data => {\n",
              "                    clearTimeout(timeout)\n",
              "                    resolve(data)\n",
              "                });\n",
              "            });\n",
              "            })\n",
              "        });\n",
              "    "
            ]
          },
          "metadata": {}
        },
        {
          "output_type": "stream",
          "name": "stderr",
          "text": [
            "\u001b[34m\u001b[1mwandb\u001b[0m: Logging into wandb.ai. (Learn how to deploy a W&B server locally: https://wandb.me/wandb-server)\n",
            "\u001b[34m\u001b[1mwandb\u001b[0m: You can find your API key in your browser here: https://wandb.ai/authorize\n",
            "wandb: Paste an API key from your profile and hit enter:"
          ]
        },
        {
          "name": "stdout",
          "output_type": "stream",
          "text": [
            " ··········\n"
          ]
        },
        {
          "output_type": "stream",
          "name": "stderr",
          "text": [
            "\u001b[34m\u001b[1mwandb\u001b[0m: \u001b[33mWARNING\u001b[0m If you're specifying your api key in code, ensure this code is not shared publicly.\n",
            "\u001b[34m\u001b[1mwandb\u001b[0m: \u001b[33mWARNING\u001b[0m Consider setting the WANDB_API_KEY environment variable, or running `wandb login` from the command line.\n",
            "\u001b[34m\u001b[1mwandb\u001b[0m: No netrc file found, creating one.\n",
            "\u001b[34m\u001b[1mwandb\u001b[0m: Appending key for api.wandb.ai to your netrc file: /root/.netrc\n",
            "\u001b[34m\u001b[1mwandb\u001b[0m: Currently logged in as: \u001b[33mcs24m018\u001b[0m (\u001b[33mcs24m018-iitmaana\u001b[0m) to \u001b[32mhttps://api.wandb.ai\u001b[0m. Use \u001b[1m`wandb login --relogin`\u001b[0m to force relogin\n"
          ]
        },
        {
          "output_type": "execute_result",
          "data": {
            "text/plain": [
              "True"
            ]
          },
          "metadata": {},
          "execution_count": 2
        }
      ]
    },
    {
      "cell_type": "code",
      "source": [
        "import wandb\n",
        "\n",
        "# Initialize a new WandB run\n",
        "wandb.init(project=\"DA6401 Assignment1\")\n",
        "\n",
        "# Example: Log some metrics\n",
        "wandb.log({\"loss\": 0.5, \"accuracy\": 0.8})\n",
        "\n",
        "# Finish the run when you're done\n",
        "wandb.finish()"
      ],
      "metadata": {
        "colab": {
          "base_uri": "https://localhost:8080/",
          "height": 446
        },
        "id": "1XS8CCimILVl",
        "outputId": "08240321-10b0-4bdf-fc88-c4fac24812ce"
      },
      "execution_count": null,
      "outputs": [
        {
          "output_type": "display_data",
          "data": {
            "text/plain": [
              "<IPython.core.display.HTML object>"
            ],
            "text/html": [
              "Tracking run with wandb version 0.19.7"
            ]
          },
          "metadata": {}
        },
        {
          "output_type": "display_data",
          "data": {
            "text/plain": [
              "<IPython.core.display.HTML object>"
            ],
            "text/html": [
              "Run data is saved locally in <code>/content/wandb/run-20250308_050845-csv9op17</code>"
            ]
          },
          "metadata": {}
        },
        {
          "output_type": "display_data",
          "data": {
            "text/plain": [
              "<IPython.core.display.HTML object>"
            ],
            "text/html": [
              "Syncing run <strong><a href='https://wandb.ai/cs24m018-iitmaana/DA6401%20Assignment1/runs/csv9op17' target=\"_blank\">helpful-donkey-5</a></strong> to <a href='https://wandb.ai/cs24m018-iitmaana/DA6401%20Assignment1' target=\"_blank\">Weights & Biases</a> (<a href='https://wandb.me/developer-guide' target=\"_blank\">docs</a>)<br>"
            ]
          },
          "metadata": {}
        },
        {
          "output_type": "display_data",
          "data": {
            "text/plain": [
              "<IPython.core.display.HTML object>"
            ],
            "text/html": [
              " View project at <a href='https://wandb.ai/cs24m018-iitmaana/DA6401%20Assignment1' target=\"_blank\">https://wandb.ai/cs24m018-iitmaana/DA6401%20Assignment1</a>"
            ]
          },
          "metadata": {}
        },
        {
          "output_type": "display_data",
          "data": {
            "text/plain": [
              "<IPython.core.display.HTML object>"
            ],
            "text/html": [
              " View run at <a href='https://wandb.ai/cs24m018-iitmaana/DA6401%20Assignment1/runs/csv9op17' target=\"_blank\">https://wandb.ai/cs24m018-iitmaana/DA6401%20Assignment1/runs/csv9op17</a>"
            ]
          },
          "metadata": {}
        },
        {
          "output_type": "display_data",
          "data": {
            "text/plain": [
              "<IPython.core.display.HTML object>"
            ],
            "text/html": []
          },
          "metadata": {}
        },
        {
          "output_type": "display_data",
          "data": {
            "text/plain": [
              "<IPython.core.display.HTML object>"
            ],
            "text/html": [
              "<br>    <style><br>        .wandb-row {<br>            display: flex;<br>            flex-direction: row;<br>            flex-wrap: wrap;<br>            justify-content: flex-start;<br>            width: 100%;<br>        }<br>        .wandb-col {<br>            display: flex;<br>            flex-direction: column;<br>            flex-basis: 100%;<br>            flex: 1;<br>            padding: 10px;<br>        }<br>    </style><br><div class=\"wandb-row\"><div class=\"wandb-col\"><h3>Run history:</h3><br/><table class=\"wandb\"><tr><td>accuracy</td><td>▁</td></tr><tr><td>loss</td><td>▁</td></tr></table><br/></div><div class=\"wandb-col\"><h3>Run summary:</h3><br/><table class=\"wandb\"><tr><td>accuracy</td><td>0.8</td></tr><tr><td>loss</td><td>0.5</td></tr></table><br/></div></div>"
            ]
          },
          "metadata": {}
        },
        {
          "output_type": "display_data",
          "data": {
            "text/plain": [
              "<IPython.core.display.HTML object>"
            ],
            "text/html": [
              " View run <strong style=\"color:#cdcd00\">helpful-donkey-5</strong> at: <a href='https://wandb.ai/cs24m018-iitmaana/DA6401%20Assignment1/runs/csv9op17' target=\"_blank\">https://wandb.ai/cs24m018-iitmaana/DA6401%20Assignment1/runs/csv9op17</a><br> View project at: <a href='https://wandb.ai/cs24m018-iitmaana/DA6401%20Assignment1' target=\"_blank\">https://wandb.ai/cs24m018-iitmaana/DA6401%20Assignment1</a><br>Synced 5 W&B file(s), 0 media file(s), 0 artifact file(s) and 0 other file(s)"
            ]
          },
          "metadata": {}
        },
        {
          "output_type": "display_data",
          "data": {
            "text/plain": [
              "<IPython.core.display.HTML object>"
            ],
            "text/html": [
              "Find logs at: <code>./wandb/run-20250308_050845-csv9op17/logs</code>"
            ]
          },
          "metadata": {}
        }
      ]
    },
    {
      "cell_type": "code",
      "source": [],
      "metadata": {
        "id": "sKowCJ3NJ9jL"
      },
      "execution_count": null,
      "outputs": []
    },
    {
      "cell_type": "markdown",
      "source": [
        "# Question 1"
      ],
      "metadata": {
        "id": "S-Dzn_qeKo9w"
      }
    },
    {
      "cell_type": "code",
      "source": [
        "import numpy as np\n",
        "import matplotlib.pyplot as plt\n",
        "from keras.datasets import fashion_mnist\n",
        "\n",
        "# Load the Fashion-MNIST dataset\n",
        "(x_train, y_train), (x_test, y_test) = fashion_mnist.load_data()\n",
        "\n",
        "\n",
        "# Define class labels\n",
        "class_labels = ['T-shirt/top', 'Trouser', 'Pullover', 'Dress', 'Coat', 'Sandal', 'Shirt', 'Sneaker', 'Bag', 'Ankle boot']\n",
        "\n",
        "# Create a figure with a grid of subplots\n",
        "fig, axs = plt.subplots(5, 2)\n",
        "\n",
        "# Loop through each class\n",
        "for i in range(10):\n",
        "    # Find the first image of the current class in the training set\n",
        "    idx = np.where(y_train == i)[0][0]\n",
        "\n",
        "    # Plot the image\n",
        "\n",
        "    x = i//2\n",
        "    y = i%2\n",
        "\n",
        "    axs[x,y].imshow(x_train[idx], cmap='gray')\n",
        "    axs[x,y].set_title(class_labels[i])\n",
        "    axs[x,y].axis('off')  # Turn off axis for better visualization\n",
        "\n",
        "plt.tight_layout()\n",
        "plt.show()"
      ],
      "metadata": {
        "colab": {
          "base_uri": "https://localhost:8080/",
          "height": 486
        },
        "id": "9acWJ48jKxWD",
        "outputId": "94587b63-54d2-4555-8748-03f217765bce"
      },
      "execution_count": null,
      "outputs": [
        {
          "output_type": "display_data",
          "data": {
            "text/plain": [
              "<Figure size 640x480 with 10 Axes>"
            ],
            "image/png": "[encoded data removed]"
          },
          "metadata": {}
        }
      ]
    },
    {
      "cell_type": "code",
      "source": [],
      "metadata": {
        "id": "bO_mQEoRLvts"
      },
      "execution_count": null,
      "outputs": []
    },
    {
      "cell_type": "markdown",
      "source": [
        "# Question 2"
      ],
      "metadata": {
        "id": "-Bs8voaCRs99"
      }
    },
    {
      "cell_type": "code",
      "source": [
        "# Activation Functions\n",
        "\n",
        "def sigmoid(X):\n",
        "  return 1./1+np.exp(-X)\n",
        "\n",
        "def tanh(X):\n",
        "  return np.exp(X)-np.exp(-X)/np.exp(X)+np.exp(-X)\n",
        "\n",
        "def relu(X):\n",
        "  return np.maximum(0,X)\n",
        "\n",
        "def softMax(X):\n",
        "  # subtracting maxVal for stability\n",
        "  maxVal = np.max(X,axis=0)\n",
        "  X = X - maxVal\n",
        "  return np.exp(X)/np.sum(np.exp(X),axis=0)\n",
        "\n",
        "\n",
        "# Gradient Activation Functions\n",
        "\n",
        "def sigmoidGrad(X):\n",
        "  return sigmoid(X)*(1-sigmoid(X))\n",
        "\n",
        "def tanhGrad(X):\n",
        "  return 1-tanh(X)**2\n",
        "\n",
        "def reluGrad(X):\n",
        "  return np.where(X>0,1,0)\n",
        "\n",
        "def softMaxGrad(X):\n",
        "  return softMax(X)*(1-softMax(X))\n",
        "\n",
        "# Weight Initializations\n",
        "\n",
        "def randomInit(shape):\n",
        "  return np.random.randn(*shape)*0.01\n",
        "\n",
        "def xavierInit(shape):\n",
        "  inputCount,outputCount = shape\n",
        "  std = np.sqrt(2/(inputCount+outputCount))\n",
        "  return np.random.normal(0,std,shape)"
      ],
      "metadata": {
        "id": "K9ycPapWpQYx"
      },
      "execution_count": null,
      "outputs": []
    },
    {
      "cell_type": "code",
      "source": [
        "class feedForwardNeuralNetwork:\n",
        "\n",
        "  def __init__(self,inputSize,hiddenSize,hiddenLayerCount,outputSize,epochs,batchSize,weightDecay,beta):\n",
        "    self.inputSize = inputSize\n",
        "    self.hiddenSize = hiddenSize\n",
        "    self.hiddenLayerCount = hiddenLayerCount\n",
        "    self.outputSize = outputSize\n",
        "    self.epochs = epochs\n",
        "    self.batchSize = batchSize\n",
        "    self.weightDecay = weightDecay\n",
        "    self.beta = beta\n",
        "    self.initialize()\n",
        "    self.weights = []\n",
        "    self.biases = []\n",
        "    self.activationLayer = []\n",
        "    self.preActivationLayer = []\n",
        "\n",
        "  def initialize(self,initMode = 'xavier'):\n",
        "\n",
        "    weights = []\n",
        "    biases = []\n",
        "    activationLayer = []\n",
        "    preActivationLayer = []\n",
        "\n",
        "    for i in range(self.hiddenLayerCount+1):\n",
        "      if initMode == 'xavier': # initializing random weights\n",
        "        weights.append(xavierInit((self.hiddenSize,self.hiddenSize)))\n",
        "      else:\n",
        "        weights.append(randomInit((self.hiddenSize,self.hiddenSize)))\n",
        "        biases.append(np.zeros((self.hiddenSize,1))) # initializing biases to 0.\n",
        "\n",
        "    self.weights = weights\n",
        "    self.biases = biases\n",
        "    self.activationLayer = activationLayer\n",
        "    self.preActivationLayer = preActivationLayer\n",
        "\n",
        "  def activationLayer(self,X,type='softmax'):\n",
        "    if type == 'sigmoid':\n",
        "      activatedLayer = sigmoid(X)\n",
        "    elif type == 'tanh':\n",
        "      activatedLayer = tanh(X)\n",
        "    elif type == 'relu':\n",
        "      activatedLayer = relu(X)\n",
        "    elif type == 'softmax':\n",
        "      activatedLayer = softMax(X)\n",
        "\n",
        "    return activatedLayer\n",
        "\n",
        "  def gradActivationLayer(self,X,type='softmax'):\n",
        "    if type == 'sigmoid':\n",
        "      gradActivatedLayer = sigmoidGrad(X)\n",
        "    elif type == 'tanh':\n",
        "      gradActivatedLayer = tanhGrad(X)\n",
        "    elif type == 'relu':\n",
        "      gradActivatedLayer = reluGrad(X)\n",
        "    elif type == 'softmax':\n",
        "      gradActivatedLayer = softMaxGrad(X)\n",
        "\n",
        "    return gradActivatedLayer\n",
        "\n",
        "  def outputActivationLayer(self,X):\n",
        "    return softMax(X)\n",
        "\n",
        "  def inputLayer(self,X):\n",
        "    return np.dot(self.weights[0],X)+self.biases[0]\n",
        "\n",
        "  def hiddenLayer(self,X,layerNo):\n",
        "    activatedLayer = self.activationLayer(X)\n",
        "    self.activationLayer.append(activatedLayer)\n",
        "    return np.dot(self.weights[layerNo],activatedLayer)+self.biases[layerNo]\n",
        "\n",
        "  def forward(self,X):\n",
        "\n",
        "    self.activationLayer.append(X) # h0 is input\n",
        "    self.preActivationLayer.append(self.inputLayer(X))\n",
        "    for num in range(1,self.hiddenLayerCount+1):\n",
        "      self.preActivationLayer.append(self.hiddenLayer(self.preActivationLayer[num-1],num))\n",
        "\n",
        "    self.output = self.activationLaself.outputActivationLayer(self.preActivationLayer[self.hiddenLayerCount])\n",
        "\n",
        "  def backPropagation(self,X,ypred,y,weights,ai_x,hi_x,loss=\"crossEntropyLoss\",activationType=\"softmax\"):\n",
        "\n",
        "    dw = []\n",
        "    db = []\n",
        "\n",
        "    # gradient of loss w.r.t pre-activation of output layer\n",
        "\n",
        "    if loss == \"crossEntropyLoss\":\n",
        "      grad_al = -(y-ypred)\n",
        "    elif loss == \"squaredLoss\":\n",
        "      grad_al = 2*(ypred-y)*ypred(1-ypred)\n",
        "\n",
        "    grad_ai = grad_al\n",
        "\n",
        "    for k in range(self.hiddenLayerCount,-1,-1):\n",
        "      grad_Wi = np.dot(grad_ai,hi_x[k].T) # gradient of loss w.r.t weights of kth layer\n",
        "      dw.append(grad_ai)\n",
        "\n",
        "      grad_bi = grad_ai # gradient of loss w.r.t biases of ith layer.\n",
        "      db.append(grad_bi)\n",
        "\n",
        "      if(k>0):\n",
        "        grad_h = np.dot(weights[k].T,grad_ai)\n",
        "        grad_a = grad_h * self.gradActivatedLayer(ai_x[k-1])\n",
        "        grad_ai = grad_a\n",
        "\n",
        "    dw.reverse()\n",
        "    db.reverse()\n",
        "\n",
        "    for i in range(len(dw)):\n",
        "      dw[i] += self.weightDecay*weights[i]\n",
        "\n",
        "    return dw,db\n",
        "\n",
        "  def sgd(self):\n",
        "    self.initialize()\n",
        "\n",
        "    it = 0\n",
        "    while it < self.epochs:\n",
        "      it += 1\n",
        "\n",
        "      i = 0\n",
        "      while i<len(self.x_train):\n",
        "        self.forward(self.x_train[i:i+self.batchSize])\n",
        "        dw,db = self.backPropagation(self.x_train[i:i+self.batchSize],self.ypred,self.y_train[i:i+self.batchSize])\n",
        "\n",
        "        for k in range(len(dw)):\n",
        "          self.weights[k] -= self.learningRate*dw[k]\n",
        "          self.biases[k] -= self.learningRate*db[k]\n",
        "\n",
        "        i += self.batchSize\n",
        "\n",
        "  def momentumBasedGradientDescent(self):\n",
        "    self.initialize()\n",
        "\n",
        "    it=0\n",
        "\n",
        "    while it < self.epochs:\n",
        "      it += 1\n",
        "\n",
        "      i = 0\n",
        "      while i<len(self.x_train):\n",
        "        self.forward(self.x_train[i:i+self.batchSize])\n",
        "        dw,db = self.backPropagation(self.x_train[i:i+self.batchSize],self.ypred,self.y_train[i:i+self.batchSize])\n",
        "\n",
        "        # update the momentum with the gradient\n",
        "        ut = self.beta*ut + dw\n",
        "        ub = self.beta*ub + db\n",
        "\n",
        "        for k in range(len(dw)):\n",
        "          self.weights[k] -= self.learningRate*ut\n",
        "          self.biases[k] -= self.learningRate*ub\n",
        "\n",
        "        i += self.batchSize\n",
        "\n",
        "  def nesterovAcceleratedBasedGradientDescent(self):\n",
        "    self.initialize()\n",
        "\n",
        "    it=0\n",
        "\n",
        "    while it<self.epochs:\n",
        "      it+=1\n",
        "\n",
        "      i=0\n",
        "      while i<len(self.x_train):\n",
        "        self.forward(self.x_train[i:i+self.batchSize])\n",
        "        dw,db = self.backPropagation(self.x_train[i:i+self.batchSize],self.ypred,self.y_train[i:i+self.batchSize])\n",
        "\n",
        "        ut = self.beta*ut + dw\n",
        "        ub = self.beta*ub + db\n",
        "\n",
        "        self.weights = self.weights - self.learningRate*(self.beta*ut +dw)\n",
        "        self.biases = self.biases - self.learningRate*(self.beta*ub +db)\n",
        "\n",
        "        i += self.batchSize\n",
        "\n"
      ],
      "metadata": {
        "id": "iQ7re2q2SD1s"
      },
      "execution_count": null,
      "outputs": []
    },
    {
      "cell_type": "code",
      "source": [],
      "metadata": {
        "id": "H8uCqktZyDRI"
      },
      "execution_count": null,
      "outputs": []
    }
  ]
}