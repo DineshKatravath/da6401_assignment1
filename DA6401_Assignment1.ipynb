{
  "nbformat": 4,
  "nbformat_minor": 0,
  "metadata": {
    "colab": {
      "provenance": [],
      "mount_file_id": "19vUMa14pElIaaTFQPBYtHIXth-3FGDI4",
      "authorship_tag": "ABX9TyNCQz33E0VFs0baF02Gnx5M",
      "include_colab_link": true
    },
    "kernelspec": {
      "name": "python3",
      "display_name": "Python 3"
    },
    "language_info": {
      "name": "python"
    }
  },
  "cells": [
    {
      "cell_type": "markdown",
      "metadata": {
        "id": "view-in-github",
        "colab_type": "text"
      },
      "source": [
        "<a href=\"https://colab.research.google.com/github/DineshKatravath/da6401_assignment1/blob/main/DA6401_Assignment1.ipynb\" target=\"_parent\"><img src=\"https://colab.research.google.com/assets/colab-badge.svg\" alt=\"Open In Colab\"/></a>"
      ]
    },
    {
      "cell_type": "markdown",
      "source": [
        "# Connecting to Wandb"
      ],
      "metadata": {
        "id": "i2AKthrOGZsq"
      }
    },
    {
      "cell_type": "code",
      "execution_count": null,
      "metadata": {
        "colab": {
          "base_uri": "https://localhost:8080/"
        },
        "collapsed": true,
        "id": "DUlc7pPDEKHJ",
        "outputId": "919fe10b-0d00-486a-c021-8d59c4dfea55"
      },
      "outputs": [
        {
          "output_type": "stream",
          "name": "stdout",
          "text": [
            "Requirement already satisfied: wandb in /usr/local/lib/python3.11/dist-packages (0.19.7)\n",
            "Requirement already satisfied: click!=8.0.0,>=7.1 in /usr/local/lib/python3.11/dist-packages (from wandb) (8.1.8)\n",
            "Requirement already satisfied: docker-pycreds>=0.4.0 in /usr/local/lib/python3.11/dist-packages (from wandb) (0.4.0)\n",
            "Requirement already satisfied: gitpython!=3.1.29,>=1.0.0 in /usr/local/lib/python3.11/dist-packages (from wandb) (3.1.44)\n",
            "Requirement already satisfied: platformdirs in /usr/local/lib/python3.11/dist-packages (from wandb) (4.3.6)\n",
            "Requirement already satisfied: protobuf!=4.21.0,!=5.28.0,<6,>=3.19.0 in /usr/local/lib/python3.11/dist-packages (from wandb) (4.25.6)\n",
            "Requirement already satisfied: psutil>=5.0.0 in /usr/local/lib/python3.11/dist-packages (from wandb) (5.9.5)\n",
            "Requirement already satisfied: pydantic<3,>=2.6 in /usr/local/lib/python3.11/dist-packages (from wandb) (2.10.6)\n",
            "Requirement already satisfied: pyyaml in /usr/local/lib/python3.11/dist-packages (from wandb) (6.0.2)\n",
            "Requirement already satisfied: requests<3,>=2.0.0 in /usr/local/lib/python3.11/dist-packages (from wandb) (2.32.3)\n",
            "Requirement already satisfied: sentry-sdk>=2.0.0 in /usr/local/lib/python3.11/dist-packages (from wandb) (2.22.0)\n",
            "Requirement already satisfied: setproctitle in /usr/local/lib/python3.11/dist-packages (from wandb) (1.3.5)\n",
            "Requirement already satisfied: setuptools in /usr/local/lib/python3.11/dist-packages (from wandb) (75.1.0)\n",
            "Requirement already satisfied: typing-extensions<5,>=4.4 in /usr/local/lib/python3.11/dist-packages (from wandb) (4.12.2)\n",
            "Requirement already satisfied: six>=1.4.0 in /usr/local/lib/python3.11/dist-packages (from docker-pycreds>=0.4.0->wandb) (1.17.0)\n",
            "Requirement already satisfied: gitdb<5,>=4.0.1 in /usr/local/lib/python3.11/dist-packages (from gitpython!=3.1.29,>=1.0.0->wandb) (4.0.12)\n",
            "Requirement already satisfied: annotated-types>=0.6.0 in /usr/local/lib/python3.11/dist-packages (from pydantic<3,>=2.6->wandb) (0.7.0)\n",
            "Requirement already satisfied: pydantic-core==2.27.2 in /usr/local/lib/python3.11/dist-packages (from pydantic<3,>=2.6->wandb) (2.27.2)\n",
            "Requirement already satisfied: charset-normalizer<4,>=2 in /usr/local/lib/python3.11/dist-packages (from requests<3,>=2.0.0->wandb) (3.4.1)\n",
            "Requirement already satisfied: idna<4,>=2.5 in /usr/local/lib/python3.11/dist-packages (from requests<3,>=2.0.0->wandb) (3.10)\n",
            "Requirement already satisfied: urllib3<3,>=1.21.1 in /usr/local/lib/python3.11/dist-packages (from requests<3,>=2.0.0->wandb) (2.3.0)\n",
            "Requirement already satisfied: certifi>=2017.4.17 in /usr/local/lib/python3.11/dist-packages (from requests<3,>=2.0.0->wandb) (2025.1.31)\n",
            "Requirement already satisfied: smmap<6,>=3.0.1 in /usr/local/lib/python3.11/dist-packages (from gitdb<5,>=4.0.1->gitpython!=3.1.29,>=1.0.0->wandb) (5.0.2)\n"
          ]
        }
      ],
      "source": [
        "!pip install wandb"
      ]
    },
    {
      "cell_type": "code",
      "source": [
        "import wandb\n",
        "wandb.login()"
      ],
      "metadata": {
        "colab": {
          "base_uri": "https://localhost:8080/",
          "height": 208
        },
        "collapsed": true,
        "id": "5MPbxRm6GsTI",
        "outputId": "692f8937-bf0e-4734-c72a-9b1e802ff3c1"
      },
      "execution_count": 1,
      "outputs": [
        {
          "output_type": "stream",
          "name": "stderr",
          "text": [
            "\u001b[34m\u001b[1mwandb\u001b[0m: Using wandb-core as the SDK backend.  Please refer to https://wandb.me/wandb-core for more information.\n"
          ]
        },
        {
          "output_type": "display_data",
          "data": {
            "text/plain": [
              "<IPython.core.display.Javascript object>"
            ],
            "application/javascript": [
              "\n",
              "        window._wandbApiKey = new Promise((resolve, reject) => {\n",
              "            function loadScript(url) {\n",
              "            return new Promise(function(resolve, reject) {\n",
              "                let newScript = document.createElement(\"script\");\n",
              "                newScript.onerror = reject;\n",
              "                newScript.onload = resolve;\n",
              "                document.body.appendChild(newScript);\n",
              "                newScript.src = url;\n",
              "            });\n",
              "            }\n",
              "            loadScript(\"https://cdn.jsdelivr.net/npm/postmate/build/postmate.min.js\").then(() => {\n",
              "            const iframe = document.createElement('iframe')\n",
              "            iframe.style.cssText = \"width:0;height:0;border:none\"\n",
              "            document.body.appendChild(iframe)\n",
              "            const handshake = new Postmate({\n",
              "                container: iframe,\n",
              "                url: 'https://wandb.ai/authorize'\n",
              "            });\n",
              "            const timeout = setTimeout(() => reject(\"Couldn't auto authenticate\"), 5000)\n",
              "            handshake.then(function(child) {\n",
              "                child.on('authorize', data => {\n",
              "                    clearTimeout(timeout)\n",
              "                    resolve(data)\n",
              "                });\n",
              "            });\n",
              "            })\n",
              "        });\n",
              "    "
            ]
          },
          "metadata": {}
        },
        {
          "output_type": "stream",
          "name": "stderr",
          "text": [
            "\u001b[34m\u001b[1mwandb\u001b[0m: Logging into wandb.ai. (Learn how to deploy a W&B server locally: https://wandb.me/wandb-server)\n",
            "\u001b[34m\u001b[1mwandb\u001b[0m: You can find your API key in your browser here: https://wandb.ai/authorize\n",
            "wandb: Paste an API key from your profile and hit enter:"
          ]
        },
        {
          "name": "stdout",
          "output_type": "stream",
          "text": [
            " ··········\n"
          ]
        },
        {
          "output_type": "stream",
          "name": "stderr",
          "text": [
            "\u001b[34m\u001b[1mwandb\u001b[0m: \u001b[33mWARNING\u001b[0m If you're specifying your api key in code, ensure this code is not shared publicly.\n",
            "\u001b[34m\u001b[1mwandb\u001b[0m: \u001b[33mWARNING\u001b[0m Consider setting the WANDB_API_KEY environment variable, or running `wandb login` from the command line.\n",
            "\u001b[34m\u001b[1mwandb\u001b[0m: No netrc file found, creating one.\n",
            "\u001b[34m\u001b[1mwandb\u001b[0m: Appending key for api.wandb.ai to your netrc file: /root/.netrc\n",
            "\u001b[34m\u001b[1mwandb\u001b[0m: Currently logged in as: \u001b[33mcs24m018\u001b[0m (\u001b[33mcs24m018-iitmaana\u001b[0m) to \u001b[32mhttps://api.wandb.ai\u001b[0m. Use \u001b[1m`wandb login --relogin`\u001b[0m to force relogin\n"
          ]
        },
        {
          "output_type": "execute_result",
          "data": {
            "text/plain": [
              "True"
            ]
          },
          "metadata": {},
          "execution_count": 1
        }
      ]
    },
    {
      "cell_type": "code",
      "source": [
        "import wandb\n",
        "\n",
        "# Initialize a new WandB run\n",
        "wandb.init(project=\"DA6401 Assignment1\")\n",
        "\n",
        "# Finish the run when you're done\n",
        "wandb.finish()"
      ],
      "metadata": {
        "colab": {
          "base_uri": "https://localhost:8080/",
          "height": 329
        },
        "id": "1XS8CCimILVl",
        "outputId": "bf05b72d-ef1a-477b-e2a5-3651a4ef7e64"
      },
      "execution_count": null,
      "outputs": [
        {
          "output_type": "display_data",
          "data": {
            "text/plain": [
              "<IPython.core.display.Javascript object>"
            ],
            "application/javascript": [
              "\n",
              "        window._wandbApiKey = new Promise((resolve, reject) => {\n",
              "            function loadScript(url) {\n",
              "            return new Promise(function(resolve, reject) {\n",
              "                let newScript = document.createElement(\"script\");\n",
              "                newScript.onerror = reject;\n",
              "                newScript.onload = resolve;\n",
              "                document.body.appendChild(newScript);\n",
              "                newScript.src = url;\n",
              "            });\n",
              "            }\n",
              "            loadScript(\"https://cdn.jsdelivr.net/npm/postmate/build/postmate.min.js\").then(() => {\n",
              "            const iframe = document.createElement('iframe')\n",
              "            iframe.style.cssText = \"width:0;height:0;border:none\"\n",
              "            document.body.appendChild(iframe)\n",
              "            const handshake = new Postmate({\n",
              "                container: iframe,\n",
              "                url: 'https://wandb.ai/authorize'\n",
              "            });\n",
              "            const timeout = setTimeout(() => reject(\"Couldn't auto authenticate\"), 5000)\n",
              "            handshake.then(function(child) {\n",
              "                child.on('authorize', data => {\n",
              "                    clearTimeout(timeout)\n",
              "                    resolve(data)\n",
              "                });\n",
              "            });\n",
              "            })\n",
              "        });\n",
              "    "
            ]
          },
          "metadata": {}
        },
        {
          "output_type": "stream",
          "name": "stderr",
          "text": [
            "\u001b[34m\u001b[1mwandb\u001b[0m: Logging into wandb.ai. (Learn how to deploy a W&B server locally: https://wandb.me/wandb-server)\n",
            "\u001b[34m\u001b[1mwandb\u001b[0m: You can find your API key in your browser here: https://wandb.ai/authorize\n",
            "wandb: Paste an API key from your profile and hit enter:"
          ]
        },
        {
          "name": "stdout",
          "output_type": "stream",
          "text": [
            " ··········\n"
          ]
        },
        {
          "output_type": "stream",
          "name": "stderr",
          "text": [
            "\u001b[34m\u001b[1mwandb\u001b[0m: \u001b[33mWARNING\u001b[0m If you're specifying your api key in code, ensure this code is not shared publicly.\n",
            "\u001b[34m\u001b[1mwandb\u001b[0m: \u001b[33mWARNING\u001b[0m Consider setting the WANDB_API_KEY environment variable, or running `wandb login` from the command line.\n",
            "\u001b[34m\u001b[1mwandb\u001b[0m: No netrc file found, creating one.\n",
            "\u001b[34m\u001b[1mwandb\u001b[0m: Appending key for api.wandb.ai to your netrc file: /root/.netrc\n",
            "\u001b[34m\u001b[1mwandb\u001b[0m: Currently logged in as: \u001b[33mcs24m018\u001b[0m (\u001b[33mcs24m018-iitmaana\u001b[0m) to \u001b[32mhttps://api.wandb.ai\u001b[0m. Use \u001b[1m`wandb login --relogin`\u001b[0m to force relogin\n"
          ]
        },
        {
          "output_type": "display_data",
          "data": {
            "text/plain": [
              "<IPython.core.display.HTML object>"
            ],
            "text/html": [
              "Tracking run with wandb version 0.19.7"
            ]
          },
          "metadata": {}
        },
        {
          "output_type": "display_data",
          "data": {
            "text/plain": [
              "<IPython.core.display.HTML object>"
            ],
            "text/html": [
              "Run data is saved locally in <code>/content/wandb/run-20250309_033936-viwm63rj</code>"
            ]
          },
          "metadata": {}
        },
        {
          "output_type": "display_data",
          "data": {
            "text/plain": [
              "<IPython.core.display.HTML object>"
            ],
            "text/html": [
              "Syncing run <strong><a href='https://wandb.ai/cs24m018-iitmaana/DA6401%20Assignment1/runs/viwm63rj' target=\"_blank\">crimson-sunset-8</a></strong> to <a href='https://wandb.ai/cs24m018-iitmaana/DA6401%20Assignment1' target=\"_blank\">Weights & Biases</a> (<a href='https://wandb.me/developer-guide' target=\"_blank\">docs</a>)<br>"
            ]
          },
          "metadata": {}
        },
        {
          "output_type": "display_data",
          "data": {
            "text/plain": [
              "<IPython.core.display.HTML object>"
            ],
            "text/html": [
              " View project at <a href='https://wandb.ai/cs24m018-iitmaana/DA6401%20Assignment1' target=\"_blank\">https://wandb.ai/cs24m018-iitmaana/DA6401%20Assignment1</a>"
            ]
          },
          "metadata": {}
        },
        {
          "output_type": "display_data",
          "data": {
            "text/plain": [
              "<IPython.core.display.HTML object>"
            ],
            "text/html": [
              " View run at <a href='https://wandb.ai/cs24m018-iitmaana/DA6401%20Assignment1/runs/viwm63rj' target=\"_blank\">https://wandb.ai/cs24m018-iitmaana/DA6401%20Assignment1/runs/viwm63rj</a>"
            ]
          },
          "metadata": {}
        },
        {
          "output_type": "display_data",
          "data": {
            "text/plain": [
              "<IPython.core.display.HTML object>"
            ],
            "text/html": []
          },
          "metadata": {}
        },
        {
          "output_type": "display_data",
          "data": {
            "text/plain": [
              "<IPython.core.display.HTML object>"
            ],
            "text/html": [
              " View run <strong style=\"color:#cdcd00\">crimson-sunset-8</strong> at: <a href='https://wandb.ai/cs24m018-iitmaana/DA6401%20Assignment1/runs/viwm63rj' target=\"_blank\">https://wandb.ai/cs24m018-iitmaana/DA6401%20Assignment1/runs/viwm63rj</a><br> View project at: <a href='https://wandb.ai/cs24m018-iitmaana/DA6401%20Assignment1' target=\"_blank\">https://wandb.ai/cs24m018-iitmaana/DA6401%20Assignment1</a><br>Synced 5 W&B file(s), 0 media file(s), 0 artifact file(s) and 0 other file(s)"
            ]
          },
          "metadata": {}
        },
        {
          "output_type": "display_data",
          "data": {
            "text/plain": [
              "<IPython.core.display.HTML object>"
            ],
            "text/html": [
              "Find logs at: <code>./wandb/run-20250309_033936-viwm63rj/logs</code>"
            ]
          },
          "metadata": {}
        }
      ]
    },
    {
      "cell_type": "code",
      "source": [],
      "metadata": {
        "id": "sKowCJ3NJ9jL"
      },
      "execution_count": null,
      "outputs": []
    },
    {
      "cell_type": "markdown",
      "source": [
        "# Question 1"
      ],
      "metadata": {
        "id": "S-Dzn_qeKo9w"
      }
    },
    {
      "cell_type": "code",
      "source": [
        "import numpy as np\n",
        "import matplotlib.pyplot as plt\n",
        "from keras.datasets import fashion_mnist\n",
        "\n",
        "# Load the Fashion-MNIST dataset\n",
        "(x_train, y_train), (x_test, y_test) = fashion_mnist.load_data()\n",
        "\n",
        "\n",
        "wandb.init(project=\"DA6401 Assignment1\")\n",
        "runName = \"Generating Images\"\n",
        "wandb.run.name = runName\n",
        "wandb.run.save()\n",
        "\n",
        "# Define class labels\n",
        "class_labels = ['T-shirt/top', 'Trouser', 'Pullover', 'Dress', 'Coat', 'Sandal', 'Shirt', 'Sneaker', 'Bag', 'Ankle boot']\n",
        "\n",
        "fig, axs = plt.subplots(2,5)\n",
        "images = []\n",
        "\n",
        "# Loop through each class\n",
        "for i in range(10):\n",
        "    # Find the first image of the current class in the training set\n",
        "    idx = np.where(y_train == i)[0][0]\n",
        "\n",
        "    # Plot the image\n",
        "    x = i//5\n",
        "    y = i%5\n",
        "\n",
        "    wandb.log({\"Image\": wandb.Image(x_train[idx],caption=class_labels[i])})\n",
        "    axs[x,y].imshow(x_train[idx], cmap='gray')\n",
        "    axs[x,y].set_title(class_labels[i])\n",
        "    axs[x,y].axis('off')  # Turn off axis for better visualization\n",
        "\n",
        "wandb.finish()\n",
        "\n",
        "plt.tight_layout()\n",
        "plt.show()"
      ],
      "metadata": {
        "id": "bO_mQEoRLvts"
      },
      "execution_count": null,
      "outputs": []
    },
    {
      "cell_type": "markdown",
      "source": [
        "# Question 2"
      ],
      "metadata": {
        "id": "-Bs8voaCRs99"
      }
    },
    {
      "cell_type": "code",
      "source": [
        "from keras.datasets import mnist\n",
        "from keras.datasets import fashion_mnist\n",
        "from sklearn.model_selection import train_test_split\n",
        "from sklearn.metrics import accuracy_score\n",
        "from sklearn.metrics import confusion_matrix\n",
        "import numpy as np\n",
        "import matplotlib.pyplot as plt\n",
        "import seaborn as sns"
      ],
      "metadata": {
        "id": "VtAwQtTti1iC"
      },
      "execution_count": 2,
      "outputs": []
    },
    {
      "cell_type": "code",
      "source": [
        "# Activation Functions\n",
        "\n",
        "def sigmoid(X):\n",
        "  X = np.clip(X, -500, 500)  # Clipping x to avoid overflow\n",
        "  return 1./(1+np.exp(-X))\n",
        "\n",
        "def tanh(X):\n",
        "  return np.tanh(X)\n",
        "\n",
        "def relu(X):\n",
        "  return np.maximum(0,X)\n",
        "\n",
        "def softMax(X):\n",
        "  # subtracting maxVal for stability\n",
        "  maxVal = np.max(X,axis=0,keepdims=True)\n",
        "  X = X - maxVal\n",
        "  return np.exp(X)/np.sum(np.exp(X),axis=0,keepdims=True)\n",
        "\n",
        "\n",
        "# Gradient Activation Functions\n",
        "\n",
        "def sigmoidGrad(X):\n",
        "  S = sigmoid(X)\n",
        "  return S * (1 - S)\n",
        "\n",
        "def tanhGrad(X):\n",
        "  return 1-tanh(X)**2\n",
        "\n",
        "def reluGrad(X):\n",
        "  return np.where(X>0,1,0)\n",
        "\n",
        "def softMaxGrad(X):\n",
        "  S = softMax(X)\n",
        "  return np.diagflat(S) - np.outer(S, S)\n",
        "\n",
        "# Weight Initializations\n",
        "\n",
        "def randomInit(shape):\n",
        "  return np.random.randn(*shape)*0.01\n",
        "\n",
        "def xavierInit(shape):\n",
        "  inputCount,outputCount = shape\n",
        "  std = np.sqrt(2/(inputCount+outputCount))\n",
        "  return np.random.normal(0,std,shape)"
      ],
      "metadata": {
        "id": "K9ycPapWpQYx"
      },
      "execution_count": 3,
      "outputs": []
    },
    {
      "cell_type": "code",
      "source": [
        "class feedForwardNeuralNetwork:\n",
        "\n",
        "  def __init__(self,inputSize,hiddenSize,hiddenLayerCount,outputSize,epochs,batchSize,optimiser,weightDecay,beta=0.9,lossFunc=\"crossEntropyLoss\",activationFunc=\"tanh\",learningRate=0.001,beta1=0.9,beta2=0.999,dataset=\"fashionMNIST\",isWandb=False,initMode=\"xavier\"):\n",
        "    self.inputSize = inputSize\n",
        "    self.hiddenSize = hiddenSize\n",
        "    self.hiddenLayerCount = hiddenLayerCount\n",
        "    self.outputSize = outputSize\n",
        "    self.epochs = epochs\n",
        "    self.batchSize = batchSize\n",
        "    self.weightDecay = weightDecay\n",
        "    self.beta = beta\n",
        "    self.beta1 = beta1\n",
        "    self.beta2 = beta2\n",
        "    self.lossFunc = lossFunc\n",
        "    self.activationFunc = activationFunc\n",
        "    self.learningRate = learningRate\n",
        "    self.optimiser = optimiser\n",
        "    self.isWandb = isWandb\n",
        "    self.initMode = initMode\n",
        "    self.dataset = dataset\n",
        "\n",
        "    self.weights = []\n",
        "    self.biases = []\n",
        "    self.activationLayer = []\n",
        "    self.preActivationLayer = []\n",
        "\n",
        "    # loading the data from dataset into X and y into train,test and val data\n",
        "    if self.dataset == \"fashionMNIST\":\n",
        "      (X_train, y_train), (X_test, y_test) = fashion_mnist.load_data()\n",
        "      X_train, X_val, y_train, y_val = train_test_split(X_train, y_train, test_size=0.2)\n",
        "    elif self.dataset == \"MNIST\":\n",
        "      (X_train, y_train), (X_test, y_test) = mnist.load_data()\n",
        "      X_train, X_val, y_train, y_val = train_test_split(X_train, y_train, test_size=0.2)\n",
        "\n",
        "    # normalizing and resizing images\n",
        "    X_train = X_train.flatten().reshape(X_train.shape[0], -1) / 255.0\n",
        "    X_val = X_val.flatten().reshape(X_val.shape[0], -1) / 255.0\n",
        "    X_test = X_test.flatten().reshape(X_test.shape[0], -1) / 255.0\n",
        "\n",
        "    X_train = X_train.T\n",
        "    X_val = X_val.T\n",
        "    X_test = X_test.T\n",
        "\n",
        "    self.X_train = X_train\n",
        "    self.y_train = y_train\n",
        "    self.X_val = X_val\n",
        "    self.y_val = y_val\n",
        "    self.X_test = X_test\n",
        "    self.y_test = y_test\n",
        "\n",
        "  def initialize(self):\n",
        "\n",
        "    weights = []\n",
        "    biases = []\n",
        "    activationLayer = []\n",
        "    preActivationLayer = []\n",
        "\n",
        "    #initializing inputWeights\n",
        "    if self.initMode == 'xavier':\n",
        "      weights.append(xavierInit((self.hiddenSize,self.inputSize)))\n",
        "    else:\n",
        "      weights.append(randomInit((self.hiddenSize,self.inputSize)))\n",
        "    biases.append(np.zeros((self.hiddenSize,1))) # initializing biases to 0.\n",
        "\n",
        "    for i in range(1,self.hiddenLayerCount):\n",
        "      if self.initMode == 'xavier': # initializing random weights\n",
        "        weights.append(xavierInit((self.hiddenSize,self.hiddenSize)))\n",
        "      else:\n",
        "        weights.append(randomInit((self.hiddenSize,self.hiddenSize)))\n",
        "      biases.append(np.zeros((self.hiddenSize,1))) # initializing biases to 0.\n",
        "\n",
        "    # Initializing weights from lastHidden layer to output layer\n",
        "    if self.initMode == 'xavier': # initializing random weights\n",
        "      weights.append(xavierInit((self.outputSize,self.hiddenSize)))\n",
        "    else:\n",
        "      weights.append(randomInit((self.outputSize,self.hiddenSize)))\n",
        "    biases.append(np.zeros((self.outputSize,1))) # initializing biases to 0.\n",
        "\n",
        "    # updating parameters\n",
        "    self.weights = weights\n",
        "    self.biases = biases\n",
        "    self.activationLayer = activationLayer\n",
        "    self.preActivationLayer = preActivationLayer\n",
        "\n",
        "  # takes a vector and applies activation function on it.\n",
        "  def activateLayer(self,X):\n",
        "\n",
        "    type = self.activationFunc\n",
        "    if type == 'sigmoid':\n",
        "      activatedLayer = sigmoid(X)\n",
        "    elif type == 'tanh':\n",
        "      activatedLayer = tanh(X)\n",
        "    elif type == 'relu':\n",
        "      activatedLayer = relu(X)\n",
        "    elif type == 'softmax':\n",
        "      activatedLayer = softMax(X)\n",
        "\n",
        "    return activatedLayer\n",
        "\n",
        "  # calculation g'(ai(x))\n",
        "  def gradActivationLayer(self,X):\n",
        "\n",
        "    type = self.activationFunc\n",
        "    if type == 'sigmoid':\n",
        "      gradActivatedLayer = sigmoidGrad(X)\n",
        "    elif type == 'tanh':\n",
        "      gradActivatedLayer = tanhGrad(X)\n",
        "    elif type == 'relu':\n",
        "      gradActivatedLayer = reluGrad(X)\n",
        "    elif type == 'softmax':\n",
        "      gradActivatedLayer = softMaxGrad(X)\n",
        "\n",
        "    return gradActivatedLayer\n",
        "\n",
        "  # applying softmax on output layer\n",
        "  def outputActivationLayer(self,X):\n",
        "    return softMax(X)\n",
        "\n",
        "  # getting a0 = W0X+B\n",
        "  def inputLayer(self,X):\n",
        "    return np.dot(self.weights[0],X)+self.biases[0]\n",
        "\n",
        "  # getting preactivation layers of next layer from activated layer of curr level and weights\n",
        "  def hiddenLayer(self,X,layerNo):\n",
        "    activatedLayer = self.activateLayer(X)\n",
        "    self.activationLayer.append(activatedLayer)\n",
        "    return np.dot(self.weights[layerNo],activatedLayer)+self.biases[layerNo]\n",
        "\n",
        "  # forward propogation\n",
        "  def forward(self,X):\n",
        "    self.activationLayer=[]\n",
        "    self.preActivationLayer=[]\n",
        "    self.activationLayer.append(X) # h0 is input\n",
        "    self.preActivationLayer.append(self.inputLayer(X))\n",
        "    for num in range(1,self.hiddenLayerCount+1):\n",
        "      self.preActivationLayer.append(self.hiddenLayer(self.preActivationLayer[num-1],num))\n",
        "\n",
        "    self.output = self.outputActivationLayer(self.preActivationLayer[self.hiddenLayerCount])\n",
        "\n",
        "    return self.output\n",
        "\n",
        "  #backpropogation\n",
        "  def backPropagation(self,X,ypred,y,weights,ai_x,hi_x,loss=\"crossEntropyLoss\",activationType=\"softmax\"):\n",
        "\n",
        "    m = X.shape[1]\n",
        "    dw = []\n",
        "    db = []\n",
        "    grad_ai = 0\n",
        "    grad_al = 0\n",
        "    grad_Wi = 0\n",
        "    grad_bi = 0\n",
        "\n",
        "    # gradient of loss w.r.t pre-activation of output layer\n",
        "\n",
        "    y_one_hot = np.eye(self.outputSize)[y].T\n",
        "\n",
        "    if loss == \"crossEntropyLoss\":\n",
        "      grad_al = -(y_one_hot-ypred)\n",
        "    elif loss == \"squaredLoss\":\n",
        "      grad_al = (ypred-y_one_hot)*ypred*(1-ypred)\n",
        "      grad_al = grad_al/m\n",
        "\n",
        "    grad_ai = grad_al\n",
        "\n",
        "    for k in range(self.hiddenLayerCount,-1,-1):\n",
        "      # Gradient of loss w.r.t weights of kth layer\n",
        "      grad_Wi = np.dot(grad_ai, hi_x[k].T)\n",
        "      dw.append(grad_Wi)\n",
        "\n",
        "      # Gradient of loss w.r.t biases of kth layer\n",
        "      grad_bi = np.sum(grad_ai, axis=1, keepdims=True)\n",
        "      db.append(grad_bi)\n",
        "\n",
        "      if(k>0):\n",
        "        grad_h = np.dot(weights[k].T,grad_ai)\n",
        "        grad_ai = grad_h * self.gradActivationLayer(ai_x[k-1])\n",
        "\n",
        "    # reversing arrays as we stored from last layer to first\n",
        "    dw.reverse()\n",
        "    db.reverse()\n",
        "\n",
        "    for i in range(len(dw)):\n",
        "      dw[i] += self.weightDecay*weights[i]\n",
        "\n",
        "    return dw,db\n",
        "\n",
        "  def calcAccuracyandLoss(self,weights,biases,input,labels,activationFunc=\"softmax\"):\n",
        "    n = input.shape[1]\n",
        "    loss = 0\n",
        "    accuracy = 0\n",
        "    labels_one_hot = np.eye(10)[labels].T\n",
        "\n",
        "    yPred = input\n",
        "    for i in range(self.hiddenLayerCount):\n",
        "      yPred = np.dot(weights[i],yPred)+biases[i]\n",
        "      yPred = self.activateLayer(yPred)\n",
        "\n",
        "    yPred = np.dot(weights[self.hiddenLayerCount],yPred)+biases[self.hiddenLayerCount]\n",
        "    yPred = self.outputActivationLayer(yPred)\n",
        "\n",
        "    for i in range(self.hiddenLayerCount+1):\n",
        "      loss+= self.weightDecay*np.linalg.norm(weights[i])\n",
        "\n",
        "    for i in range(n):\n",
        "      y_pred = np.argmax(yPred[:,i])\n",
        "      if labels[i]==y_pred:\n",
        "        accuracy+=1\n",
        "\n",
        "      if self.lossFunc == \"crossEntropyLoss\":\n",
        "        loss += -np.log(yPred[:,i][labels[i]]+1e-15)\n",
        "      else:\n",
        "        loss += np.sum((yPred[:,i]-labels_one_hot[i])**2)\n",
        "\n",
        "    return (accuracy*100)/n,loss/n\n",
        "\n",
        "  def predict(self,weights,biases,input,labels):\n",
        "    n = input.shape[1]\n",
        "    loss = 0\n",
        "    accuracy = 0\n",
        "\n",
        "    yPred = input\n",
        "    for i in range(self.hiddenLayerCount):\n",
        "      yPred = np.dot(weights[i],yPred)+biases[i]\n",
        "      yPred = self.activateLayer(yPred)\n",
        "\n",
        "    yPred = np.dot(weights[self.hiddenLayerCount],yPred)+biases[self.hiddenLayerCount]\n",
        "    yPred = self.outputActivationLayer(yPred)\n",
        "\n",
        "    predictions = []\n",
        "    for i in range(n):\n",
        "      y_pred = np.argmax(yPred[:,i])\n",
        "      predictions.append(y_pred)\n",
        "    return predictions\n",
        "\n",
        "  def sgd(self):\n",
        "    self.initialize()\n",
        "\n",
        "    it = 0\n",
        "    while it < self.epochs:\n",
        "      it += 1\n",
        "\n",
        "      i = 0\n",
        "      while i<len(self.X_train):\n",
        "        batch_end = min(i + self.batchSize, self.X_train.shape[1])\n",
        "        ypred = self.forward(self.X_train[:,i:batch_end])\n",
        "        dw,db = self.backPropagation(self.X_train[:,i:batch_end],ypred,self.y_train[i:batch_end],self.weights,\n",
        "                                     self.preActivationLayer,self.activationLayer,self.lossFunc,self.activationFunc)\n",
        "\n",
        "        for k in range(len(dw)):\n",
        "          self.weights[k] -= self.learningRate*dw[k]\n",
        "          self.biases[k] -= self.learningRate*db[k]\n",
        "\n",
        "        i += self.batchSize\n",
        "      accuracy, loss = self.calcAccuracyandLoss(self.weights,self.biases,self.X_train,self.y_train,self.activationFunc)\n",
        "      validationAccuracy , validationLoss = self.calcAccuracyandLoss(self.weights,self.biases,self.X_val,self.y_val,self.activationFunc)\n",
        "\n",
        "      print(\"Validation Accuracy: \",validationAccuracy)\n",
        "      print(\"Validation Loss: \",validationLoss)\n",
        "      print(\"Training Accuracy: \",accuracy)\n",
        "      print(\"Training Loss: \",loss)\n",
        "\n",
        "      if self.isWandb:\n",
        "        wandb.log({\"Training Accuracy\": accuracy})\n",
        "        wandb.log({\"Training Loss\": loss})\n",
        "        wandb.log({\"Validation Accuracy\": validationAccuracy})\n",
        "        wandb.log({\"Validation Loss\": validationLoss})\n",
        "        wandb.log({\"Epoch\": it})\n",
        "        wandb.log({\"Learning Rate\": self.learningRate})\n",
        "        wandb.log({\"Batch Size\": self.batchSize})\n",
        "        wandb.log({\"Optimiser\": self.optimiser})\n",
        "\n",
        "  def momentumBasedGradientDescent(self):\n",
        "    self.initialize()\n",
        "\n",
        "    # Properly initialize momentum\n",
        "    uw = [np.zeros_like(w) for w in self.weights]\n",
        "    ub = [np.zeros_like(b) for b in self.biases]\n",
        "\n",
        "    it = 0\n",
        "    while it < self.epochs:\n",
        "      it += 1\n",
        "\n",
        "      i = 0\n",
        "      while i < len(self.X_train):\n",
        "        batch_end = min(i + self.batchSize, self.X_train.shape[1])\n",
        "        ypred = self.forward(self.X_train[:,i:batch_end])\n",
        "        dw,db = self.backPropagation(self.X_train[:,i:batch_end],ypred,self.y_train[i:batch_end],self.weights,\n",
        "                                     self.preActivationLayer,self.activationLayer,self.lossFunc,self.activationFunc)\n",
        "\n",
        "        # Update momentum and weights for each layer\n",
        "        for k in range(len(dw)):\n",
        "          uw[k] = self.beta * uw[k] + dw[k]\n",
        "          ub[k] = self.beta * ub[k] + db[k]\n",
        "\n",
        "        for k in range(len(dw)):\n",
        "          self.weights[k] -= self.learningRate * uw[k]\n",
        "          self.biases[k] -= self.learningRate * ub[k]\n",
        "\n",
        "        i += self.batchSize\n",
        "      accuracy, loss = self.calcAccuracyandLoss(self.weights,self.biases,self.X_train,self.y_train,self.activationFunc)\n",
        "      validationAccuracy , validationLoss = self.calcAccuracyandLoss(self.weights,self.biases,self.X_val,self.y_val,self.activationFunc)\n",
        "\n",
        "      print(\"Validation Accuracy: \",validationAccuracy)\n",
        "      print(\"Validation Loss: \",validationLoss)\n",
        "      print(\"Training Accuracy: \",accuracy)\n",
        "      print(\"Training Loss: \",loss)\n",
        "\n",
        "      if self.isWandb:\n",
        "        wandb.log({\"Training Accuracy\": accuracy})\n",
        "        wandb.log({\"Training Loss\": loss})\n",
        "        wandb.log({\"Validation Accuracy\": validationAccuracy})\n",
        "        wandb.log({\"Validation Loss\": validationLoss})\n",
        "        wandb.log({\"Epoch\": it})\n",
        "        wandb.log({\"Learning Rate\": self.learningRate})\n",
        "        wandb.log({\"Batch Size\": self.batchSize})\n",
        "        wandb.log({\"Optimiser\": self.optimiser})\n",
        "\n",
        "  def nesterovAcceleratedBasedGradientDescent(self):\n",
        "    self.initialize()\n",
        "\n",
        "    # Properly initialize momentum\n",
        "    uw = [np.zeros_like(w) for w in self.weights]\n",
        "    ub = [np.zeros_like(b) for b in self.biases]\n",
        "\n",
        "    it=0\n",
        "    while it<self.epochs:\n",
        "      it+=1\n",
        "\n",
        "      i=0\n",
        "      while i<len(self.X_train):\n",
        "        batch_end = min(i + self.batchSize, self.X_train.shape[1])\n",
        "        ypred = self.forward(self.X_train[:,i:batch_end])\n",
        "        dw,db = self.backPropagation(self.X_train[:,i:batch_end],ypred,self.y_train[i:batch_end],self.weights,\n",
        "                                     self.preActivationLayer,self.activationLayer,self.lossFunc,self.activationFunc)\n",
        "\n",
        "        for k in range(len(dw)):\n",
        "          uw[k] = self.beta*uw[k] + dw[k]\n",
        "          ub[k] = self.beta*ub[k] + db[k]\n",
        "\n",
        "        for k in range(len(dw)):\n",
        "          self.weights[k] -= self.learningRate*(self.beta*uw[k] + dw[k])\n",
        "          self.biases[k] -= self.learningRate*(self.beta*ub[k] + db[k])\n",
        "\n",
        "        i += self.batchSize\n",
        "      accuracy, loss = self.calcAccuracyandLoss(self.weights,self.biases,self.X_train,self.y_train,self.activationFunc)\n",
        "      validationAccuracy , validationLoss = self.calcAccuracyandLoss(self.weights,self.biases,self.X_val,self.y_val,self.activationFunc)\n",
        "\n",
        "      print(\"Validation Accuracy: \",validationAccuracy)\n",
        "      print(\"Validation Loss: \",validationLoss)\n",
        "      print(\"Training Accuracy: \",accuracy)\n",
        "      print(\"Training Loss: \",loss)\n",
        "\n",
        "      if self.isWandb:\n",
        "        wandb.log({\"Training Accuracy\": accuracy})\n",
        "        wandb.log({\"Training Loss\": loss})\n",
        "        wandb.log({\"Validation Accuracy\": validationAccuracy})\n",
        "        wandb.log({\"Validation Loss\": validationLoss})\n",
        "        wandb.log({\"Epoch\": it})\n",
        "        wandb.log({\"Learning Rate\": self.learningRate})\n",
        "        wandb.log({\"Batch Size\": self.batchSize})\n",
        "        wandb.log({\"Optimiser\": self.optimiser})\n",
        "\n",
        "  def rmsProp(self):\n",
        "    self.initialize()\n",
        "\n",
        "    v_w = [np.zeros_like(w) for w in self.weights]\n",
        "    v_b = [np.zeros_like(b) for b in self.biases]\n",
        "\n",
        "    eps = 1e-8\n",
        "    it = 0\n",
        "\n",
        "    while it < self.epochs:\n",
        "      it += 1\n",
        "\n",
        "      i = 0\n",
        "      while i < len(self.X_train):\n",
        "          batch_end = min(i + self.batchSize, self.X_train.shape[1])\n",
        "          X_batch = self.X_train[:, i:batch_end]\n",
        "          y_batch = self.y_train[i:batch_end]\n",
        "\n",
        "          # Forward pass\n",
        "          ypred = self.forward(X_batch)\n",
        "\n",
        "          # Backward pass\n",
        "          dw, db = self.backPropagation(X_batch, ypred, y_batch, self.weights,\n",
        "                                      self.preActivationLayer, self.activationLayer,self.lossFunc, self.activationFunc)\n",
        "\n",
        "          # Update velocity and weights for each layer\n",
        "          for k in range(len(dw)):\n",
        "              v_w[k] = self.beta * v_w[k] + (1 - self.beta) * (dw[k]**2)\n",
        "              v_b[k] = self.beta * v_b[k] + (1 - self.beta) * (db[k]**2)\n",
        "\n",
        "              self.weights[k] -= (self.learningRate / (np.sqrt(v_w[k]) + eps)) * dw[k]\n",
        "              self.biases[k] -= (self.learningRate / (np.sqrt(v_b[k]) + eps)) * db[k]\n",
        "          i += self.batchSize\n",
        "      accuracy, loss = self.calcAccuracyandLoss(self.weights,self.biases,self.X_train,self.y_train,self.activationFunc)\n",
        "      validationAccuracy , validationLoss = self.calcAccuracyandLoss(self.weights,self.biases,self.X_val,self.y_val,self.activationFunc)\n",
        "\n",
        "      print(\"Validation Accuracy: \",validationAccuracy)\n",
        "      print(\"Validation Loss: \",validationLoss)\n",
        "      print(\"Training Accuracy: \",accuracy)\n",
        "      print(\"Training Loss: \",loss)\n",
        "\n",
        "      if self.isWandb:\n",
        "        wandb.log({\"Training Accuracy\": accuracy})\n",
        "        wandb.log({\"Training Loss\": loss})\n",
        "        wandb.log({\"Validation Accuracy\": validationAccuracy})\n",
        "        wandb.log({\"Validation Loss\": validationLoss})\n",
        "        wandb.log({\"Epoch\": it})\n",
        "        wandb.log({\"Learning Rate\": self.learningRate})\n",
        "        wandb.log({\"Batch Size\": self.batchSize})\n",
        "        wandb.log({\"Optimiser\": self.optimiser})\n",
        "\n",
        "  def adam(self):\n",
        "    self.initialize()\n",
        "\n",
        "    v_w = [np.zeros_like(w) for w in self.weights]\n",
        "    v_b = [np.zeros_like(b) for b in self.biases]\n",
        "    m_w = [np.zeros_like(w) for w in self.weights]\n",
        "    m_b = [np.zeros_like(b) for b in self.biases]\n",
        "\n",
        "    eps = 1e-8\n",
        "    it = 0\n",
        "    t = 0\n",
        "\n",
        "    while it < self.epochs:\n",
        "      it += 1\n",
        "      i = 0\n",
        "\n",
        "      while i < len(self.X_train):\n",
        "        batch_end = min(i + self.batchSize, self.X_train.shape[1])\n",
        "        X_batch = self.X_train[:, i:batch_end]\n",
        "        y_batch = self.y_train[i:batch_end]\n",
        "\n",
        "        # Forward pass\n",
        "        ypred = self.forward(X_batch)\n",
        "\n",
        "        # Backward pass\n",
        "        dw, db = self.backPropagation(X_batch, ypred, y_batch, self.weights,\n",
        "                                    self.preActivationLayer, self.activationLayer, self.lossFunc, self.activationFunc)\n",
        "\n",
        "        t += 1\n",
        "\n",
        "        # Update momentum for each layer\n",
        "        for k in range(len(dw)):\n",
        "          m_w[k] = self.beta1 * m_w[k] + (1 - self.beta1) * dw[k]\n",
        "          m_b[k] = self.beta1 * m_b[k] + (1 - self.beta1) * db[k]\n",
        "\n",
        "          v_w[k] = self.beta2 * v_w[k] + (1 - self.beta2) * (dw[k]**2)\n",
        "          v_b[k] = self.beta2 * v_b[k] + (1 - self.beta2) * (db[k]**2)\n",
        "\n",
        "          # Bias correction\n",
        "          mhat_w = m_w[k] / (1 - self.beta1**t)\n",
        "          mhat_b = m_b[k] / (1 - self.beta1**t)\n",
        "\n",
        "          vhat_w = v_w[k] / (1 - self.beta2**t)\n",
        "          vhat_b = v_b[k] / (1 - self.beta2**t)\n",
        "\n",
        "          self.weights[k] -= (self.learningRate / (np.sqrt(vhat_w) + eps)) * mhat_w\n",
        "          self.biases[k] -= (self.learningRate / (np.sqrt(vhat_b) + eps)) * mhat_b\n",
        "        i += self.batchSize\n",
        "      accuracy, loss = self.calcAccuracyandLoss(self.weights,self.biases,self.X_train,self.y_train,self.activationFunc)\n",
        "      validationAccuracy , validationLoss = self.calcAccuracyandLoss(self.weights,self.biases,self.X_val,self.y_val,self.activationFunc)\n",
        "\n",
        "      print(\"Validation Accuracy: \",validationAccuracy)\n",
        "      print(\"Validation Loss: \",validationLoss)\n",
        "      print(\"Training Accuracy: \",accuracy)\n",
        "      print(\"Training Loss: \",loss)\n",
        "\n",
        "      if self.isWandb:\n",
        "        wandb.log({\"Training Accuracy\": accuracy})\n",
        "        wandb.log({\"Training Loss\": loss})\n",
        "        wandb.log({\"Validation Accuracy\": validationAccuracy})\n",
        "        wandb.log({\"Validation Loss\": validationLoss})\n",
        "        wandb.log({\"Epoch\": it})\n",
        "        wandb.log({\"Learning Rate\": self.learningRate})\n",
        "        wandb.log({\"Batch Size\": self.batchSize})\n",
        "        wandb.log({\"Optimiser\": self.optimiser})\n",
        "\n",
        "  def nadam(self):\n",
        "    self.initialize()\n",
        "\n",
        "    v_w = [np.zeros_like(w) for w in self.weights]\n",
        "    v_b = [np.zeros_like(b) for b in self.biases]\n",
        "    m_w = [np.zeros_like(w) for w in self.weights]\n",
        "    m_b = [np.zeros_like(b) for b in self.biases]\n",
        "\n",
        "    eps = 1e-8\n",
        "    it = 0\n",
        "    t = 0\n",
        "\n",
        "    while it < self.epochs:\n",
        "      it += 1\n",
        "      i = 0\n",
        "\n",
        "      while i < self.X_train.shape[1]:\n",
        "        batch_end = min(i + self.batchSize, self.X_train.shape[1])\n",
        "        X_batch = self.X_train[:, i:batch_end]\n",
        "        y_batch = self.y_train[i:batch_end]\n",
        "\n",
        "        # Forward pass\n",
        "        ypred = self.forward(X_batch)\n",
        "\n",
        "        # Backward pass\n",
        "        dw, db = self.backPropagation(X_batch, ypred, y_batch, self.weights,\n",
        "                                    self.preActivationLayer, self.activationLayer, self.lossFunc, self.activationFunc)\n",
        "\n",
        "        t += 1\n",
        "\n",
        "        # Update momentum for each layer\n",
        "        for k in range(len(dw)):\n",
        "          m_w[k] = self.beta1 * m_w[k] + (1 - self.beta1) * dw[k]\n",
        "          m_b[k] = self.beta1 * m_b[k] + (1 - self.beta1) * db[k]\n",
        "\n",
        "          v_w[k] = self.beta2 * v_w[k] + (1 - self.beta2) * (dw[k]**2)\n",
        "          v_b[k] = self.beta2 * v_b[k] + (1 - self.beta2) * (db[k]**2)\n",
        "\n",
        "          # Bias correction\n",
        "          mhat_w = m_w[k] / (1 - self.beta1**t)\n",
        "          mhat_b = m_b[k] / (1 - self.beta1**t)\n",
        "\n",
        "          vhat_w = v_w[k] / (1 - self.beta2**t)\n",
        "          vhat_b = v_b[k] / (1 - self.beta2**t)\n",
        "\n",
        "          self.weights[k] -= (self.learningRate / (np.sqrt(vhat_w) + eps)) * (self.beta1 * mhat_w + (1 - self.beta1) * dw[k] / (1 - self.beta1**t))\n",
        "          self.biases[k] -= (self.learningRate / (np.sqrt(vhat_b) + eps)) * (self.beta1 * mhat_b + (1 - self.beta1) * db[k] / (1 - self.beta1**t))\n",
        "        i += self.batchSize\n",
        "      accuracy, loss = self.calcAccuracyandLoss(self.weights,self.biases,self.X_train,self.y_train,self.activationFunc)\n",
        "      validationAccuracy , validationLoss = self.calcAccuracyandLoss(self.weights,self.biases,self.X_val,self.y_val,self.activationFunc)\n",
        "\n",
        "      print(\"Validation Accuracy: \",validationAccuracy)\n",
        "      print(\"Validation Loss: \",validationLoss)\n",
        "      print(\"Training Accuracy: \",accuracy)\n",
        "      print(\"Training Loss: \",loss)\n",
        "\n",
        "      if self.isWandb:\n",
        "        wandb.log({\"Training Accuracy\": accuracy})\n",
        "        wandb.log({\"Training Loss\": loss})\n",
        "        wandb.log({\"Validation Accuracy\": validationAccuracy})\n",
        "        wandb.log({\"Validation Loss\": validationLoss})\n",
        "        wandb.log({\"Epoch\": it})\n",
        "        wandb.log({\"Learning Rate\": self.learningRate})\n",
        "        wandb.log({\"Batch Size\": self.batchSize})\n",
        "        wandb.log({\"Optimiser\": self.optimiser})\n",
        "\n",
        "  def fit(self):\n",
        "    if self.optimiser == \"sgd\":\n",
        "      self.sgd()\n",
        "    elif self.optimiser == \"momentumBasedGradientDescent\":\n",
        "      self.momentumBasedGradientDescent()\n",
        "    elif self.optimiser == \"nesterovAcceleratedBasedGradientDescent\":\n",
        "      self.nesterovAcceleratedBasedGradientDescent()\n",
        "    elif self.optimiser == \"rmsProp\":\n",
        "      self.rmsProp()\n",
        "    elif self.optimiser == \"adam\":\n",
        "      self.adam()\n",
        "    elif self.optimiser == \"nadam\":\n",
        "      self.nadam()\n",
        "\n",
        "  def confusionMatrix(self):\n",
        "    predictions = self.predict(self.weights,self.biases,self.X_test,self.y_test)\n",
        "\n",
        "    if self.dataset == \"fashion_mnist\":\n",
        "      classLabels = [\"T-shirt/Top\", \"Trouser\", \"Pullover\", \"Dress\", \"Coat\", \"Sandal\", \"Shirt\", \"Sneaker\", \"Bag\", \"Ankle Boot\"]\n",
        "    else:\n",
        "      classLabels = [\"0\", \"1\", \"2\", \"3\", \"4\", \"5\", \"6\", \"7\", \"8\", \"9\"]\n",
        "\n",
        "    if self.isWandb == True:\n",
        "      conf_matrix = confusion_matrix(self.y_test, predictions)\n",
        "      plt.figure(figsize=(10, 7))\n",
        "      sns_heatmap = sns.heatmap(conf_matrix, annot=True, fmt='d', cmap='Blues',\n",
        "                                xticklabels=classLabels, yticklabels=classLabels)\n",
        "      plt.title('Confusion Matrix')\n",
        "      plt.ylabel('True Label')\n",
        "      plt.xlabel('Predicted Label')\n",
        "\n",
        "      # Save the plot to an image file\n",
        "      heatmap_image_filename = \"confusion_matrix_heatmap.png\"\n",
        "      plt.savefig(heatmap_image_filename)\n",
        "      plt.close()  # Close the plot to avoid displaying it in the notebook/output\n",
        "\n",
        "      # Log the image to Wandb\n",
        "      wandb.log({\"confusion_matrix_custom\": wandb.Image(heatmap_image_filename)})\n",
        "\n",
        "    else:\n",
        "      conf_matrix = confusion_matrix(self.y_test, predictions)\n",
        "      plt.figure(figsize=(10, 7))\n",
        "      sns.heatmap(conf_matrix, annot=True, fmt='d', cmap='Blues',\n",
        "                  xticklabels= classLabels,\n",
        "                  yticklabels= classLabels)\n",
        "      plt.title('Confusion Matrix')\n",
        "      plt.ylabel('True Label')\n",
        "      plt.xlabel('Predicted Label')\n",
        "      plt.show()"
      ],
      "metadata": {
        "id": "RLhhKz1piEft"
      },
      "execution_count": 23,
      "outputs": []
    },
    {
      "cell_type": "code",
      "source": [
        "model = feedForwardNeuralNetwork(inputSize=784,hiddenSize=64,hiddenLayerCount=4,outputSize=10,batchSize=32,learningRate=1e-4,initMode = \"xavier\", optimiser = \"nadam\", activationFunc=\"tanh\",weightDecay = 0.0005,lossFunc = \"crossEntropyLoss\", epochs = 25,dataset=\"fashionMNIST\")"
      ],
      "metadata": {
        "id": "jOhn0v2_CZaG"
      },
      "execution_count": 24,
      "outputs": []
    },
    {
      "cell_type": "code",
      "source": [
        "model.fit()"
      ],
      "metadata": {
        "id": "H8uCqktZyDRI",
        "colab": {
          "base_uri": "https://localhost:8080/"
        },
        "outputId": "4ff88ad8-dfa5-4c54-a200-696e10fa7b8a"
      },
      "execution_count": 25,
      "outputs": [
        {
          "output_type": "stream",
          "name": "stdout",
          "text": [
            "Validation Accuracy:  83.15833333333333\n",
            "Validation Loss:  0.4960096356432739\n",
            "Training Accuracy:  83.25833333333334\n",
            "Training Loss:  0.49185336444688654\n",
            "Validation Accuracy:  85.15833333333333\n",
            "Validation Loss:  0.4278684353005466\n",
            "Training Accuracy:  85.30833333333334\n",
            "Training Loss:  0.4186025767083022\n",
            "Validation Accuracy:  85.70833333333333\n",
            "Validation Loss:  0.40207305812390487\n",
            "Training Accuracy:  86.23125\n",
            "Training Loss:  0.3878758139801917\n",
            "Validation Accuracy:  86.225\n",
            "Validation Loss:  0.3866299452307638\n",
            "Training Accuracy:  86.91458333333334\n",
            "Training Loss:  0.36815813996716623\n",
            "Validation Accuracy:  86.55\n",
            "Validation Loss:  0.37561930544232036\n",
            "Training Accuracy:  87.40208333333334\n",
            "Training Loss:  0.35330281106079026\n",
            "Validation Accuracy:  86.875\n",
            "Validation Loss:  0.36720654268858083\n",
            "Training Accuracy:  87.8125\n",
            "Training Loss:  0.3413445816619324\n",
            "Validation Accuracy:  87.15833333333333\n",
            "Validation Loss:  0.36041505451539674\n",
            "Training Accuracy:  88.10833333333333\n",
            "Training Loss:  0.33123093858038755\n",
            "Validation Accuracy:  87.28333333333333\n",
            "Validation Loss:  0.3547319044955316\n",
            "Training Accuracy:  88.3875\n",
            "Training Loss:  0.32237512264244106\n",
            "Validation Accuracy:  87.5\n",
            "Validation Loss:  0.34988047730619676\n",
            "Training Accuracy:  88.67708333333333\n",
            "Training Loss:  0.31442366885762374\n",
            "Validation Accuracy:  87.5\n",
            "Validation Loss:  0.3457144851922636\n",
            "Training Accuracy:  88.90833333333333\n",
            "Training Loss:  0.30718750300874115\n",
            "Validation Accuracy:  87.625\n",
            "Validation Loss:  0.34209574668454307\n",
            "Training Accuracy:  89.09583333333333\n",
            "Training Loss:  0.30054139285796205\n",
            "Validation Accuracy:  87.65833333333333\n",
            "Validation Loss:  0.33889378763815\n",
            "Training Accuracy:  89.34583333333333\n",
            "Training Loss:  0.2943602771955041\n",
            "Validation Accuracy:  87.76666666666667\n",
            "Validation Loss:  0.33603328414597305\n",
            "Training Accuracy:  89.57708333333333\n",
            "Training Loss:  0.2885473396216634\n",
            "Validation Accuracy:  87.88333333333334\n",
            "Validation Loss:  0.33347824382447344\n",
            "Training Accuracy:  89.78125\n",
            "Training Loss:  0.2830343611689391\n",
            "Validation Accuracy:  87.94166666666666\n",
            "Validation Loss:  0.3312089355228033\n",
            "Training Accuracy:  89.98541666666667\n",
            "Training Loss:  0.27777915270272446\n",
            "Validation Accuracy:  87.975\n",
            "Validation Loss:  0.3292075131917097\n",
            "Training Accuracy:  90.1375\n",
            "Training Loss:  0.27275554652736245\n",
            "Validation Accuracy:  88.15\n",
            "Validation Loss:  0.3274568501329474\n",
            "Training Accuracy:  90.3125\n",
            "Training Loss:  0.2679464527046689\n",
            "Validation Accuracy:  88.225\n",
            "Validation Loss:  0.3259399779057136\n",
            "Training Accuracy:  90.4875\n",
            "Training Loss:  0.26334017902959794\n",
            "Validation Accuracy:  88.19166666666666\n",
            "Validation Loss:  0.32463887259418334\n",
            "Training Accuracy:  90.61666666666666\n",
            "Training Loss:  0.25892755141507673\n",
            "Validation Accuracy:  88.24166666666666\n",
            "Validation Loss:  0.3235340178892317\n",
            "Training Accuracy:  90.74791666666667\n",
            "Training Loss:  0.254699688235367\n",
            "Validation Accuracy:  88.275\n",
            "Validation Loss:  0.32260527975192926\n",
            "Training Accuracy:  90.86875\n",
            "Training Loss:  0.25064666569450267\n",
            "Validation Accuracy:  88.23333333333333\n",
            "Validation Loss:  0.321833745487873\n",
            "Training Accuracy:  91.00833333333334\n",
            "Training Loss:  0.24675720696845185\n",
            "Validation Accuracy:  88.225\n",
            "Validation Loss:  0.32120350312228535\n",
            "Training Accuracy:  91.12083333333334\n",
            "Training Loss:  0.2430193786606291\n",
            "Validation Accuracy:  88.25\n",
            "Validation Loss:  0.3207024835054772\n",
            "Training Accuracy:  91.26458333333333\n",
            "Training Loss:  0.23942186557112055\n",
            "Validation Accuracy:  88.275\n",
            "Validation Loss:  0.3203222323750134\n",
            "Training Accuracy:  91.4\n",
            "Training Loss:  0.23595518407734664\n"
          ]
        }
      ]
    },
    {
      "cell_type": "code",
      "source": [],
      "metadata": {
        "id": "qxUJlP6SZV3r"
      },
      "execution_count": null,
      "outputs": []
    },
    {
      "cell_type": "markdown",
      "source": [
        "# Question 4"
      ],
      "metadata": {
        "id": "xnUdXCQg5jqH"
      }
    },
    {
      "cell_type": "code",
      "source": [
        "import wandb\n",
        "\n",
        "sweep_config = {\n",
        "    'method': 'random',  # Random search to sample configurations efficiently\n",
        "    'metric': {\n",
        "        'name': 'Validation Accuracy',  # Metric to optimize on the validation set\n",
        "        'goal': 'maximize'\n",
        "    },\n",
        "    'parameters': {\n",
        "        'epochs': {'values': [5, 10]},\n",
        "        'hiddenLayerCount': {'values': [3, 4, 5]},\n",
        "        'hiddenSize': {'values': [32, 64, 128]},\n",
        "        'weightDecay': {'values': [0, 0.0005, 0.5]},\n",
        "        'learningRate': {'values': [1e-3, 1e-4]},\n",
        "        'optimiser': {'values': ['sgd', 'momentumBasedGradientDescent', 'nesterovAcceleratedBasedGradientDescent', 'rmsProp', 'adam', 'nadam']},\n",
        "        'batchSize': {'values': [16, 32, 64]},\n",
        "        'activationFunc': {'values': ['sigmoid', 'tanh', 'relu']},\n",
        "    }\n",
        "}\n",
        "\n",
        "def main():\n",
        "  wandb.init()\n",
        "  config = wandb.config\n",
        "\n",
        "  runName = f\"hS{config.hiddenSize}_lr{config.learningRate}_{config.optimiser}_bs{config.batchSize}_af{config.activationFunc}\"\n",
        "\n",
        "  wandb.run.name = runName #setting wandb run\n",
        "  wandb.run.save()\n",
        "\n",
        "  model = feedForwardNeuralNetwork(inputSize=784,hiddenSize=config.hiddenSize,hiddenLayerCount=4,outputSize=10,batchSize=config.batchSize,\n",
        "                                   learningRate=config.learningRate,initMode = 'xavier', optimiser = config.optimiser, activationFunc=config.activationFunc,weightDecay = 0.0005,\n",
        "                                   epochs = 10,isWandb=True,lossFunc='crossEntropyLoss')\n",
        "  model.fit()\n",
        "  wandb.finish()\n",
        "\n",
        "# create Sweep and running it\n",
        "sweepId = wandb.sweep(sweep_config, project=\"DA6401 Assignment1\")\n",
        "wandb.agent(sweepId,main,count=10)\n"
      ],
      "metadata": {
        "colab": {
          "base_uri": "https://localhost:8080/",
          "height": 1000
        },
        "id": "m8nXjwFo5mnC",
        "outputId": "31e2f783-3867-40ed-b489-3e39b3267093"
      },
      "execution_count": null,
      "outputs": [
        {
          "output_type": "stream",
          "name": "stdout",
          "text": [
            "Create sweep with ID: 641wtoy1\n",
            "Sweep URL: https://wandb.ai/cs24m018-iitmaana/DA6401%20Assignment1/sweeps/641wtoy1\n"
          ]
        },
        {
          "output_type": "stream",
          "name": "stderr",
          "text": [
            "\u001b[34m\u001b[1mwandb\u001b[0m: Agent Starting Run: jhklt5bp with config:\n",
            "\u001b[34m\u001b[1mwandb\u001b[0m: \tactivationFunc: relu\n",
            "\u001b[34m\u001b[1mwandb\u001b[0m: \tbatchSize: 64\n",
            "\u001b[34m\u001b[1mwandb\u001b[0m: \tepochs: 5\n",
            "\u001b[34m\u001b[1mwandb\u001b[0m: \thiddenLayerCount: 3\n",
            "\u001b[34m\u001b[1mwandb\u001b[0m: \thiddenSize: 128\n",
            "\u001b[34m\u001b[1mwandb\u001b[0m: \tinitMode: random\n",
            "\u001b[34m\u001b[1mwandb\u001b[0m: \tlearningRate: 0.0001\n",
            "\u001b[34m\u001b[1mwandb\u001b[0m: \tlossFunc: crossEntropyLoss\n",
            "\u001b[34m\u001b[1mwandb\u001b[0m: \toptimiser: nesterovAcceleratedBasedGradientDescent\n",
            "\u001b[34m\u001b[1mwandb\u001b[0m: \tweightDecay: 0.0005\n"
          ]
        },
        {
          "output_type": "display_data",
          "data": {
            "text/plain": [
              "<IPython.core.display.HTML object>"
            ],
            "text/html": [
              "Tracking run with wandb version 0.19.7"
            ]
          },
          "metadata": {}
        },
        {
          "output_type": "display_data",
          "data": {
            "text/plain": [
              "<IPython.core.display.HTML object>"
            ],
            "text/html": [
              "Run data is saved locally in <code>/content/wandb/run-20250309_182704-jhklt5bp</code>"
            ]
          },
          "metadata": {}
        },
        {
          "output_type": "display_data",
          "data": {
            "text/plain": [
              "<IPython.core.display.HTML object>"
            ],
            "text/html": [
              "Syncing run <strong><a href='https://wandb.ai/cs24m018-iitmaana/DA6401%20Assignment1/runs/jhklt5bp' target=\"_blank\">helpful-sweep-1</a></strong> to <a href='https://wandb.ai/cs24m018-iitmaana/DA6401%20Assignment1' target=\"_blank\">Weights & Biases</a> (<a href='https://wandb.me/developer-guide' target=\"_blank\">docs</a>)<br>Sweep page: <a href='https://wandb.ai/cs24m018-iitmaana/DA6401%20Assignment1/sweeps/641wtoy1' target=\"_blank\">https://wandb.ai/cs24m018-iitmaana/DA6401%20Assignment1/sweeps/641wtoy1</a>"
            ]
          },
          "metadata": {}
        },
        {
          "output_type": "display_data",
          "data": {
            "text/plain": [
              "<IPython.core.display.HTML object>"
            ],
            "text/html": [
              " View project at <a href='https://wandb.ai/cs24m018-iitmaana/DA6401%20Assignment1' target=\"_blank\">https://wandb.ai/cs24m018-iitmaana/DA6401%20Assignment1</a>"
            ]
          },
          "metadata": {}
        },
        {
          "output_type": "display_data",
          "data": {
            "text/plain": [
              "<IPython.core.display.HTML object>"
            ],
            "text/html": [
              " View sweep at <a href='https://wandb.ai/cs24m018-iitmaana/DA6401%20Assignment1/sweeps/641wtoy1' target=\"_blank\">https://wandb.ai/cs24m018-iitmaana/DA6401%20Assignment1/sweeps/641wtoy1</a>"
            ]
          },
          "metadata": {}
        },
        {
          "output_type": "display_data",
          "data": {
            "text/plain": [
              "<IPython.core.display.HTML object>"
            ],
            "text/html": [
              " View run at <a href='https://wandb.ai/cs24m018-iitmaana/DA6401%20Assignment1/runs/jhklt5bp' target=\"_blank\">https://wandb.ai/cs24m018-iitmaana/DA6401%20Assignment1/runs/jhklt5bp</a>"
            ]
          },
          "metadata": {}
        },
        {
          "output_type": "stream",
          "name": "stdout",
          "text": [
            "Validation Accuracy:  27.683333333333334\n",
            "Validation Loss:  2.151340533725651\n",
            "Training Accuracy:  27.63125\n",
            "Training Loss:  2.1525845709126386\n",
            "Validation Accuracy:  47.858333333333334\n",
            "Validation Loss:  1.8419491238086954\n",
            "Training Accuracy:  47.87916666666667\n",
            "Training Loss:  1.8432237049147864\n",
            "Validation Accuracy:  56.425\n",
            "Validation Loss:  1.4230194572196848\n",
            "Training Accuracy:  56.46666666666667\n",
            "Training Loss:  1.425251078989168\n",
            "Validation Accuracy:  63.391666666666666\n",
            "Validation Loss:  1.1110074166149975\n",
            "Training Accuracy:  63.208333333333336\n",
            "Training Loss:  1.1138068085381725\n",
            "Validation Accuracy:  67.25\n",
            "Validation Loss:  0.927928558976892\n",
            "Training Accuracy:  66.60625\n",
            "Training Loss:  0.9315489580890348\n",
            "Validation Accuracy:  70.16666666666667\n",
            "Validation Loss:  0.8358184662988415\n",
            "Training Accuracy:  69.63125\n",
            "Training Loss:  0.8403370898075526\n",
            "Validation Accuracy:  72.15833333333333\n",
            "Validation Loss:  0.789848149308957\n",
            "Training Accuracy:  71.87291666666667\n",
            "Training Loss:  0.7941835914490541\n",
            "Validation Accuracy:  73.85833333333333\n",
            "Validation Loss:  0.7585860523168377\n",
            "Training Accuracy:  73.425\n",
            "Training Loss:  0.7621915681869905\n",
            "Validation Accuracy:  74.86666666666666\n",
            "Validation Loss:  0.7331660574107887\n",
            "Training Accuracy:  74.80416666666666\n",
            "Training Loss:  0.736027784509176\n",
            "Validation Accuracy:  75.75\n",
            "Validation Loss:  0.7110481843414759\n",
            "Training Accuracy:  75.85416666666667\n",
            "Training Loss:  0.7129350653783176\n"
          ]
        },
        {
          "output_type": "display_data",
          "data": {
            "text/plain": [
              "<IPython.core.display.HTML object>"
            ],
            "text/html": []
          },
          "metadata": {}
        },
        {
          "output_type": "display_data",
          "data": {
            "text/plain": [
              "<IPython.core.display.HTML object>"
            ],
            "text/html": [
              "<br>    <style><br>        .wandb-row {<br>            display: flex;<br>            flex-direction: row;<br>            flex-wrap: wrap;<br>            justify-content: flex-start;<br>            width: 100%;<br>        }<br>        .wandb-col {<br>            display: flex;<br>            flex-direction: column;<br>            flex-basis: 100%;<br>            flex: 1;<br>            padding: 10px;<br>        }<br>    </style><br><div class=\"wandb-row\"><div class=\"wandb-col\"><h3>Run history:</h3><br/><table class=\"wandb\"><tr><td>Batch Size</td><td>▁▁▁▁▁▁▁▁▁▁</td></tr><tr><td>Epoch</td><td>▁▂▃▃▄▅▆▆▇█</td></tr><tr><td>Learning Rate</td><td>▁▁▁▁▁▁▁▁▁▁</td></tr><tr><td>Training Accuracy</td><td>▁▄▅▆▇▇▇███</td></tr><tr><td>Training Loss</td><td>█▆▄▃▂▂▁▁▁▁</td></tr><tr><td>Validation Accuracy</td><td>▁▄▅▆▇▇▇███</td></tr><tr><td>Validation Loss</td><td>█▆▄▃▂▂▁▁▁▁</td></tr></table><br/></div><div class=\"wandb-col\"><h3>Run summary:</h3><br/><table class=\"wandb\"><tr><td>Batch Size</td><td>64</td></tr><tr><td>Epoch</td><td>10</td></tr><tr><td>Learning Rate</td><td>0.0001</td></tr><tr><td>Optimiser</td><td>nesterovAcceleratedB...</td></tr><tr><td>Training Accuracy</td><td>75.85417</td></tr><tr><td>Training Loss</td><td>0.71294</td></tr><tr><td>Validation Accuracy</td><td>75.75</td></tr><tr><td>Validation Loss</td><td>0.71105</td></tr></table><br/></div></div>"
            ]
          },
          "metadata": {}
        },
        {
          "output_type": "display_data",
          "data": {
            "text/plain": [
              "<IPython.core.display.HTML object>"
            ],
            "text/html": [
              " View run <strong style=\"color:#cdcd00\">hS128_lr0.0001_nesterovAcceleratedBasedGradientDescent_bs64_afrelu</strong> at: <a href='https://wandb.ai/cs24m018-iitmaana/DA6401%20Assignment1/runs/jhklt5bp' target=\"_blank\">https://wandb.ai/cs24m018-iitmaana/DA6401%20Assignment1/runs/jhklt5bp</a><br> View project at: <a href='https://wandb.ai/cs24m018-iitmaana/DA6401%20Assignment1' target=\"_blank\">https://wandb.ai/cs24m018-iitmaana/DA6401%20Assignment1</a><br>Synced 5 W&B file(s), 0 media file(s), 0 artifact file(s) and 0 other file(s)"
            ]
          },
          "metadata": {}
        },
        {
          "output_type": "display_data",
          "data": {
            "text/plain": [
              "<IPython.core.display.HTML object>"
            ],
            "text/html": [
              "Find logs at: <code>./wandb/run-20250309_182704-jhklt5bp/logs</code>"
            ]
          },
          "metadata": {}
        },
        {
          "output_type": "stream",
          "name": "stderr",
          "text": [
            "\u001b[34m\u001b[1mwandb\u001b[0m: Agent Starting Run: boi0t5y4 with config:\n",
            "\u001b[34m\u001b[1mwandb\u001b[0m: \tactivationFunc: sigmoid\n",
            "\u001b[34m\u001b[1mwandb\u001b[0m: \tbatchSize: 32\n",
            "\u001b[34m\u001b[1mwandb\u001b[0m: \tepochs: 10\n",
            "\u001b[34m\u001b[1mwandb\u001b[0m: \thiddenLayerCount: 4\n",
            "\u001b[34m\u001b[1mwandb\u001b[0m: \thiddenSize: 32\n",
            "\u001b[34m\u001b[1mwandb\u001b[0m: \tinitMode: xavier\n",
            "\u001b[34m\u001b[1mwandb\u001b[0m: \tlearningRate: 0.0001\n",
            "\u001b[34m\u001b[1mwandb\u001b[0m: \tlossFunc: squaredLoss\n",
            "\u001b[34m\u001b[1mwandb\u001b[0m: \toptimiser: nadam\n",
            "\u001b[34m\u001b[1mwandb\u001b[0m: \tweightDecay: 0.0005\n"
          ]
        },
        {
          "output_type": "display_data",
          "data": {
            "text/plain": [
              "<IPython.core.display.HTML object>"
            ],
            "text/html": [
              "Tracking run with wandb version 0.19.7"
            ]
          },
          "metadata": {}
        },
        {
          "output_type": "display_data",
          "data": {
            "text/plain": [
              "<IPython.core.display.HTML object>"
            ],
            "text/html": [
              "Run data is saved locally in <code>/content/wandb/run-20250309_182729-boi0t5y4</code>"
            ]
          },
          "metadata": {}
        },
        {
          "output_type": "display_data",
          "data": {
            "text/plain": [
              "<IPython.core.display.HTML object>"
            ],
            "text/html": [
              "Syncing run <strong><a href='https://wandb.ai/cs24m018-iitmaana/DA6401%20Assignment1/runs/boi0t5y4' target=\"_blank\">fragrant-sweep-2</a></strong> to <a href='https://wandb.ai/cs24m018-iitmaana/DA6401%20Assignment1' target=\"_blank\">Weights & Biases</a> (<a href='https://wandb.me/developer-guide' target=\"_blank\">docs</a>)<br>Sweep page: <a href='https://wandb.ai/cs24m018-iitmaana/DA6401%20Assignment1/sweeps/641wtoy1' target=\"_blank\">https://wandb.ai/cs24m018-iitmaana/DA6401%20Assignment1/sweeps/641wtoy1</a>"
            ]
          },
          "metadata": {}
        },
        {
          "output_type": "display_data",
          "data": {
            "text/plain": [
              "<IPython.core.display.HTML object>"
            ],
            "text/html": [
              " View project at <a href='https://wandb.ai/cs24m018-iitmaana/DA6401%20Assignment1' target=\"_blank\">https://wandb.ai/cs24m018-iitmaana/DA6401%20Assignment1</a>"
            ]
          },
          "metadata": {}
        },
        {
          "output_type": "display_data",
          "data": {
            "text/plain": [
              "<IPython.core.display.HTML object>"
            ],
            "text/html": [
              " View sweep at <a href='https://wandb.ai/cs24m018-iitmaana/DA6401%20Assignment1/sweeps/641wtoy1' target=\"_blank\">https://wandb.ai/cs24m018-iitmaana/DA6401%20Assignment1/sweeps/641wtoy1</a>"
            ]
          },
          "metadata": {}
        },
        {
          "output_type": "display_data",
          "data": {
            "text/plain": [
              "<IPython.core.display.HTML object>"
            ],
            "text/html": [
              " View run at <a href='https://wandb.ai/cs24m018-iitmaana/DA6401%20Assignment1/runs/boi0t5y4' target=\"_blank\">https://wandb.ai/cs24m018-iitmaana/DA6401%20Assignment1/runs/boi0t5y4</a>"
            ]
          },
          "metadata": {}
        },
        {
          "output_type": "stream",
          "name": "stdout",
          "text": [
            "Validation Accuracy:  10.083333333333334\n",
            "Validation Loss:  2.3082550068700645\n",
            "Training Accuracy:  9.979166666666666\n",
            "Training Loss:  2.309156253037531\n",
            "Validation Accuracy:  10.083333333333334\n",
            "Validation Loss:  2.3080110542936207\n",
            "Training Accuracy:  9.979166666666666\n",
            "Training Loss:  2.308898769412168\n",
            "Validation Accuracy:  10.083333333333334\n",
            "Validation Loss:  2.3077744904307167\n",
            "Training Accuracy:  9.979166666666666\n",
            "Training Loss:  2.3086484323965624\n",
            "Validation Accuracy:  10.083333333333334\n",
            "Validation Loss:  2.307544874265371\n",
            "Training Accuracy:  9.979166666666666\n",
            "Training Loss:  2.308404874228394\n",
            "Validation Accuracy:  10.083333333333334\n",
            "Validation Loss:  2.3073220320359713\n",
            "Training Accuracy:  9.979166666666666\n",
            "Training Loss:  2.308167937526187\n",
            "Validation Accuracy:  10.083333333333334\n",
            "Validation Loss:  2.3071058064538024\n",
            "Training Accuracy:  9.979166666666666\n",
            "Training Loss:  2.307937476628957\n",
            "Validation Accuracy:  10.083333333333334\n",
            "Validation Loss:  2.306896044475497\n",
            "Training Accuracy:  9.979166666666666\n",
            "Training Loss:  2.3077133494679525\n",
            "Validation Accuracy:  10.083333333333334\n",
            "Validation Loss:  2.306692596895618\n",
            "Training Accuracy:  9.979166666666666\n",
            "Training Loss:  2.307495417643942\n",
            "Validation Accuracy:  10.083333333333334\n",
            "Validation Loss:  2.30649531831337\n",
            "Training Accuracy:  9.979166666666666\n",
            "Training Loss:  2.307283546503086\n",
            "Validation Accuracy:  10.083333333333334\n",
            "Validation Loss:  2.306304067014847\n",
            "Training Accuracy:  9.979166666666666\n",
            "Training Loss:  2.307077605056233\n"
          ]
        },
        {
          "output_type": "display_data",
          "data": {
            "text/plain": [
              "<IPython.core.display.HTML object>"
            ],
            "text/html": []
          },
          "metadata": {}
        },
        {
          "output_type": "display_data",
          "data": {
            "text/plain": [
              "<IPython.core.display.HTML object>"
            ],
            "text/html": [
              "<br>    <style><br>        .wandb-row {<br>            display: flex;<br>            flex-direction: row;<br>            flex-wrap: wrap;<br>            justify-content: flex-start;<br>            width: 100%;<br>        }<br>        .wandb-col {<br>            display: flex;<br>            flex-direction: column;<br>            flex-basis: 100%;<br>            flex: 1;<br>            padding: 10px;<br>        }<br>    </style><br><div class=\"wandb-row\"><div class=\"wandb-col\"><h3>Run history:</h3><br/><table class=\"wandb\"><tr><td>Batch Size</td><td>▁▁▁▁▁▁▁▁▁▁</td></tr><tr><td>Epoch</td><td>▁▂▃▃▄▅▆▆▇█</td></tr><tr><td>Learning Rate</td><td>▁▁▁▁▁▁▁▁▁▁</td></tr><tr><td>Training Accuracy</td><td>▁▁▁▁▁▁▁▁▁▁</td></tr><tr><td>Training Loss</td><td>█▇▆▅▅▄▃▂▂▁</td></tr><tr><td>Validation Accuracy</td><td>▁▁▁▁▁▁▁▁▁▁</td></tr><tr><td>Validation Loss</td><td>█▇▆▅▅▄▃▂▂▁</td></tr></table><br/></div><div class=\"wandb-col\"><h3>Run summary:</h3><br/><table class=\"wandb\"><tr><td>Batch Size</td><td>32</td></tr><tr><td>Epoch</td><td>10</td></tr><tr><td>Learning Rate</td><td>0.0001</td></tr><tr><td>Optimiser</td><td>nadam</td></tr><tr><td>Training Accuracy</td><td>9.97917</td></tr><tr><td>Training Loss</td><td>2.30708</td></tr><tr><td>Validation Accuracy</td><td>10.08333</td></tr><tr><td>Validation Loss</td><td>2.3063</td></tr></table><br/></div></div>"
            ]
          },
          "metadata": {}
        },
        {
          "output_type": "display_data",
          "data": {
            "text/plain": [
              "<IPython.core.display.HTML object>"
            ],
            "text/html": [
              " View run <strong style=\"color:#cdcd00\">hS32_lr0.0001_nadam_bs32_afsigmoid</strong> at: <a href='https://wandb.ai/cs24m018-iitmaana/DA6401%20Assignment1/runs/boi0t5y4' target=\"_blank\">https://wandb.ai/cs24m018-iitmaana/DA6401%20Assignment1/runs/boi0t5y4</a><br> View project at: <a href='https://wandb.ai/cs24m018-iitmaana/DA6401%20Assignment1' target=\"_blank\">https://wandb.ai/cs24m018-iitmaana/DA6401%20Assignment1</a><br>Synced 5 W&B file(s), 0 media file(s), 0 artifact file(s) and 0 other file(s)"
            ]
          },
          "metadata": {}
        },
        {
          "output_type": "display_data",
          "data": {
            "text/plain": [
              "<IPython.core.display.HTML object>"
            ],
            "text/html": [
              "Find logs at: <code>./wandb/run-20250309_182729-boi0t5y4/logs</code>"
            ]
          },
          "metadata": {}
        },
        {
          "output_type": "stream",
          "name": "stderr",
          "text": [
            "\u001b[34m\u001b[1mwandb\u001b[0m: Agent Starting Run: gaouyl4c with config:\n",
            "\u001b[34m\u001b[1mwandb\u001b[0m: \tactivationFunc: sigmoid\n",
            "\u001b[34m\u001b[1mwandb\u001b[0m: \tbatchSize: 16\n",
            "\u001b[34m\u001b[1mwandb\u001b[0m: \tepochs: 5\n",
            "\u001b[34m\u001b[1mwandb\u001b[0m: \thiddenLayerCount: 3\n",
            "\u001b[34m\u001b[1mwandb\u001b[0m: \thiddenSize: 128\n",
            "\u001b[34m\u001b[1mwandb\u001b[0m: \tinitMode: random\n",
            "\u001b[34m\u001b[1mwandb\u001b[0m: \tlearningRate: 0.0001\n",
            "\u001b[34m\u001b[1mwandb\u001b[0m: \tlossFunc: crossEntropyLoss\n",
            "\u001b[34m\u001b[1mwandb\u001b[0m: \toptimiser: nadam\n",
            "\u001b[34m\u001b[1mwandb\u001b[0m: \tweightDecay: 0.5\n"
          ]
        },
        {
          "output_type": "display_data",
          "data": {
            "text/plain": [
              "<IPython.core.display.HTML object>"
            ],
            "text/html": [
              "Tracking run with wandb version 0.19.7"
            ]
          },
          "metadata": {}
        },
        {
          "output_type": "display_data",
          "data": {
            "text/plain": [
              "<IPython.core.display.HTML object>"
            ],
            "text/html": [
              "Run data is saved locally in <code>/content/wandb/run-20250309_182745-gaouyl4c</code>"
            ]
          },
          "metadata": {}
        },
        {
          "output_type": "display_data",
          "data": {
            "text/plain": [
              "<IPython.core.display.HTML object>"
            ],
            "text/html": [
              "Syncing run <strong><a href='https://wandb.ai/cs24m018-iitmaana/DA6401%20Assignment1/runs/gaouyl4c' target=\"_blank\">rural-sweep-3</a></strong> to <a href='https://wandb.ai/cs24m018-iitmaana/DA6401%20Assignment1' target=\"_blank\">Weights & Biases</a> (<a href='https://wandb.me/developer-guide' target=\"_blank\">docs</a>)<br>Sweep page: <a href='https://wandb.ai/cs24m018-iitmaana/DA6401%20Assignment1/sweeps/641wtoy1' target=\"_blank\">https://wandb.ai/cs24m018-iitmaana/DA6401%20Assignment1/sweeps/641wtoy1</a>"
            ]
          },
          "metadata": {}
        },
        {
          "output_type": "display_data",
          "data": {
            "text/plain": [
              "<IPython.core.display.HTML object>"
            ],
            "text/html": [
              " View project at <a href='https://wandb.ai/cs24m018-iitmaana/DA6401%20Assignment1' target=\"_blank\">https://wandb.ai/cs24m018-iitmaana/DA6401%20Assignment1</a>"
            ]
          },
          "metadata": {}
        },
        {
          "output_type": "display_data",
          "data": {
            "text/plain": [
              "<IPython.core.display.HTML object>"
            ],
            "text/html": [
              " View sweep at <a href='https://wandb.ai/cs24m018-iitmaana/DA6401%20Assignment1/sweeps/641wtoy1' target=\"_blank\">https://wandb.ai/cs24m018-iitmaana/DA6401%20Assignment1/sweeps/641wtoy1</a>"
            ]
          },
          "metadata": {}
        },
        {
          "output_type": "display_data",
          "data": {
            "text/plain": [
              "<IPython.core.display.HTML object>"
            ],
            "text/html": [
              " View run at <a href='https://wandb.ai/cs24m018-iitmaana/DA6401%20Assignment1/runs/gaouyl4c' target=\"_blank\">https://wandb.ai/cs24m018-iitmaana/DA6401%20Assignment1/runs/gaouyl4c</a>"
            ]
          },
          "metadata": {}
        },
        {
          "output_type": "stream",
          "name": "stdout",
          "text": [
            "Validation Accuracy:  10.308333333333334\n",
            "Validation Loss:  2.306289440944917\n",
            "Training Accuracy:  9.922916666666667\n",
            "Training Loss:  2.306076624428975\n",
            "Validation Accuracy:  10.308333333333334\n",
            "Validation Loss:  2.3056520368982247\n",
            "Training Accuracy:  9.922916666666667\n",
            "Training Loss:  2.3054120629543537\n",
            "Validation Accuracy:  10.308333333333334\n",
            "Validation Loss:  2.30512535682189\n",
            "Training Accuracy:  9.922916666666667\n",
            "Training Loss:  2.304867058367512\n",
            "Validation Accuracy:  10.308333333333334\n",
            "Validation Loss:  2.3046869549787896\n",
            "Training Accuracy:  9.925\n",
            "Training Loss:  2.304417440527879\n",
            "Validation Accuracy:  9.95\n",
            "Validation Loss:  2.3043197822275387\n",
            "Training Accuracy:  10.0125\n",
            "Training Loss:  2.3040446783616573\n",
            "Validation Accuracy:  9.95\n",
            "Validation Loss:  2.304010555389038\n",
            "Training Accuracy:  10.0125\n",
            "Training Loss:  2.303734239003289\n",
            "Validation Accuracy:  9.95\n",
            "Validation Loss:  2.303748786123915\n",
            "Training Accuracy:  10.0125\n",
            "Training Loss:  2.3034745894285256\n",
            "Validation Accuracy:  9.95\n",
            "Validation Loss:  2.3035260842506466\n",
            "Training Accuracy:  10.0125\n",
            "Training Loss:  2.303256474634901\n",
            "Validation Accuracy:  9.95\n",
            "Validation Loss:  2.303335647169349\n",
            "Training Accuracy:  10.0125\n",
            "Training Loss:  2.303072383576731\n",
            "Validation Accuracy:  9.95\n",
            "Validation Loss:  2.3031718874579927\n",
            "Training Accuracy:  10.0125\n",
            "Training Loss:  2.302916155156866\n"
          ]
        },
        {
          "output_type": "display_data",
          "data": {
            "text/plain": [
              "<IPython.core.display.HTML object>"
            ],
            "text/html": []
          },
          "metadata": {}
        },
        {
          "output_type": "display_data",
          "data": {
            "text/plain": [
              "<IPython.core.display.HTML object>"
            ],
            "text/html": [
              "<br>    <style><br>        .wandb-row {<br>            display: flex;<br>            flex-direction: row;<br>            flex-wrap: wrap;<br>            justify-content: flex-start;<br>            width: 100%;<br>        }<br>        .wandb-col {<br>            display: flex;<br>            flex-direction: column;<br>            flex-basis: 100%;<br>            flex: 1;<br>            padding: 10px;<br>        }<br>    </style><br><div class=\"wandb-row\"><div class=\"wandb-col\"><h3>Run history:</h3><br/><table class=\"wandb\"><tr><td>Batch Size</td><td>▁▁▁▁▁▁▁▁▁▁</td></tr><tr><td>Epoch</td><td>▁▂▃▃▄▅▆▆▇█</td></tr><tr><td>Learning Rate</td><td>▁▁▁▁▁▁▁▁▁▁</td></tr><tr><td>Training Accuracy</td><td>▁▁▁▁██████</td></tr><tr><td>Training Loss</td><td>█▇▅▄▃▃▂▂▁▁</td></tr><tr><td>Validation Accuracy</td><td>████▁▁▁▁▁▁</td></tr><tr><td>Validation Loss</td><td>█▇▅▄▄▃▂▂▁▁</td></tr></table><br/></div><div class=\"wandb-col\"><h3>Run summary:</h3><br/><table class=\"wandb\"><tr><td>Batch Size</td><td>16</td></tr><tr><td>Epoch</td><td>10</td></tr><tr><td>Learning Rate</td><td>0.0001</td></tr><tr><td>Optimiser</td><td>nadam</td></tr><tr><td>Training Accuracy</td><td>10.0125</td></tr><tr><td>Training Loss</td><td>2.30292</td></tr><tr><td>Validation Accuracy</td><td>9.95</td></tr><tr><td>Validation Loss</td><td>2.30317</td></tr></table><br/></div></div>"
            ]
          },
          "metadata": {}
        },
        {
          "output_type": "display_data",
          "data": {
            "text/plain": [
              "<IPython.core.display.HTML object>"
            ],
            "text/html": [
              " View run <strong style=\"color:#cdcd00\">hS128_lr0.0001_nadam_bs16_afsigmoid</strong> at: <a href='https://wandb.ai/cs24m018-iitmaana/DA6401%20Assignment1/runs/gaouyl4c' target=\"_blank\">https://wandb.ai/cs24m018-iitmaana/DA6401%20Assignment1/runs/gaouyl4c</a><br> View project at: <a href='https://wandb.ai/cs24m018-iitmaana/DA6401%20Assignment1' target=\"_blank\">https://wandb.ai/cs24m018-iitmaana/DA6401%20Assignment1</a><br>Synced 5 W&B file(s), 0 media file(s), 0 artifact file(s) and 0 other file(s)"
            ]
          },
          "metadata": {}
        },
        {
          "output_type": "display_data",
          "data": {
            "text/plain": [
              "<IPython.core.display.HTML object>"
            ],
            "text/html": [
              "Find logs at: <code>./wandb/run-20250309_182745-gaouyl4c/logs</code>"
            ]
          },
          "metadata": {}
        },
        {
          "output_type": "stream",
          "name": "stderr",
          "text": [
            "\u001b[34m\u001b[1mwandb\u001b[0m: Agent Starting Run: asth2p2k with config:\n",
            "\u001b[34m\u001b[1mwandb\u001b[0m: \tactivationFunc: tanh\n",
            "\u001b[34m\u001b[1mwandb\u001b[0m: \tbatchSize: 32\n",
            "\u001b[34m\u001b[1mwandb\u001b[0m: \tepochs: 10\n",
            "\u001b[34m\u001b[1mwandb\u001b[0m: \thiddenLayerCount: 5\n",
            "\u001b[34m\u001b[1mwandb\u001b[0m: \thiddenSize: 128\n",
            "\u001b[34m\u001b[1mwandb\u001b[0m: \tinitMode: random\n",
            "\u001b[34m\u001b[1mwandb\u001b[0m: \tlearningRate: 0.0001\n",
            "\u001b[34m\u001b[1mwandb\u001b[0m: \tlossFunc: crossEntropyLoss\n",
            "\u001b[34m\u001b[1mwandb\u001b[0m: \toptimiser: nesterovAcceleratedBasedGradientDescent\n",
            "\u001b[34m\u001b[1mwandb\u001b[0m: \tweightDecay: 0\n"
          ]
        },
        {
          "output_type": "display_data",
          "data": {
            "text/plain": [
              "<IPython.core.display.HTML object>"
            ],
            "text/html": [
              "Tracking run with wandb version 0.19.7"
            ]
          },
          "metadata": {}
        },
        {
          "output_type": "display_data",
          "data": {
            "text/plain": [
              "<IPython.core.display.HTML object>"
            ],
            "text/html": [
              "Run data is saved locally in <code>/content/wandb/run-20250309_182820-asth2p2k</code>"
            ]
          },
          "metadata": {}
        },
        {
          "output_type": "display_data",
          "data": {
            "text/plain": [
              "<IPython.core.display.HTML object>"
            ],
            "text/html": [
              "Syncing run <strong><a href='https://wandb.ai/cs24m018-iitmaana/DA6401%20Assignment1/runs/asth2p2k' target=\"_blank\">copper-sweep-4</a></strong> to <a href='https://wandb.ai/cs24m018-iitmaana/DA6401%20Assignment1' target=\"_blank\">Weights & Biases</a> (<a href='https://wandb.me/developer-guide' target=\"_blank\">docs</a>)<br>Sweep page: <a href='https://wandb.ai/cs24m018-iitmaana/DA6401%20Assignment1/sweeps/641wtoy1' target=\"_blank\">https://wandb.ai/cs24m018-iitmaana/DA6401%20Assignment1/sweeps/641wtoy1</a>"
            ]
          },
          "metadata": {}
        },
        {
          "output_type": "display_data",
          "data": {
            "text/plain": [
              "<IPython.core.display.HTML object>"
            ],
            "text/html": [
              " View project at <a href='https://wandb.ai/cs24m018-iitmaana/DA6401%20Assignment1' target=\"_blank\">https://wandb.ai/cs24m018-iitmaana/DA6401%20Assignment1</a>"
            ]
          },
          "metadata": {}
        },
        {
          "output_type": "display_data",
          "data": {
            "text/plain": [
              "<IPython.core.display.HTML object>"
            ],
            "text/html": [
              " View sweep at <a href='https://wandb.ai/cs24m018-iitmaana/DA6401%20Assignment1/sweeps/641wtoy1' target=\"_blank\">https://wandb.ai/cs24m018-iitmaana/DA6401%20Assignment1/sweeps/641wtoy1</a>"
            ]
          },
          "metadata": {}
        },
        {
          "output_type": "display_data",
          "data": {
            "text/plain": [
              "<IPython.core.display.HTML object>"
            ],
            "text/html": [
              " View run at <a href='https://wandb.ai/cs24m018-iitmaana/DA6401%20Assignment1/runs/asth2p2k' target=\"_blank\">https://wandb.ai/cs24m018-iitmaana/DA6401%20Assignment1/runs/asth2p2k</a>"
            ]
          },
          "metadata": {}
        },
        {
          "output_type": "stream",
          "name": "stdout",
          "text": [
            "Validation Accuracy:  59.74166666666667\n",
            "Validation Loss:  1.7518386101881855\n",
            "Training Accuracy:  59.69375\n",
            "Training Loss:  1.7515853157688943\n",
            "Validation Accuracy:  66.9\n",
            "Validation Loss:  1.6393725487167592\n",
            "Training Accuracy:  67.0625\n",
            "Training Loss:  1.639681508506128\n",
            "Validation Accuracy:  69.69166666666666\n",
            "Validation Loss:  1.602307876042531\n",
            "Training Accuracy:  69.84166666666667\n",
            "Training Loss:  1.602698602715311\n",
            "Validation Accuracy:  72.24166666666666\n",
            "Validation Loss:  1.5846669108112843\n",
            "Training Accuracy:  72.4125\n",
            "Training Loss:  1.5853098190065336\n",
            "Validation Accuracy:  74.21666666666667\n",
            "Validation Loss:  1.5751814782499545\n",
            "Training Accuracy:  74.37708333333333\n",
            "Training Loss:  1.5759782248963683\n",
            "Validation Accuracy:  75.675\n",
            "Validation Loss:  1.568827312775307\n",
            "Training Accuracy:  75.75\n",
            "Training Loss:  1.569681047090137\n",
            "Validation Accuracy:  76.59166666666667\n",
            "Validation Loss:  1.5640881928614794\n",
            "Training Accuracy:  76.76875\n",
            "Training Loss:  1.5649375186498937\n",
            "Validation Accuracy:  77.525\n",
            "Validation Loss:  1.5603005635794986\n",
            "Training Accuracy:  77.525\n",
            "Training Loss:  1.5611088186839839\n",
            "Validation Accuracy:  77.81666666666666\n",
            "Validation Loss:  1.5572578321071668\n",
            "Training Accuracy:  77.97708333333334\n",
            "Training Loss:  1.5580086581198334\n",
            "Validation Accuracy:  78.075\n",
            "Validation Loss:  1.5549354439466427\n",
            "Training Accuracy:  78.125\n",
            "Training Loss:  1.5556245240446227\n"
          ]
        },
        {
          "output_type": "display_data",
          "data": {
            "text/plain": [
              "<IPython.core.display.HTML object>"
            ],
            "text/html": []
          },
          "metadata": {}
        },
        {
          "output_type": "display_data",
          "data": {
            "text/plain": [
              "<IPython.core.display.HTML object>"
            ],
            "text/html": [
              "<br>    <style><br>        .wandb-row {<br>            display: flex;<br>            flex-direction: row;<br>            flex-wrap: wrap;<br>            justify-content: flex-start;<br>            width: 100%;<br>        }<br>        .wandb-col {<br>            display: flex;<br>            flex-direction: column;<br>            flex-basis: 100%;<br>            flex: 1;<br>            padding: 10px;<br>        }<br>    </style><br><div class=\"wandb-row\"><div class=\"wandb-col\"><h3>Run history:</h3><br/><table class=\"wandb\"><tr><td>Batch Size</td><td>▁▁▁▁▁▁▁▁▁▁</td></tr><tr><td>Epoch</td><td>▁▂▃▃▄▅▆▆▇█</td></tr><tr><td>Learning Rate</td><td>▁▁▁▁▁▁▁▁▁▁</td></tr><tr><td>Training Accuracy</td><td>▁▄▅▆▇▇▇███</td></tr><tr><td>Training Loss</td><td>█▄▃▂▂▂▁▁▁▁</td></tr><tr><td>Validation Accuracy</td><td>▁▄▅▆▇▇▇███</td></tr><tr><td>Validation Loss</td><td>█▄▃▂▂▁▁▁▁▁</td></tr></table><br/></div><div class=\"wandb-col\"><h3>Run summary:</h3><br/><table class=\"wandb\"><tr><td>Batch Size</td><td>32</td></tr><tr><td>Epoch</td><td>10</td></tr><tr><td>Learning Rate</td><td>0.0001</td></tr><tr><td>Optimiser</td><td>nesterovAcceleratedB...</td></tr><tr><td>Training Accuracy</td><td>78.125</td></tr><tr><td>Training Loss</td><td>1.55562</td></tr><tr><td>Validation Accuracy</td><td>78.075</td></tr><tr><td>Validation Loss</td><td>1.55494</td></tr></table><br/></div></div>"
            ]
          },
          "metadata": {}
        },
        {
          "output_type": "display_data",
          "data": {
            "text/plain": [
              "<IPython.core.display.HTML object>"
            ],
            "text/html": [
              " View run <strong style=\"color:#cdcd00\">hS128_lr0.0001_nesterovAcceleratedBasedGradientDescent_bs32_aftanh</strong> at: <a href='https://wandb.ai/cs24m018-iitmaana/DA6401%20Assignment1/runs/asth2p2k' target=\"_blank\">https://wandb.ai/cs24m018-iitmaana/DA6401%20Assignment1/runs/asth2p2k</a><br> View project at: <a href='https://wandb.ai/cs24m018-iitmaana/DA6401%20Assignment1' target=\"_blank\">https://wandb.ai/cs24m018-iitmaana/DA6401%20Assignment1</a><br>Synced 5 W&B file(s), 0 media file(s), 0 artifact file(s) and 0 other file(s)"
            ]
          },
          "metadata": {}
        },
        {
          "output_type": "display_data",
          "data": {
            "text/plain": [
              "<IPython.core.display.HTML object>"
            ],
            "text/html": [
              "Find logs at: <code>./wandb/run-20250309_182820-asth2p2k/logs</code>"
            ]
          },
          "metadata": {}
        },
        {
          "output_type": "stream",
          "name": "stderr",
          "text": [
            "\u001b[34m\u001b[1mwandb\u001b[0m: Agent Starting Run: ywbttb5o with config:\n",
            "\u001b[34m\u001b[1mwandb\u001b[0m: \tactivationFunc: tanh\n",
            "\u001b[34m\u001b[1mwandb\u001b[0m: \tbatchSize: 16\n",
            "\u001b[34m\u001b[1mwandb\u001b[0m: \tepochs: 10\n",
            "\u001b[34m\u001b[1mwandb\u001b[0m: \thiddenLayerCount: 3\n",
            "\u001b[34m\u001b[1mwandb\u001b[0m: \thiddenSize: 32\n",
            "\u001b[34m\u001b[1mwandb\u001b[0m: \tinitMode: random\n",
            "\u001b[34m\u001b[1mwandb\u001b[0m: \tlearningRate: 0.001\n",
            "\u001b[34m\u001b[1mwandb\u001b[0m: \tlossFunc: crossEntropyLoss\n",
            "\u001b[34m\u001b[1mwandb\u001b[0m: \toptimiser: rmsProp\n",
            "\u001b[34m\u001b[1mwandb\u001b[0m: \tweightDecay: 0.5\n"
          ]
        },
        {
          "output_type": "display_data",
          "data": {
            "text/plain": [
              "<IPython.core.display.HTML object>"
            ],
            "text/html": [
              "Tracking run with wandb version 0.19.7"
            ]
          },
          "metadata": {}
        },
        {
          "output_type": "display_data",
          "data": {
            "text/plain": [
              "<IPython.core.display.HTML object>"
            ],
            "text/html": [
              "Run data is saved locally in <code>/content/wandb/run-20250309_182905-ywbttb5o</code>"
            ]
          },
          "metadata": {}
        },
        {
          "output_type": "display_data",
          "data": {
            "text/plain": [
              "<IPython.core.display.HTML object>"
            ],
            "text/html": [
              "Syncing run <strong><a href='https://wandb.ai/cs24m018-iitmaana/DA6401%20Assignment1/runs/ywbttb5o' target=\"_blank\">proud-sweep-5</a></strong> to <a href='https://wandb.ai/cs24m018-iitmaana/DA6401%20Assignment1' target=\"_blank\">Weights & Biases</a> (<a href='https://wandb.me/developer-guide' target=\"_blank\">docs</a>)<br>Sweep page: <a href='https://wandb.ai/cs24m018-iitmaana/DA6401%20Assignment1/sweeps/641wtoy1' target=\"_blank\">https://wandb.ai/cs24m018-iitmaana/DA6401%20Assignment1/sweeps/641wtoy1</a>"
            ]
          },
          "metadata": {}
        },
        {
          "output_type": "display_data",
          "data": {
            "text/plain": [
              "<IPython.core.display.HTML object>"
            ],
            "text/html": [
              " View project at <a href='https://wandb.ai/cs24m018-iitmaana/DA6401%20Assignment1' target=\"_blank\">https://wandb.ai/cs24m018-iitmaana/DA6401%20Assignment1</a>"
            ]
          },
          "metadata": {}
        },
        {
          "output_type": "display_data",
          "data": {
            "text/plain": [
              "<IPython.core.display.HTML object>"
            ],
            "text/html": [
              " View sweep at <a href='https://wandb.ai/cs24m018-iitmaana/DA6401%20Assignment1/sweeps/641wtoy1' target=\"_blank\">https://wandb.ai/cs24m018-iitmaana/DA6401%20Assignment1/sweeps/641wtoy1</a>"
            ]
          },
          "metadata": {}
        },
        {
          "output_type": "display_data",
          "data": {
            "text/plain": [
              "<IPython.core.display.HTML object>"
            ],
            "text/html": [
              " View run at <a href='https://wandb.ai/cs24m018-iitmaana/DA6401%20Assignment1/runs/ywbttb5o' target=\"_blank\">https://wandb.ai/cs24m018-iitmaana/DA6401%20Assignment1/runs/ywbttb5o</a>"
            ]
          },
          "metadata": {}
        },
        {
          "output_type": "stream",
          "name": "stdout",
          "text": [
            "Validation Accuracy:  60.766666666666666\n",
            "Validation Loss:  1.6042756414162764\n",
            "Training Accuracy:  60.76875\n",
            "Training Loss:  1.6051603919158572\n",
            "Validation Accuracy:  65.50833333333334\n",
            "Validation Loss:  1.5594702751307068\n",
            "Training Accuracy:  65.42708333333333\n",
            "Training Loss:  1.5591818267882178\n",
            "Validation Accuracy:  69.775\n",
            "Validation Loss:  1.5410964589663767\n",
            "Training Accuracy:  69.8375\n",
            "Training Loss:  1.540023600808977\n",
            "Validation Accuracy:  72.45833333333333\n",
            "Validation Loss:  1.534560823680066\n",
            "Training Accuracy:  72.65208333333334\n",
            "Training Loss:  1.5330902279688874\n",
            "Validation Accuracy:  73.84166666666667\n",
            "Validation Loss:  1.539604389968289\n",
            "Training Accuracy:  74.0625\n",
            "Training Loss:  1.5378423220530495\n",
            "Validation Accuracy:  74.21666666666667\n",
            "Validation Loss:  1.5439049912153808\n",
            "Training Accuracy:  74.51458333333333\n",
            "Training Loss:  1.5422246736638117\n",
            "Validation Accuracy:  74.175\n",
            "Validation Loss:  1.540495105090704\n",
            "Training Accuracy:  74.78333333333333\n",
            "Training Loss:  1.539530792584785\n",
            "Validation Accuracy:  74.28333333333333\n",
            "Validation Loss:  1.5417277318133769\n",
            "Training Accuracy:  74.95833333333333\n",
            "Training Loss:  1.5410410411101507\n",
            "Validation Accuracy:  75.925\n",
            "Validation Loss:  1.54758618847865\n",
            "Training Accuracy:  76.275\n",
            "Training Loss:  1.5472938074345115\n",
            "Validation Accuracy:  76.2\n",
            "Validation Loss:  1.5496793424207795\n",
            "Training Accuracy:  76.475\n",
            "Training Loss:  1.5497220736608326\n"
          ]
        },
        {
          "output_type": "display_data",
          "data": {
            "text/plain": [
              "<IPython.core.display.HTML object>"
            ],
            "text/html": []
          },
          "metadata": {}
        },
        {
          "output_type": "display_data",
          "data": {
            "text/plain": [
              "<IPython.core.display.HTML object>"
            ],
            "text/html": [
              "<br>    <style><br>        .wandb-row {<br>            display: flex;<br>            flex-direction: row;<br>            flex-wrap: wrap;<br>            justify-content: flex-start;<br>            width: 100%;<br>        }<br>        .wandb-col {<br>            display: flex;<br>            flex-direction: column;<br>            flex-basis: 100%;<br>            flex: 1;<br>            padding: 10px;<br>        }<br>    </style><br><div class=\"wandb-row\"><div class=\"wandb-col\"><h3>Run history:</h3><br/><table class=\"wandb\"><tr><td>Batch Size</td><td>▁▁▁▁▁▁▁▁▁▁</td></tr><tr><td>Epoch</td><td>▁▂▃▃▄▅▆▆▇█</td></tr><tr><td>Learning Rate</td><td>▁▁▁▁▁▁▁▁▁▁</td></tr><tr><td>Training Accuracy</td><td>▁▃▅▆▇▇▇▇██</td></tr><tr><td>Training Loss</td><td>█▄▂▁▁▂▂▂▂▃</td></tr><tr><td>Validation Accuracy</td><td>▁▃▅▆▇▇▇▇██</td></tr><tr><td>Validation Loss</td><td>█▄▂▁▂▂▂▂▂▃</td></tr></table><br/></div><div class=\"wandb-col\"><h3>Run summary:</h3><br/><table class=\"wandb\"><tr><td>Batch Size</td><td>16</td></tr><tr><td>Epoch</td><td>10</td></tr><tr><td>Learning Rate</td><td>0.001</td></tr><tr><td>Optimiser</td><td>rmsProp</td></tr><tr><td>Training Accuracy</td><td>76.475</td></tr><tr><td>Training Loss</td><td>1.54972</td></tr><tr><td>Validation Accuracy</td><td>76.2</td></tr><tr><td>Validation Loss</td><td>1.54968</td></tr></table><br/></div></div>"
            ]
          },
          "metadata": {}
        },
        {
          "output_type": "display_data",
          "data": {
            "text/plain": [
              "<IPython.core.display.HTML object>"
            ],
            "text/html": [
              " View run <strong style=\"color:#cdcd00\">hS32_lr0.001_rmsProp_bs16_aftanh</strong> at: <a href='https://wandb.ai/cs24m018-iitmaana/DA6401%20Assignment1/runs/ywbttb5o' target=\"_blank\">https://wandb.ai/cs24m018-iitmaana/DA6401%20Assignment1/runs/ywbttb5o</a><br> View project at: <a href='https://wandb.ai/cs24m018-iitmaana/DA6401%20Assignment1' target=\"_blank\">https://wandb.ai/cs24m018-iitmaana/DA6401%20Assignment1</a><br>Synced 5 W&B file(s), 0 media file(s), 0 artifact file(s) and 0 other file(s)"
            ]
          },
          "metadata": {}
        },
        {
          "output_type": "display_data",
          "data": {
            "text/plain": [
              "<IPython.core.display.HTML object>"
            ],
            "text/html": [
              "Find logs at: <code>./wandb/run-20250309_182905-ywbttb5o/logs</code>"
            ]
          },
          "metadata": {}
        },
        {
          "output_type": "stream",
          "name": "stderr",
          "text": [
            "\u001b[34m\u001b[1mwandb\u001b[0m: Agent Starting Run: h5yjy0v1 with config:\n",
            "\u001b[34m\u001b[1mwandb\u001b[0m: \tactivationFunc: tanh\n",
            "\u001b[34m\u001b[1mwandb\u001b[0m: \tbatchSize: 32\n",
            "\u001b[34m\u001b[1mwandb\u001b[0m: \tepochs: 10\n",
            "\u001b[34m\u001b[1mwandb\u001b[0m: \thiddenLayerCount: 5\n",
            "\u001b[34m\u001b[1mwandb\u001b[0m: \thiddenSize: 128\n",
            "\u001b[34m\u001b[1mwandb\u001b[0m: \tinitMode: xavier\n",
            "\u001b[34m\u001b[1mwandb\u001b[0m: \tlearningRate: 0.001\n",
            "\u001b[34m\u001b[1mwandb\u001b[0m: \tlossFunc: squaredLoss\n",
            "\u001b[34m\u001b[1mwandb\u001b[0m: \toptimiser: momentumBasedGradientDescent\n",
            "\u001b[34m\u001b[1mwandb\u001b[0m: \tweightDecay: 0\n"
          ]
        },
        {
          "output_type": "display_data",
          "data": {
            "text/plain": [
              "<IPython.core.display.HTML object>"
            ],
            "text/html": [
              "Tracking run with wandb version 0.19.7"
            ]
          },
          "metadata": {}
        },
        {
          "output_type": "display_data",
          "data": {
            "text/plain": [
              "<IPython.core.display.HTML object>"
            ],
            "text/html": [
              "Run data is saved locally in <code>/content/wandb/run-20250309_182925-h5yjy0v1</code>"
            ]
          },
          "metadata": {}
        },
        {
          "output_type": "display_data",
          "data": {
            "text/plain": [
              "<IPython.core.display.HTML object>"
            ],
            "text/html": [
              "Syncing run <strong><a href='https://wandb.ai/cs24m018-iitmaana/DA6401%20Assignment1/runs/h5yjy0v1' target=\"_blank\">earthy-sweep-6</a></strong> to <a href='https://wandb.ai/cs24m018-iitmaana/DA6401%20Assignment1' target=\"_blank\">Weights & Biases</a> (<a href='https://wandb.me/developer-guide' target=\"_blank\">docs</a>)<br>Sweep page: <a href='https://wandb.ai/cs24m018-iitmaana/DA6401%20Assignment1/sweeps/641wtoy1' target=\"_blank\">https://wandb.ai/cs24m018-iitmaana/DA6401%20Assignment1/sweeps/641wtoy1</a>"
            ]
          },
          "metadata": {}
        },
        {
          "output_type": "display_data",
          "data": {
            "text/plain": [
              "<IPython.core.display.HTML object>"
            ],
            "text/html": [
              " View project at <a href='https://wandb.ai/cs24m018-iitmaana/DA6401%20Assignment1' target=\"_blank\">https://wandb.ai/cs24m018-iitmaana/DA6401%20Assignment1</a>"
            ]
          },
          "metadata": {}
        },
        {
          "output_type": "display_data",
          "data": {
            "text/plain": [
              "<IPython.core.display.HTML object>"
            ],
            "text/html": [
              " View sweep at <a href='https://wandb.ai/cs24m018-iitmaana/DA6401%20Assignment1/sweeps/641wtoy1' target=\"_blank\">https://wandb.ai/cs24m018-iitmaana/DA6401%20Assignment1/sweeps/641wtoy1</a>"
            ]
          },
          "metadata": {}
        },
        {
          "output_type": "display_data",
          "data": {
            "text/plain": [
              "<IPython.core.display.HTML object>"
            ],
            "text/html": [
              " View run at <a href='https://wandb.ai/cs24m018-iitmaana/DA6401%20Assignment1/runs/h5yjy0v1' target=\"_blank\">https://wandb.ai/cs24m018-iitmaana/DA6401%20Assignment1/runs/h5yjy0v1</a>"
            ]
          },
          "metadata": {}
        },
        {
          "output_type": "stream",
          "name": "stdout",
          "text": [
            "Validation Accuracy:  57.88333333333333\n",
            "Validation Loss:  1.667305394836435\n",
            "Training Accuracy:  58.24583333333333\n",
            "Training Loss:  1.6685061620677024\n",
            "Validation Accuracy:  63.88333333333333\n",
            "Validation Loss:  1.6186790720003934\n",
            "Training Accuracy:  63.520833333333336\n",
            "Training Loss:  1.619169141804666\n",
            "Validation Accuracy:  69.86666666666666\n",
            "Validation Loss:  1.6150907739019111\n",
            "Training Accuracy:  69.76458333333333\n",
            "Training Loss:  1.6162798279884374\n",
            "Validation Accuracy:  74.68333333333334\n",
            "Validation Loss:  1.5896002426703193\n",
            "Training Accuracy:  75.33958333333334\n",
            "Training Loss:  1.5899912449968014\n",
            "Validation Accuracy:  70.00833333333334\n",
            "Validation Loss:  1.568645754170379\n",
            "Training Accuracy:  70.05416666666666\n",
            "Training Loss:  1.5684438847071\n",
            "Validation Accuracy:  76.375\n",
            "Validation Loss:  1.633855541747253\n",
            "Training Accuracy:  76.65833333333333\n",
            "Training Loss:  1.6341771060281673\n",
            "Validation Accuracy:  75.04166666666667\n",
            "Validation Loss:  1.6060744253868728\n",
            "Training Accuracy:  75.5125\n",
            "Training Loss:  1.6060644390344565\n",
            "Validation Accuracy:  72.36666666666666\n",
            "Validation Loss:  1.6534483828061233\n",
            "Training Accuracy:  72.95416666666667\n",
            "Training Loss:  1.6547685244755606\n",
            "Validation Accuracy:  75.0\n",
            "Validation Loss:  1.604362518441863\n",
            "Training Accuracy:  75.11458333333333\n",
            "Training Loss:  1.605617092826592\n",
            "Validation Accuracy:  77.54166666666667\n",
            "Validation Loss:  1.6569765842822086\n",
            "Training Accuracy:  77.40416666666667\n",
            "Training Loss:  1.6574390766851175\n"
          ]
        },
        {
          "output_type": "display_data",
          "data": {
            "text/plain": [
              "<IPython.core.display.HTML object>"
            ],
            "text/html": []
          },
          "metadata": {}
        },
        {
          "output_type": "display_data",
          "data": {
            "text/plain": [
              "<IPython.core.display.HTML object>"
            ],
            "text/html": [
              "<br>    <style><br>        .wandb-row {<br>            display: flex;<br>            flex-direction: row;<br>            flex-wrap: wrap;<br>            justify-content: flex-start;<br>            width: 100%;<br>        }<br>        .wandb-col {<br>            display: flex;<br>            flex-direction: column;<br>            flex-basis: 100%;<br>            flex: 1;<br>            padding: 10px;<br>        }<br>    </style><br><div class=\"wandb-row\"><div class=\"wandb-col\"><h3>Run history:</h3><br/><table class=\"wandb\"><tr><td>Batch Size</td><td>▁▁▁▁▁▁▁▁▁▁</td></tr><tr><td>Epoch</td><td>▁▂▃▃▄▅▆▆▇█</td></tr><tr><td>Learning Rate</td><td>▁▁▁▁▁▁▁▁▁▁</td></tr><tr><td>Training Accuracy</td><td>▁▃▅▇▅█▇▆▇█</td></tr><tr><td>Training Loss</td><td>█▅▄▃▁▆▄▇▄▇</td></tr><tr><td>Validation Accuracy</td><td>▁▃▅▇▅█▇▆▇█</td></tr><tr><td>Validation Loss</td><td>█▅▄▂▁▆▄▇▄▇</td></tr></table><br/></div><div class=\"wandb-col\"><h3>Run summary:</h3><br/><table class=\"wandb\"><tr><td>Batch Size</td><td>32</td></tr><tr><td>Epoch</td><td>10</td></tr><tr><td>Learning Rate</td><td>0.001</td></tr><tr><td>Optimiser</td><td>momentumBasedGradien...</td></tr><tr><td>Training Accuracy</td><td>77.40417</td></tr><tr><td>Training Loss</td><td>1.65744</td></tr><tr><td>Validation Accuracy</td><td>77.54167</td></tr><tr><td>Validation Loss</td><td>1.65698</td></tr></table><br/></div></div>"
            ]
          },
          "metadata": {}
        },
        {
          "output_type": "display_data",
          "data": {
            "text/plain": [
              "<IPython.core.display.HTML object>"
            ],
            "text/html": [
              " View run <strong style=\"color:#cdcd00\">hS128_lr0.001_momentumBasedGradientDescent_bs32_aftanh</strong> at: <a href='https://wandb.ai/cs24m018-iitmaana/DA6401%20Assignment1/runs/h5yjy0v1' target=\"_blank\">https://wandb.ai/cs24m018-iitmaana/DA6401%20Assignment1/runs/h5yjy0v1</a><br> View project at: <a href='https://wandb.ai/cs24m018-iitmaana/DA6401%20Assignment1' target=\"_blank\">https://wandb.ai/cs24m018-iitmaana/DA6401%20Assignment1</a><br>Synced 5 W&B file(s), 0 media file(s), 0 artifact file(s) and 0 other file(s)"
            ]
          },
          "metadata": {}
        },
        {
          "output_type": "display_data",
          "data": {
            "text/plain": [
              "<IPython.core.display.HTML object>"
            ],
            "text/html": [
              "Find logs at: <code>./wandb/run-20250309_182925-h5yjy0v1/logs</code>"
            ]
          },
          "metadata": {}
        },
        {
          "output_type": "stream",
          "name": "stderr",
          "text": [
            "\u001b[34m\u001b[1mwandb\u001b[0m: Agent Starting Run: 3ro6xois with config:\n",
            "\u001b[34m\u001b[1mwandb\u001b[0m: \tactivationFunc: tanh\n",
            "\u001b[34m\u001b[1mwandb\u001b[0m: \tbatchSize: 32\n",
            "\u001b[34m\u001b[1mwandb\u001b[0m: \tepochs: 10\n",
            "\u001b[34m\u001b[1mwandb\u001b[0m: \thiddenLayerCount: 5\n",
            "\u001b[34m\u001b[1mwandb\u001b[0m: \thiddenSize: 32\n",
            "\u001b[34m\u001b[1mwandb\u001b[0m: \tinitMode: xavier\n",
            "\u001b[34m\u001b[1mwandb\u001b[0m: \tlearningRate: 0.0001\n",
            "\u001b[34m\u001b[1mwandb\u001b[0m: \tlossFunc: crossEntropyLoss\n",
            "\u001b[34m\u001b[1mwandb\u001b[0m: \toptimiser: rmsProp\n",
            "\u001b[34m\u001b[1mwandb\u001b[0m: \tweightDecay: 0.5\n"
          ]
        },
        {
          "output_type": "display_data",
          "data": {
            "text/plain": [
              "<IPython.core.display.HTML object>"
            ],
            "text/html": [
              "Tracking run with wandb version 0.19.7"
            ]
          },
          "metadata": {}
        },
        {
          "output_type": "display_data",
          "data": {
            "text/plain": [
              "<IPython.core.display.HTML object>"
            ],
            "text/html": [
              "Run data is saved locally in <code>/content/wandb/run-20250309_183011-3ro6xois</code>"
            ]
          },
          "metadata": {}
        },
        {
          "output_type": "display_data",
          "data": {
            "text/plain": [
              "<IPython.core.display.HTML object>"
            ],
            "text/html": [
              "Syncing run <strong><a href='https://wandb.ai/cs24m018-iitmaana/DA6401%20Assignment1/runs/3ro6xois' target=\"_blank\">kind-sweep-7</a></strong> to <a href='https://wandb.ai/cs24m018-iitmaana/DA6401%20Assignment1' target=\"_blank\">Weights & Biases</a> (<a href='https://wandb.me/developer-guide' target=\"_blank\">docs</a>)<br>Sweep page: <a href='https://wandb.ai/cs24m018-iitmaana/DA6401%20Assignment1/sweeps/641wtoy1' target=\"_blank\">https://wandb.ai/cs24m018-iitmaana/DA6401%20Assignment1/sweeps/641wtoy1</a>"
            ]
          },
          "metadata": {}
        },
        {
          "output_type": "display_data",
          "data": {
            "text/plain": [
              "<IPython.core.display.HTML object>"
            ],
            "text/html": [
              " View project at <a href='https://wandb.ai/cs24m018-iitmaana/DA6401%20Assignment1' target=\"_blank\">https://wandb.ai/cs24m018-iitmaana/DA6401%20Assignment1</a>"
            ]
          },
          "metadata": {}
        },
        {
          "output_type": "display_data",
          "data": {
            "text/plain": [
              "<IPython.core.display.HTML object>"
            ],
            "text/html": [
              " View sweep at <a href='https://wandb.ai/cs24m018-iitmaana/DA6401%20Assignment1/sweeps/641wtoy1' target=\"_blank\">https://wandb.ai/cs24m018-iitmaana/DA6401%20Assignment1/sweeps/641wtoy1</a>"
            ]
          },
          "metadata": {}
        },
        {
          "output_type": "display_data",
          "data": {
            "text/plain": [
              "<IPython.core.display.HTML object>"
            ],
            "text/html": [
              " View run at <a href='https://wandb.ai/cs24m018-iitmaana/DA6401%20Assignment1/runs/3ro6xois' target=\"_blank\">https://wandb.ai/cs24m018-iitmaana/DA6401%20Assignment1/runs/3ro6xois</a>"
            ]
          },
          "metadata": {}
        },
        {
          "output_type": "stream",
          "name": "stdout",
          "text": [
            "Validation Accuracy:  27.016666666666666\n",
            "Validation Loss:  2.099501960808744\n",
            "Training Accuracy:  27.402083333333334\n",
            "Training Loss:  2.0970302557294955\n",
            "Validation Accuracy:  41.36666666666667\n",
            "Validation Loss:  1.9564652236922477\n",
            "Training Accuracy:  41.947916666666664\n",
            "Training Loss:  1.9525183263687764\n",
            "Validation Accuracy:  46.775\n",
            "Validation Loss:  1.8678945888874117\n",
            "Training Accuracy:  47.34375\n",
            "Training Loss:  1.8636307614332805\n",
            "Validation Accuracy:  50.09166666666667\n",
            "Validation Loss:  1.8076724593776041\n",
            "Training Accuracy:  50.87291666666667\n",
            "Training Loss:  1.8034690188009217\n",
            "Validation Accuracy:  53.38333333333333\n",
            "Validation Loss:  1.7614295013680974\n",
            "Training Accuracy:  54.045833333333334\n",
            "Training Loss:  1.7573834154323125\n",
            "Validation Accuracy:  56.641666666666666\n",
            "Validation Loss:  1.7240553841014785\n",
            "Training Accuracy:  57.077083333333334\n",
            "Training Loss:  1.7201710529104421\n",
            "Validation Accuracy:  59.03333333333333\n",
            "Validation Loss:  1.693347663386263\n",
            "Training Accuracy:  59.56875\n",
            "Training Loss:  1.6895956898169646\n",
            "Validation Accuracy:  61.11666666666667\n",
            "Validation Loss:  1.6679772977919873\n",
            "Training Accuracy:  61.5625\n",
            "Training Loss:  1.664327404920391\n",
            "Validation Accuracy:  62.766666666666666\n",
            "Validation Loss:  1.6469032813838602\n",
            "Training Accuracy:  62.9875\n",
            "Training Loss:  1.6433374019178113\n",
            "Validation Accuracy:  63.791666666666664\n",
            "Validation Loss:  1.6292721521458264\n",
            "Training Accuracy:  64.07083333333334\n",
            "Training Loss:  1.6257823215036342\n"
          ]
        },
        {
          "output_type": "display_data",
          "data": {
            "text/plain": [
              "<IPython.core.display.HTML object>"
            ],
            "text/html": []
          },
          "metadata": {}
        },
        {
          "output_type": "display_data",
          "data": {
            "text/plain": [
              "<IPython.core.display.HTML object>"
            ],
            "text/html": [
              "<br>    <style><br>        .wandb-row {<br>            display: flex;<br>            flex-direction: row;<br>            flex-wrap: wrap;<br>            justify-content: flex-start;<br>            width: 100%;<br>        }<br>        .wandb-col {<br>            display: flex;<br>            flex-direction: column;<br>            flex-basis: 100%;<br>            flex: 1;<br>            padding: 10px;<br>        }<br>    </style><br><div class=\"wandb-row\"><div class=\"wandb-col\"><h3>Run history:</h3><br/><table class=\"wandb\"><tr><td>Batch Size</td><td>▁▁▁▁▁▁▁▁▁▁</td></tr><tr><td>Epoch</td><td>▁▂▃▃▄▅▆▆▇█</td></tr><tr><td>Learning Rate</td><td>▁▁▁▁▁▁▁▁▁▁</td></tr><tr><td>Training Accuracy</td><td>▁▄▅▅▆▇▇███</td></tr><tr><td>Training Loss</td><td>█▆▅▄▃▂▂▂▁▁</td></tr><tr><td>Validation Accuracy</td><td>▁▄▅▅▆▇▇▇██</td></tr><tr><td>Validation Loss</td><td>█▆▅▄▃▂▂▂▁▁</td></tr></table><br/></div><div class=\"wandb-col\"><h3>Run summary:</h3><br/><table class=\"wandb\"><tr><td>Batch Size</td><td>32</td></tr><tr><td>Epoch</td><td>10</td></tr><tr><td>Learning Rate</td><td>0.0001</td></tr><tr><td>Optimiser</td><td>rmsProp</td></tr><tr><td>Training Accuracy</td><td>64.07083</td></tr><tr><td>Training Loss</td><td>1.62578</td></tr><tr><td>Validation Accuracy</td><td>63.79167</td></tr><tr><td>Validation Loss</td><td>1.62927</td></tr></table><br/></div></div>"
            ]
          },
          "metadata": {}
        },
        {
          "output_type": "display_data",
          "data": {
            "text/plain": [
              "<IPython.core.display.HTML object>"
            ],
            "text/html": [
              " View run <strong style=\"color:#cdcd00\">hS32_lr0.0001_rmsProp_bs32_aftanh</strong> at: <a href='https://wandb.ai/cs24m018-iitmaana/DA6401%20Assignment1/runs/3ro6xois' target=\"_blank\">https://wandb.ai/cs24m018-iitmaana/DA6401%20Assignment1/runs/3ro6xois</a><br> View project at: <a href='https://wandb.ai/cs24m018-iitmaana/DA6401%20Assignment1' target=\"_blank\">https://wandb.ai/cs24m018-iitmaana/DA6401%20Assignment1</a><br>Synced 5 W&B file(s), 0 media file(s), 0 artifact file(s) and 0 other file(s)"
            ]
          },
          "metadata": {}
        },
        {
          "output_type": "display_data",
          "data": {
            "text/plain": [
              "<IPython.core.display.HTML object>"
            ],
            "text/html": [
              "Find logs at: <code>./wandb/run-20250309_183011-3ro6xois/logs</code>"
            ]
          },
          "metadata": {}
        },
        {
          "output_type": "stream",
          "name": "stderr",
          "text": [
            "\u001b[34m\u001b[1mwandb\u001b[0m: Agent Starting Run: q2zwt5d6 with config:\n",
            "\u001b[34m\u001b[1mwandb\u001b[0m: \tactivationFunc: relu\n",
            "\u001b[34m\u001b[1mwandb\u001b[0m: \tbatchSize: 64\n",
            "\u001b[34m\u001b[1mwandb\u001b[0m: \tepochs: 10\n",
            "\u001b[34m\u001b[1mwandb\u001b[0m: \thiddenLayerCount: 5\n",
            "\u001b[34m\u001b[1mwandb\u001b[0m: \thiddenSize: 32\n",
            "\u001b[34m\u001b[1mwandb\u001b[0m: \tinitMode: random\n",
            "\u001b[34m\u001b[1mwandb\u001b[0m: \tlearningRate: 0.001\n",
            "\u001b[34m\u001b[1mwandb\u001b[0m: \tlossFunc: squaredLoss\n",
            "\u001b[34m\u001b[1mwandb\u001b[0m: \toptimiser: rmsProp\n",
            "\u001b[34m\u001b[1mwandb\u001b[0m: \tweightDecay: 0.5\n"
          ]
        },
        {
          "output_type": "display_data",
          "data": {
            "text/plain": [
              "<IPython.core.display.HTML object>"
            ],
            "text/html": [
              "Tracking run with wandb version 0.19.7"
            ]
          },
          "metadata": {}
        },
        {
          "output_type": "display_data",
          "data": {
            "text/plain": [
              "<IPython.core.display.HTML object>"
            ],
            "text/html": [
              "Run data is saved locally in <code>/content/wandb/run-20250309_183031-q2zwt5d6</code>"
            ]
          },
          "metadata": {}
        },
        {
          "output_type": "display_data",
          "data": {
            "text/plain": [
              "<IPython.core.display.HTML object>"
            ],
            "text/html": [
              "Syncing run <strong><a href='https://wandb.ai/cs24m018-iitmaana/DA6401%20Assignment1/runs/q2zwt5d6' target=\"_blank\">neat-sweep-8</a></strong> to <a href='https://wandb.ai/cs24m018-iitmaana/DA6401%20Assignment1' target=\"_blank\">Weights & Biases</a> (<a href='https://wandb.me/developer-guide' target=\"_blank\">docs</a>)<br>Sweep page: <a href='https://wandb.ai/cs24m018-iitmaana/DA6401%20Assignment1/sweeps/641wtoy1' target=\"_blank\">https://wandb.ai/cs24m018-iitmaana/DA6401%20Assignment1/sweeps/641wtoy1</a>"
            ]
          },
          "metadata": {}
        },
        {
          "output_type": "display_data",
          "data": {
            "text/plain": [
              "<IPython.core.display.HTML object>"
            ],
            "text/html": [
              " View project at <a href='https://wandb.ai/cs24m018-iitmaana/DA6401%20Assignment1' target=\"_blank\">https://wandb.ai/cs24m018-iitmaana/DA6401%20Assignment1</a>"
            ]
          },
          "metadata": {}
        },
        {
          "output_type": "display_data",
          "data": {
            "text/plain": [
              "<IPython.core.display.HTML object>"
            ],
            "text/html": [
              " View sweep at <a href='https://wandb.ai/cs24m018-iitmaana/DA6401%20Assignment1/sweeps/641wtoy1' target=\"_blank\">https://wandb.ai/cs24m018-iitmaana/DA6401%20Assignment1/sweeps/641wtoy1</a>"
            ]
          },
          "metadata": {}
        },
        {
          "output_type": "display_data",
          "data": {
            "text/plain": [
              "<IPython.core.display.HTML object>"
            ],
            "text/html": [
              " View run at <a href='https://wandb.ai/cs24m018-iitmaana/DA6401%20Assignment1/runs/q2zwt5d6' target=\"_blank\">https://wandb.ai/cs24m018-iitmaana/DA6401%20Assignment1/runs/q2zwt5d6</a>"
            ]
          },
          "metadata": {}
        },
        {
          "output_type": "stream",
          "name": "stdout",
          "text": [
            "Validation Accuracy:  33.766666666666666\n",
            "Validation Loss:  1.88454145258767\n",
            "Training Accuracy:  34.708333333333336\n",
            "Training Loss:  1.879083300045075\n",
            "Validation Accuracy:  38.425\n",
            "Validation Loss:  1.6002768581890845\n",
            "Training Accuracy:  39.329166666666666\n",
            "Training Loss:  1.5935566863515704\n",
            "Validation Accuracy:  51.68333333333333\n",
            "Validation Loss:  1.3423022395772786\n",
            "Training Accuracy:  52.12916666666667\n",
            "Training Loss:  1.3376249754571667\n",
            "Validation Accuracy:  61.15\n",
            "Validation Loss:  1.1522162166782886\n",
            "Training Accuracy:  61.041666666666664\n",
            "Training Loss:  1.150527052929341\n",
            "Validation Accuracy:  65.19166666666666\n",
            "Validation Loss:  1.006274235992549\n",
            "Training Accuracy:  64.98125\n",
            "Training Loss:  1.0082556102948075\n",
            "Validation Accuracy:  67.04166666666667\n",
            "Validation Loss:  0.930055913469761\n",
            "Training Accuracy:  66.9\n",
            "Training Loss:  0.9327743517642013\n",
            "Validation Accuracy:  68.06666666666666\n",
            "Validation Loss:  0.8854983343929717\n",
            "Training Accuracy:  67.86875\n",
            "Training Loss:  0.8894147964108373\n",
            "Validation Accuracy:  70.10833333333333\n",
            "Validation Loss:  0.8302096878965433\n",
            "Training Accuracy:  69.92708333333333\n",
            "Training Loss:  0.835206460976206\n",
            "Validation Accuracy:  71.51666666666667\n",
            "Validation Loss:  0.7923348375465027\n",
            "Training Accuracy:  71.35208333333334\n",
            "Training Loss:  0.7985801161363426\n",
            "Validation Accuracy:  73.24166666666666\n",
            "Validation Loss:  0.7591282217253496\n",
            "Training Accuracy:  72.93958333333333\n",
            "Training Loss:  0.7659460923789203\n"
          ]
        },
        {
          "output_type": "display_data",
          "data": {
            "text/plain": [
              "<IPython.core.display.HTML object>"
            ],
            "text/html": []
          },
          "metadata": {}
        },
        {
          "output_type": "display_data",
          "data": {
            "text/plain": [
              "<IPython.core.display.HTML object>"
            ],
            "text/html": [
              "<br>    <style><br>        .wandb-row {<br>            display: flex;<br>            flex-direction: row;<br>            flex-wrap: wrap;<br>            justify-content: flex-start;<br>            width: 100%;<br>        }<br>        .wandb-col {<br>            display: flex;<br>            flex-direction: column;<br>            flex-basis: 100%;<br>            flex: 1;<br>            padding: 10px;<br>        }<br>    </style><br><div class=\"wandb-row\"><div class=\"wandb-col\"><h3>Run history:</h3><br/><table class=\"wandb\"><tr><td>Batch Size</td><td>▁▁▁▁▁▁▁▁▁▁</td></tr><tr><td>Epoch</td><td>▁▂▃▃▄▅▆▆▇█</td></tr><tr><td>Learning Rate</td><td>▁▁▁▁▁▁▁▁▁▁</td></tr><tr><td>Training Accuracy</td><td>▁▂▄▆▇▇▇▇██</td></tr><tr><td>Training Loss</td><td>█▆▅▃▃▂▂▁▁▁</td></tr><tr><td>Validation Accuracy</td><td>▁▂▄▆▇▇▇▇██</td></tr><tr><td>Validation Loss</td><td>█▆▅▃▃▂▂▁▁▁</td></tr></table><br/></div><div class=\"wandb-col\"><h3>Run summary:</h3><br/><table class=\"wandb\"><tr><td>Batch Size</td><td>64</td></tr><tr><td>Epoch</td><td>10</td></tr><tr><td>Learning Rate</td><td>0.001</td></tr><tr><td>Optimiser</td><td>rmsProp</td></tr><tr><td>Training Accuracy</td><td>72.93958</td></tr><tr><td>Training Loss</td><td>0.76595</td></tr><tr><td>Validation Accuracy</td><td>73.24167</td></tr><tr><td>Validation Loss</td><td>0.75913</td></tr></table><br/></div></div>"
            ]
          },
          "metadata": {}
        },
        {
          "output_type": "display_data",
          "data": {
            "text/plain": [
              "<IPython.core.display.HTML object>"
            ],
            "text/html": [
              " View run <strong style=\"color:#cdcd00\">hS32_lr0.001_rmsProp_bs64_afrelu</strong> at: <a href='https://wandb.ai/cs24m018-iitmaana/DA6401%20Assignment1/runs/q2zwt5d6' target=\"_blank\">https://wandb.ai/cs24m018-iitmaana/DA6401%20Assignment1/runs/q2zwt5d6</a><br> View project at: <a href='https://wandb.ai/cs24m018-iitmaana/DA6401%20Assignment1' target=\"_blank\">https://wandb.ai/cs24m018-iitmaana/DA6401%20Assignment1</a><br>Synced 5 W&B file(s), 0 media file(s), 0 artifact file(s) and 0 other file(s)"
            ]
          },
          "metadata": {}
        },
        {
          "output_type": "display_data",
          "data": {
            "text/plain": [
              "<IPython.core.display.HTML object>"
            ],
            "text/html": [
              "Find logs at: <code>./wandb/run-20250309_183031-q2zwt5d6/logs</code>"
            ]
          },
          "metadata": {}
        },
        {
          "output_type": "stream",
          "name": "stderr",
          "text": [
            "\u001b[34m\u001b[1mwandb\u001b[0m: Agent Starting Run: r59unojr with config:\n",
            "\u001b[34m\u001b[1mwandb\u001b[0m: \tactivationFunc: tanh\n",
            "\u001b[34m\u001b[1mwandb\u001b[0m: \tbatchSize: 32\n",
            "\u001b[34m\u001b[1mwandb\u001b[0m: \tepochs: 5\n",
            "\u001b[34m\u001b[1mwandb\u001b[0m: \thiddenLayerCount: 5\n",
            "\u001b[34m\u001b[1mwandb\u001b[0m: \thiddenSize: 64\n",
            "\u001b[34m\u001b[1mwandb\u001b[0m: \tinitMode: random\n",
            "\u001b[34m\u001b[1mwandb\u001b[0m: \tlearningRate: 0.0001\n",
            "\u001b[34m\u001b[1mwandb\u001b[0m: \tlossFunc: crossEntropyLoss\n",
            "\u001b[34m\u001b[1mwandb\u001b[0m: \toptimiser: adam\n",
            "\u001b[34m\u001b[1mwandb\u001b[0m: \tweightDecay: 0.0005\n"
          ]
        },
        {
          "output_type": "display_data",
          "data": {
            "text/plain": [
              "<IPython.core.display.HTML object>"
            ],
            "text/html": [
              "Tracking run with wandb version 0.19.7"
            ]
          },
          "metadata": {}
        },
        {
          "output_type": "display_data",
          "data": {
            "text/plain": [
              "<IPython.core.display.HTML object>"
            ],
            "text/html": [
              "Run data is saved locally in <code>/content/wandb/run-20250309_183046-r59unojr</code>"
            ]
          },
          "metadata": {}
        },
        {
          "output_type": "display_data",
          "data": {
            "text/plain": [
              "<IPython.core.display.HTML object>"
            ],
            "text/html": [
              "Syncing run <strong><a href='https://wandb.ai/cs24m018-iitmaana/DA6401%20Assignment1/runs/r59unojr' target=\"_blank\">sage-sweep-9</a></strong> to <a href='https://wandb.ai/cs24m018-iitmaana/DA6401%20Assignment1' target=\"_blank\">Weights & Biases</a> (<a href='https://wandb.me/developer-guide' target=\"_blank\">docs</a>)<br>Sweep page: <a href='https://wandb.ai/cs24m018-iitmaana/DA6401%20Assignment1/sweeps/641wtoy1' target=\"_blank\">https://wandb.ai/cs24m018-iitmaana/DA6401%20Assignment1/sweeps/641wtoy1</a>"
            ]
          },
          "metadata": {}
        },
        {
          "output_type": "display_data",
          "data": {
            "text/plain": [
              "<IPython.core.display.HTML object>"
            ],
            "text/html": [
              " View project at <a href='https://wandb.ai/cs24m018-iitmaana/DA6401%20Assignment1' target=\"_blank\">https://wandb.ai/cs24m018-iitmaana/DA6401%20Assignment1</a>"
            ]
          },
          "metadata": {}
        },
        {
          "output_type": "display_data",
          "data": {
            "text/plain": [
              "<IPython.core.display.HTML object>"
            ],
            "text/html": [
              " View sweep at <a href='https://wandb.ai/cs24m018-iitmaana/DA6401%20Assignment1/sweeps/641wtoy1' target=\"_blank\">https://wandb.ai/cs24m018-iitmaana/DA6401%20Assignment1/sweeps/641wtoy1</a>"
            ]
          },
          "metadata": {}
        },
        {
          "output_type": "display_data",
          "data": {
            "text/plain": [
              "<IPython.core.display.HTML object>"
            ],
            "text/html": [
              " View run at <a href='https://wandb.ai/cs24m018-iitmaana/DA6401%20Assignment1/runs/r59unojr' target=\"_blank\">https://wandb.ai/cs24m018-iitmaana/DA6401%20Assignment1/runs/r59unojr</a>"
            ]
          },
          "metadata": {}
        },
        {
          "output_type": "stream",
          "name": "stdout",
          "text": [
            "Validation Accuracy:  41.983333333333334\n",
            "Validation Loss:  1.9542796421008055\n",
            "Training Accuracy:  41.62916666666667\n",
            "Training Loss:  1.9567340059014295\n",
            "Validation Accuracy:  53.075\n",
            "Validation Loss:  1.7985950937567468\n",
            "Training Accuracy:  52.56666666666667\n",
            "Training Loss:  1.8019976664797281\n",
            "Validation Accuracy:  58.525\n",
            "Validation Loss:  1.7110324191990594\n",
            "Training Accuracy:  58.047916666666666\n",
            "Training Loss:  1.7146274943233315\n",
            "Validation Accuracy:  62.74166666666667\n",
            "Validation Loss:  1.659690394574905\n",
            "Training Accuracy:  62.09791666666667\n",
            "Training Loss:  1.662944563961957\n",
            "Validation Accuracy:  65.40833333333333\n",
            "Validation Loss:  1.6271276545595137\n",
            "Training Accuracy:  64.76875\n",
            "Training Loss:  1.6299784242447561\n",
            "Validation Accuracy:  66.98333333333333\n",
            "Validation Loss:  1.6046876661762755\n",
            "Training Accuracy:  66.49375\n",
            "Training Loss:  1.6071786987483647\n",
            "Validation Accuracy:  68.25833333333334\n",
            "Validation Loss:  1.587961420955138\n",
            "Training Accuracy:  67.68125\n",
            "Training Loss:  1.590155300332562\n",
            "Validation Accuracy:  69.28333333333333\n",
            "Validation Loss:  1.5746686184528702\n",
            "Training Accuracy:  68.81875\n",
            "Training Loss:  1.5766243541591962\n",
            "Validation Accuracy:  70.55\n",
            "Validation Loss:  1.5636303104417624\n",
            "Training Accuracy:  69.91875\n",
            "Training Loss:  1.5653981345686112\n",
            "Validation Accuracy:  71.525\n",
            "Validation Loss:  1.554202616812461\n",
            "Training Accuracy:  70.98958333333333\n",
            "Training Loss:  1.5558241847838017\n"
          ]
        },
        {
          "output_type": "display_data",
          "data": {
            "text/plain": [
              "<IPython.core.display.HTML object>"
            ],
            "text/html": []
          },
          "metadata": {}
        },
        {
          "output_type": "display_data",
          "data": {
            "text/plain": [
              "<IPython.core.display.HTML object>"
            ],
            "text/html": [
              "<br>    <style><br>        .wandb-row {<br>            display: flex;<br>            flex-direction: row;<br>            flex-wrap: wrap;<br>            justify-content: flex-start;<br>            width: 100%;<br>        }<br>        .wandb-col {<br>            display: flex;<br>            flex-direction: column;<br>            flex-basis: 100%;<br>            flex: 1;<br>            padding: 10px;<br>        }<br>    </style><br><div class=\"wandb-row\"><div class=\"wandb-col\"><h3>Run history:</h3><br/><table class=\"wandb\"><tr><td>Batch Size</td><td>▁▁▁▁▁▁▁▁▁▁</td></tr><tr><td>Epoch</td><td>▁▂▃▃▄▅▆▆▇█</td></tr><tr><td>Learning Rate</td><td>▁▁▁▁▁▁▁▁▁▁</td></tr><tr><td>Training Accuracy</td><td>▁▄▅▆▇▇▇▇██</td></tr><tr><td>Training Loss</td><td>█▅▄▃▂▂▂▁▁▁</td></tr><tr><td>Validation Accuracy</td><td>▁▄▅▆▇▇▇▇██</td></tr><tr><td>Validation Loss</td><td>█▅▄▃▂▂▂▁▁▁</td></tr></table><br/></div><div class=\"wandb-col\"><h3>Run summary:</h3><br/><table class=\"wandb\"><tr><td>Batch Size</td><td>32</td></tr><tr><td>Epoch</td><td>10</td></tr><tr><td>Learning Rate</td><td>0.0001</td></tr><tr><td>Optimiser</td><td>adam</td></tr><tr><td>Training Accuracy</td><td>70.98958</td></tr><tr><td>Training Loss</td><td>1.55582</td></tr><tr><td>Validation Accuracy</td><td>71.525</td></tr><tr><td>Validation Loss</td><td>1.5542</td></tr></table><br/></div></div>"
            ]
          },
          "metadata": {}
        },
        {
          "output_type": "display_data",
          "data": {
            "text/plain": [
              "<IPython.core.display.HTML object>"
            ],
            "text/html": [
              " View run <strong style=\"color:#cdcd00\">hS64_lr0.0001_adam_bs32_aftanh</strong> at: <a href='https://wandb.ai/cs24m018-iitmaana/DA6401%20Assignment1/runs/r59unojr' target=\"_blank\">https://wandb.ai/cs24m018-iitmaana/DA6401%20Assignment1/runs/r59unojr</a><br> View project at: <a href='https://wandb.ai/cs24m018-iitmaana/DA6401%20Assignment1' target=\"_blank\">https://wandb.ai/cs24m018-iitmaana/DA6401%20Assignment1</a><br>Synced 5 W&B file(s), 0 media file(s), 0 artifact file(s) and 0 other file(s)"
            ]
          },
          "metadata": {}
        },
        {
          "output_type": "display_data",
          "data": {
            "text/plain": [
              "<IPython.core.display.HTML object>"
            ],
            "text/html": [
              "Find logs at: <code>./wandb/run-20250309_183046-r59unojr/logs</code>"
            ]
          },
          "metadata": {}
        },
        {
          "output_type": "stream",
          "name": "stderr",
          "text": [
            "\u001b[34m\u001b[1mwandb\u001b[0m: Agent Starting Run: tak629fv with config:\n",
            "\u001b[34m\u001b[1mwandb\u001b[0m: \tactivationFunc: tanh\n",
            "\u001b[34m\u001b[1mwandb\u001b[0m: \tbatchSize: 16\n",
            "\u001b[34m\u001b[1mwandb\u001b[0m: \tepochs: 5\n",
            "\u001b[34m\u001b[1mwandb\u001b[0m: \thiddenLayerCount: 5\n",
            "\u001b[34m\u001b[1mwandb\u001b[0m: \thiddenSize: 128\n",
            "\u001b[34m\u001b[1mwandb\u001b[0m: \tinitMode: xavier\n",
            "\u001b[34m\u001b[1mwandb\u001b[0m: \tlearningRate: 0.001\n",
            "\u001b[34m\u001b[1mwandb\u001b[0m: \tlossFunc: squaredLoss\n",
            "\u001b[34m\u001b[1mwandb\u001b[0m: \toptimiser: adam\n",
            "\u001b[34m\u001b[1mwandb\u001b[0m: \tweightDecay: 0\n"
          ]
        },
        {
          "output_type": "display_data",
          "data": {
            "text/plain": [
              "<IPython.core.display.HTML object>"
            ],
            "text/html": [
              "Tracking run with wandb version 0.19.7"
            ]
          },
          "metadata": {}
        },
        {
          "output_type": "display_data",
          "data": {
            "text/plain": [
              "<IPython.core.display.HTML object>"
            ],
            "text/html": [
              "Run data is saved locally in <code>/content/wandb/run-20250309_183117-tak629fv</code>"
            ]
          },
          "metadata": {}
        },
        {
          "output_type": "display_data",
          "data": {
            "text/plain": [
              "<IPython.core.display.HTML object>"
            ],
            "text/html": [
              "Syncing run <strong><a href='https://wandb.ai/cs24m018-iitmaana/DA6401%20Assignment1/runs/tak629fv' target=\"_blank\">denim-sweep-10</a></strong> to <a href='https://wandb.ai/cs24m018-iitmaana/DA6401%20Assignment1' target=\"_blank\">Weights & Biases</a> (<a href='https://wandb.me/developer-guide' target=\"_blank\">docs</a>)<br>Sweep page: <a href='https://wandb.ai/cs24m018-iitmaana/DA6401%20Assignment1/sweeps/641wtoy1' target=\"_blank\">https://wandb.ai/cs24m018-iitmaana/DA6401%20Assignment1/sweeps/641wtoy1</a>"
            ]
          },
          "metadata": {}
        },
        {
          "output_type": "display_data",
          "data": {
            "text/plain": [
              "<IPython.core.display.HTML object>"
            ],
            "text/html": [
              " View project at <a href='https://wandb.ai/cs24m018-iitmaana/DA6401%20Assignment1' target=\"_blank\">https://wandb.ai/cs24m018-iitmaana/DA6401%20Assignment1</a>"
            ]
          },
          "metadata": {}
        },
        {
          "output_type": "display_data",
          "data": {
            "text/plain": [
              "<IPython.core.display.HTML object>"
            ],
            "text/html": [
              " View sweep at <a href='https://wandb.ai/cs24m018-iitmaana/DA6401%20Assignment1/sweeps/641wtoy1' target=\"_blank\">https://wandb.ai/cs24m018-iitmaana/DA6401%20Assignment1/sweeps/641wtoy1</a>"
            ]
          },
          "metadata": {}
        },
        {
          "output_type": "display_data",
          "data": {
            "text/plain": [
              "<IPython.core.display.HTML object>"
            ],
            "text/html": [
              " View run at <a href='https://wandb.ai/cs24m018-iitmaana/DA6401%20Assignment1/runs/tak629fv' target=\"_blank\">https://wandb.ai/cs24m018-iitmaana/DA6401%20Assignment1/runs/tak629fv</a>"
            ]
          },
          "metadata": {}
        },
        {
          "output_type": "stream",
          "name": "stdout",
          "text": [
            "Validation Accuracy:  69.43333333333334\n",
            "Validation Loss:  1.5558725512957448\n",
            "Training Accuracy:  69.975\n",
            "Training Loss:  1.5533287190780214\n",
            "Validation Accuracy:  73.625\n",
            "Validation Loss:  1.5345524054378537\n",
            "Training Accuracy:  73.63125\n",
            "Training Loss:  1.5313939187212258\n",
            "Validation Accuracy:  76.28333333333333\n",
            "Validation Loss:  1.535183123354323\n",
            "Training Accuracy:  76.40208333333334\n",
            "Training Loss:  1.5328621835586573\n",
            "Validation Accuracy:  75.80833333333334\n",
            "Validation Loss:  1.5609157607687036\n",
            "Training Accuracy:  76.59583333333333\n",
            "Training Loss:  1.5598483012453312\n",
            "Validation Accuracy:  78.63333333333334\n",
            "Validation Loss:  1.5367711528354244\n",
            "Training Accuracy:  79.15208333333334\n",
            "Training Loss:  1.5363312415157797\n",
            "Validation Accuracy:  77.70833333333333\n",
            "Validation Loss:  1.535332551549001\n",
            "Training Accuracy:  77.9875\n",
            "Training Loss:  1.5360318128113046\n",
            "Validation Accuracy:  77.7\n",
            "Validation Loss:  1.512833065051321\n",
            "Training Accuracy:  77.91875\n",
            "Training Loss:  1.5134541354984774\n",
            "Validation Accuracy:  76.30833333333334\n",
            "Validation Loss:  1.5273002823815174\n",
            "Training Accuracy:  76.38958333333333\n",
            "Training Loss:  1.5272158131612195\n",
            "Validation Accuracy:  76.88333333333334\n",
            "Validation Loss:  1.5379982477024414\n",
            "Training Accuracy:  77.0375\n",
            "Training Loss:  1.5378534328405338\n",
            "Validation Accuracy:  76.20833333333333\n",
            "Validation Loss:  1.5795517590294605\n",
            "Training Accuracy:  76.31666666666666\n",
            "Training Loss:  1.5790726636015533\n"
          ]
        },
        {
          "output_type": "display_data",
          "data": {
            "text/plain": [
              "<IPython.core.display.HTML object>"
            ],
            "text/html": []
          },
          "metadata": {}
        },
        {
          "output_type": "display_data",
          "data": {
            "text/plain": [
              "<IPython.core.display.HTML object>"
            ],
            "text/html": [
              "<br>    <style><br>        .wandb-row {<br>            display: flex;<br>            flex-direction: row;<br>            flex-wrap: wrap;<br>            justify-content: flex-start;<br>            width: 100%;<br>        }<br>        .wandb-col {<br>            display: flex;<br>            flex-direction: column;<br>            flex-basis: 100%;<br>            flex: 1;<br>            padding: 10px;<br>        }<br>    </style><br><div class=\"wandb-row\"><div class=\"wandb-col\"><h3>Run history:</h3><br/><table class=\"wandb\"><tr><td>Batch Size</td><td>▁▁▁▁▁▁▁▁▁▁</td></tr><tr><td>Epoch</td><td>▁▂▃▃▄▅▆▆▇█</td></tr><tr><td>Learning Rate</td><td>▁▁▁▁▁▁▁▁▁▁</td></tr><tr><td>Training Accuracy</td><td>▁▄▆▆█▇▇▆▆▆</td></tr><tr><td>Training Loss</td><td>▅▃▃▆▃▃▁▂▄█</td></tr><tr><td>Validation Accuracy</td><td>▁▄▆▆█▇▇▆▇▆</td></tr><tr><td>Validation Loss</td><td>▆▃▃▆▄▃▁▃▄█</td></tr></table><br/></div><div class=\"wandb-col\"><h3>Run summary:</h3><br/><table class=\"wandb\"><tr><td>Batch Size</td><td>16</td></tr><tr><td>Epoch</td><td>10</td></tr><tr><td>Learning Rate</td><td>0.001</td></tr><tr><td>Optimiser</td><td>adam</td></tr><tr><td>Training Accuracy</td><td>76.31667</td></tr><tr><td>Training Loss</td><td>1.57907</td></tr><tr><td>Validation Accuracy</td><td>76.20833</td></tr><tr><td>Validation Loss</td><td>1.57955</td></tr></table><br/></div></div>"
            ]
          },
          "metadata": {}
        },
        {
          "output_type": "display_data",
          "data": {
            "text/plain": [
              "<IPython.core.display.HTML object>"
            ],
            "text/html": [
              " View run <strong style=\"color:#cdcd00\">hS128_lr0.001_adam_bs16_aftanh</strong> at: <a href='https://wandb.ai/cs24m018-iitmaana/DA6401%20Assignment1/runs/tak629fv' target=\"_blank\">https://wandb.ai/cs24m018-iitmaana/DA6401%20Assignment1/runs/tak629fv</a><br> View project at: <a href='https://wandb.ai/cs24m018-iitmaana/DA6401%20Assignment1' target=\"_blank\">https://wandb.ai/cs24m018-iitmaana/DA6401%20Assignment1</a><br>Synced 5 W&B file(s), 0 media file(s), 0 artifact file(s) and 0 other file(s)"
            ]
          },
          "metadata": {}
        },
        {
          "output_type": "display_data",
          "data": {
            "text/plain": [
              "<IPython.core.display.HTML object>"
            ],
            "text/html": [
              "Find logs at: <code>./wandb/run-20250309_183117-tak629fv/logs</code>"
            ]
          },
          "metadata": {}
        }
      ]
    },
    {
      "cell_type": "code",
      "source": [
        "# for printing the confusion matrix\n",
        "import wandb\n",
        "\n",
        "# Define the sweep configuration\n",
        "sweep_config = {\n",
        "    'method': 'bayes',\n",
        "    'name' : 'confusion matrix',\n",
        "    'metric': {\n",
        "      'name': 'accuracy',\n",
        "      'goal': 'maximize'\n",
        "    },\n",
        "    'parameters': {\n",
        "        'batchSize': {\n",
        "            'values': [64]\n",
        "        },\n",
        "        # Define other parameters here\n",
        "    }\n",
        "}\n",
        "def main():\n",
        "    # Initialize a wandb run\n",
        "    wandb.init()\n",
        "    # Access sweep parameters via wandb.config\n",
        "    config = wandb.config\n",
        "\n",
        "    # Define and train the model using parameters from config\n",
        "    model = feedForwardNeuralNetwork(inputSize=784, hiddenLayerCount=4, outputSize=10,\n",
        "                          hiddenSize=128, batchSize=config.batchSize,\n",
        "                          learningRate=0.0001, initMode=\"xavier\",\n",
        "                          optimiser=\"momentumBasedGradientDescent\", activationFunc=\"tanh\", weightDecay=0.0005,\n",
        "                          epochs=10, isWandb=True)\n",
        "    model.fit()\n",
        "    model.confusionMatrix()\n",
        "\n",
        "    wandb.finish()\n",
        "\n",
        "# Create the sweep\n",
        "sweep_id = wandb.sweep(sweep=sweep_config, project='DA6401 Assignment1')\n",
        "\n",
        "# Start the sweep agent\n",
        "wandb.agent(sweep_id, main, count=1)"
      ],
      "metadata": {
        "colab": {
          "base_uri": "https://localhost:8080/",
          "height": 1000
        },
        "id": "u25ZSavKOlKF",
        "outputId": "4c35830f-c954-49c1-d64f-c070996a2c7b"
      },
      "execution_count": null,
      "outputs": [
        {
          "output_type": "stream",
          "name": "stdout",
          "text": [
            "Create sweep with ID: aaaem2r8\n",
            "Sweep URL: https://wandb.ai/cs24m018-iitmaana/DA6401%20Assignment1/sweeps/aaaem2r8\n"
          ]
        },
        {
          "output_type": "stream",
          "name": "stderr",
          "text": [
            "\u001b[34m\u001b[1mwandb\u001b[0m: Agent Starting Run: n1n7enl8 with config:\n",
            "\u001b[34m\u001b[1mwandb\u001b[0m: \tbatchSize: 64\n"
          ]
        },
        {
          "output_type": "display_data",
          "data": {
            "text/plain": [
              "<IPython.core.display.HTML object>"
            ],
            "text/html": [
              "Tracking run with wandb version 0.19.7"
            ]
          },
          "metadata": {}
        },
        {
          "output_type": "display_data",
          "data": {
            "text/plain": [
              "<IPython.core.display.HTML object>"
            ],
            "text/html": [
              "Run data is saved locally in <code>/content/wandb/run-20250309_191344-n1n7enl8</code>"
            ]
          },
          "metadata": {}
        },
        {
          "output_type": "display_data",
          "data": {
            "text/plain": [
              "<IPython.core.display.HTML object>"
            ],
            "text/html": [
              "Syncing run <strong><a href='https://wandb.ai/cs24m018-iitmaana/DA6401%20Assignment1/runs/n1n7enl8' target=\"_blank\">light-sweep-1</a></strong> to <a href='https://wandb.ai/cs24m018-iitmaana/DA6401%20Assignment1' target=\"_blank\">Weights & Biases</a> (<a href='https://wandb.me/developer-guide' target=\"_blank\">docs</a>)<br>Sweep page: <a href='https://wandb.ai/cs24m018-iitmaana/DA6401%20Assignment1/sweeps/aaaem2r8' target=\"_blank\">https://wandb.ai/cs24m018-iitmaana/DA6401%20Assignment1/sweeps/aaaem2r8</a>"
            ]
          },
          "metadata": {}
        },
        {
          "output_type": "display_data",
          "data": {
            "text/plain": [
              "<IPython.core.display.HTML object>"
            ],
            "text/html": [
              " View project at <a href='https://wandb.ai/cs24m018-iitmaana/DA6401%20Assignment1' target=\"_blank\">https://wandb.ai/cs24m018-iitmaana/DA6401%20Assignment1</a>"
            ]
          },
          "metadata": {}
        },
        {
          "output_type": "display_data",
          "data": {
            "text/plain": [
              "<IPython.core.display.HTML object>"
            ],
            "text/html": [
              " View sweep at <a href='https://wandb.ai/cs24m018-iitmaana/DA6401%20Assignment1/sweeps/aaaem2r8' target=\"_blank\">https://wandb.ai/cs24m018-iitmaana/DA6401%20Assignment1/sweeps/aaaem2r8</a>"
            ]
          },
          "metadata": {}
        },
        {
          "output_type": "display_data",
          "data": {
            "text/plain": [
              "<IPython.core.display.HTML object>"
            ],
            "text/html": [
              " View run at <a href='https://wandb.ai/cs24m018-iitmaana/DA6401%20Assignment1/runs/n1n7enl8' target=\"_blank\">https://wandb.ai/cs24m018-iitmaana/DA6401%20Assignment1/runs/n1n7enl8</a>"
            ]
          },
          "metadata": {}
        },
        {
          "output_type": "stream",
          "name": "stdout",
          "text": [
            "Validation Accuracy:  43.675\n",
            "Validation Loss:  1.663641675047539\n",
            "Training Accuracy:  42.920833333333334\n",
            "Training Loss:  1.6681291229315165\n",
            "Validation Accuracy:  62.516666666666666\n",
            "Validation Loss:  1.1891319818388566\n",
            "Training Accuracy:  62.09166666666667\n",
            "Training Loss:  1.1905778266728995\n",
            "Validation Accuracy:  67.83333333333333\n",
            "Validation Loss:  0.9573516957787567\n",
            "Training Accuracy:  67.37083333333334\n",
            "Training Loss:  0.9582262646376851\n",
            "Validation Accuracy:  71.04166666666667\n",
            "Validation Loss:  0.832575576754897\n",
            "Training Accuracy:  70.54583333333333\n",
            "Training Loss:  0.8317355078431924\n",
            "Validation Accuracy:  73.35833333333333\n",
            "Validation Loss:  0.761656766908565\n",
            "Training Accuracy:  72.97708333333334\n",
            "Training Loss:  0.7603746126886782\n",
            "Validation Accuracy:  74.7\n",
            "Validation Loss:  0.7174708474688547\n",
            "Training Accuracy:  74.59375\n",
            "Training Loss:  0.7153277084929078\n",
            "Validation Accuracy:  75.69166666666666\n",
            "Validation Loss:  0.6875545299269973\n",
            "Training Accuracy:  75.45625\n",
            "Training Loss:  0.6845986198709385\n",
            "Validation Accuracy:  76.30833333333334\n",
            "Validation Loss:  0.6653239162186617\n",
            "Training Accuracy:  76.17291666666667\n",
            "Training Loss:  0.6614123434876282\n",
            "Validation Accuracy:  76.725\n",
            "Validation Loss:  0.6488186130626354\n",
            "Training Accuracy:  76.65833333333333\n",
            "Training Loss:  0.6439251933172805\n",
            "Validation Accuracy:  77.15\n",
            "Validation Loss:  0.6359374183224645\n",
            "Training Accuracy:  77.09791666666666\n",
            "Training Loss:  0.6301601949544925\n"
          ]
        },
        {
          "output_type": "display_data",
          "data": {
            "text/plain": [
              "<IPython.core.display.HTML object>"
            ],
            "text/html": []
          },
          "metadata": {}
        },
        {
          "output_type": "display_data",
          "data": {
            "text/plain": [
              "<IPython.core.display.HTML object>"
            ],
            "text/html": [
              "<br>    <style><br>        .wandb-row {<br>            display: flex;<br>            flex-direction: row;<br>            flex-wrap: wrap;<br>            justify-content: flex-start;<br>            width: 100%;<br>        }<br>        .wandb-col {<br>            display: flex;<br>            flex-direction: column;<br>            flex-basis: 100%;<br>            flex: 1;<br>            padding: 10px;<br>        }<br>    </style><br><div class=\"wandb-row\"><div class=\"wandb-col\"><h3>Run history:</h3><br/><table class=\"wandb\"><tr><td>Batch Size</td><td>▁▁▁▁▁▁▁▁▁▁</td></tr><tr><td>Epoch</td><td>▁▂▃▃▄▅▆▆▇█</td></tr><tr><td>Learning Rate</td><td>▁▁▁▁▁▁▁▁▁▁</td></tr><tr><td>Training Accuracy</td><td>▁▅▆▇▇▇████</td></tr><tr><td>Training Loss</td><td>█▅▃▂▂▂▁▁▁▁</td></tr><tr><td>Validation Accuracy</td><td>▁▅▆▇▇▇████</td></tr><tr><td>Validation Loss</td><td>█▅▃▂▂▂▁▁▁▁</td></tr></table><br/></div><div class=\"wandb-col\"><h3>Run summary:</h3><br/><table class=\"wandb\"><tr><td>Batch Size</td><td>64</td></tr><tr><td>Epoch</td><td>10</td></tr><tr><td>Learning Rate</td><td>0.0001</td></tr><tr><td>Optimiser</td><td>momentumBasedGradien...</td></tr><tr><td>Training Accuracy</td><td>77.09792</td></tr><tr><td>Training Loss</td><td>0.63016</td></tr><tr><td>Validation Accuracy</td><td>77.15</td></tr><tr><td>Validation Loss</td><td>0.63594</td></tr></table><br/></div></div>"
            ]
          },
          "metadata": {}
        },
        {
          "output_type": "display_data",
          "data": {
            "text/plain": [
              "<IPython.core.display.HTML object>"
            ],
            "text/html": [
              " View run <strong style=\"color:#cdcd00\">light-sweep-1</strong> at: <a href='https://wandb.ai/cs24m018-iitmaana/DA6401%20Assignment1/runs/n1n7enl8' target=\"_blank\">https://wandb.ai/cs24m018-iitmaana/DA6401%20Assignment1/runs/n1n7enl8</a><br> View project at: <a href='https://wandb.ai/cs24m018-iitmaana/DA6401%20Assignment1' target=\"_blank\">https://wandb.ai/cs24m018-iitmaana/DA6401%20Assignment1</a><br>Synced 5 W&B file(s), 1 media file(s), 0 artifact file(s) and 0 other file(s)"
            ]
          },
          "metadata": {}
        },
        {
          "output_type": "display_data",
          "data": {
            "text/plain": [
              "<IPython.core.display.HTML object>"
            ],
            "text/html": [
              "Find logs at: <code>./wandb/run-20250309_191344-n1n7enl8/logs</code>"
            ]
          },
          "metadata": {}
        }
      ]
    },
    {
      "cell_type": "code",
      "source": [
        "import wandb\n",
        "\n",
        "sweep_config = {\n",
        "    'method': 'bayes',  # Random search to sample configurations efficiently\n",
        "    'name' : 'Cross Entropy Sweep',\n",
        "    'metric': {\n",
        "        'name': 'Validation Accuracy',  # Metric to optimize on the validation set\n",
        "        'goal': 'maximize'\n",
        "    },\n",
        "    'parameters': {\n",
        "        'epochs': {'values': [5, 10]},\n",
        "        'hiddenLayerCount': {'values': [3, 4, 5]},\n",
        "        'hiddenSize': {'values': [32, 64, 128]},\n",
        "        'weightDecay': {'values': [0, 0.0005, 0.5]},\n",
        "        'learningRate': {'values': [1e-2,1e-3, 1e-4]},\n",
        "        'optimiser': {'values': ['sgd', 'momentumBasedGradientDescent', 'nesterovAcceleratedBasedGradientDescent', 'rmsProp', 'adam', 'nadam']},\n",
        "        'batchSize': {'values': [16, 32, 64]},\n",
        "        'initMode': {'values': ['random', 'xavier']},\n",
        "        'activationFunc': {'values': ['sigmoid', 'tanh', 'relu']},\n",
        "    }\n",
        "}\n",
        "\n",
        "def main():\n",
        "  wandb.init()\n",
        "  config = wandb.config\n",
        "\n",
        "  runName = f\"hS{config.hiddenSize}_lr{config.learningRate}_{config.optimiser}_bs{config.batchSize}_af{config.activationFunc}\"\n",
        "\n",
        "  wandb.run.name = runName #setting wandb run\n",
        "  wandb.run.save()\n",
        "\n",
        "  model = feedForwardNeuralNetwork(inputSize=784,hiddenSize=config.hiddenSize,hiddenLayerCount=config.hiddenSize,outputSize=10,batchSize=config.batchSize,\n",
        "                                   learningRate=config.learningRate,initMode = config.initMode , optimiser = config.optimiser, activationFunc=config.activationFunc,weightDecay = config.weightDecay,\n",
        "                                   epochs = config.epochs,isWandb=True,lossFunc='crossEntropyLoss')\n",
        "  model.fit()\n",
        "  wandb.finish()\n",
        "\n",
        "# create Sweep and running it\n",
        "sweepId = wandb.sweep(sweep_config, project=\"DA6401 Assignment1\")\n",
        "wandb.agent(sweep_id=sweepId, function=main, count=100)"
      ],
      "metadata": {
        "id": "sjaxgI0WO3Sb",
        "colab": {
          "base_uri": "https://localhost:8080/",
          "height": 1000
        },
        "outputId": "54e9815b-d723-433b-993e-d1167c611eb1"
      },
      "execution_count": 7,
      "outputs": [
        {
          "output_type": "stream",
          "name": "stdout",
          "text": [
            "Create sweep with ID: 292018fh\n",
            "Sweep URL: https://wandb.ai/cs24m018-iitmaana/DA6401%20Assignment1/sweeps/292018fh\n"
          ]
        },
        {
          "output_type": "stream",
          "name": "stderr",
          "text": [
            "\u001b[34m\u001b[1mwandb\u001b[0m: Agent Starting Run: z7fh4ngq with config:\n",
            "\u001b[34m\u001b[1mwandb\u001b[0m: \tactivationFunc: sigmoid\n",
            "\u001b[34m\u001b[1mwandb\u001b[0m: \tbatchSize: 64\n",
            "\u001b[34m\u001b[1mwandb\u001b[0m: \tepochs: 10\n",
            "\u001b[34m\u001b[1mwandb\u001b[0m: \thiddenLayerCount: 3\n",
            "\u001b[34m\u001b[1mwandb\u001b[0m: \thiddenSize: 128\n",
            "\u001b[34m\u001b[1mwandb\u001b[0m: \tinitMode: xavier\n",
            "\u001b[34m\u001b[1mwandb\u001b[0m: \tlearningRate: 0.001\n",
            "\u001b[34m\u001b[1mwandb\u001b[0m: \toptimiser: nesterovAcceleratedBasedGradientDescent\n",
            "\u001b[34m\u001b[1mwandb\u001b[0m: \tweightDecay: 0.0005\n"
          ]
        },
        {
          "output_type": "display_data",
          "data": {
            "text/plain": [
              "<IPython.core.display.HTML object>"
            ],
            "text/html": [
              "Tracking run with wandb version 0.19.7"
            ]
          },
          "metadata": {}
        },
        {
          "output_type": "display_data",
          "data": {
            "text/plain": [
              "<IPython.core.display.HTML object>"
            ],
            "text/html": [
              "Run data is saved locally in <code>/content/wandb/run-20250310_025609-z7fh4ngq</code>"
            ]
          },
          "metadata": {}
        },
        {
          "output_type": "display_data",
          "data": {
            "text/plain": [
              "<IPython.core.display.HTML object>"
            ],
            "text/html": [
              "Syncing run <strong><a href='https://wandb.ai/cs24m018-iitmaana/DA6401%20Assignment1/runs/z7fh4ngq' target=\"_blank\">upbeat-sweep-1</a></strong> to <a href='https://wandb.ai/cs24m018-iitmaana/DA6401%20Assignment1' target=\"_blank\">Weights & Biases</a> (<a href='https://wandb.me/developer-guide' target=\"_blank\">docs</a>)<br>Sweep page: <a href='https://wandb.ai/cs24m018-iitmaana/DA6401%20Assignment1/sweeps/292018fh' target=\"_blank\">https://wandb.ai/cs24m018-iitmaana/DA6401%20Assignment1/sweeps/292018fh</a>"
            ]
          },
          "metadata": {}
        },
        {
          "output_type": "display_data",
          "data": {
            "text/plain": [
              "<IPython.core.display.HTML object>"
            ],
            "text/html": [
              " View project at <a href='https://wandb.ai/cs24m018-iitmaana/DA6401%20Assignment1' target=\"_blank\">https://wandb.ai/cs24m018-iitmaana/DA6401%20Assignment1</a>"
            ]
          },
          "metadata": {}
        },
        {
          "output_type": "display_data",
          "data": {
            "text/plain": [
              "<IPython.core.display.HTML object>"
            ],
            "text/html": [
              " View sweep at <a href='https://wandb.ai/cs24m018-iitmaana/DA6401%20Assignment1/sweeps/292018fh' target=\"_blank\">https://wandb.ai/cs24m018-iitmaana/DA6401%20Assignment1/sweeps/292018fh</a>"
            ]
          },
          "metadata": {}
        },
        {
          "output_type": "display_data",
          "data": {
            "text/plain": [
              "<IPython.core.display.HTML object>"
            ],
            "text/html": [
              " View run at <a href='https://wandb.ai/cs24m018-iitmaana/DA6401%20Assignment1/runs/z7fh4ngq' target=\"_blank\">https://wandb.ai/cs24m018-iitmaana/DA6401%20Assignment1/runs/z7fh4ngq</a>"
            ]
          },
          "metadata": {}
        },
        {
          "output_type": "stream",
          "name": "stderr",
          "text": [
            "\u001b[34m\u001b[1mwandb\u001b[0m: \u001b[33mWARNING\u001b[0m Calling wandb.run.save without any arguments is deprecated.Changes to attributes are automatically persisted.\n"
          ]
        },
        {
          "output_type": "stream",
          "name": "stdout",
          "text": [
            "Validation Accuracy:  10.116666666666667\n",
            "Validation Loss:  2.3376726835931194\n",
            "Training Accuracy:  9.970833333333333\n",
            "Training Loss:  2.3377776320601846\n",
            "Validation Accuracy:  10.116666666666667\n",
            "Validation Loss:  2.325913886208041\n",
            "Training Accuracy:  9.970833333333333\n",
            "Training Loss:  2.325452497729105\n",
            "Validation Accuracy:  10.116666666666667\n",
            "Validation Loss:  2.325472138199385\n",
            "Training Accuracy:  9.970833333333333\n",
            "Training Loss:  2.3253365331200353\n",
            "Validation Accuracy:  10.116666666666667\n",
            "Validation Loss:  2.3258903296614397\n",
            "Training Accuracy:  9.970833333333333\n",
            "Training Loss:  2.326231303287146\n",
            "Validation Accuracy:  10.116666666666667\n",
            "Validation Loss:  2.3253679758704373\n",
            "Training Accuracy:  9.970833333333333\n",
            "Training Loss:  2.326135854470894\n",
            "Validation Accuracy:  10.45\n",
            "Validation Loss:  2.323115532320516\n",
            "Training Accuracy:  9.8875\n",
            "Training Loss:  2.3241425719009707\n",
            "Validation Accuracy:  10.45\n",
            "Validation Loss:  2.319704924682238\n",
            "Training Accuracy:  9.8875\n",
            "Training Loss:  2.3207825038956615\n",
            "Validation Accuracy:  10.45\n",
            "Validation Loss:  2.3164007486937686\n",
            "Training Accuracy:  9.8875\n",
            "Training Loss:  2.3173784474137085\n",
            "Validation Accuracy:  10.45\n",
            "Validation Loss:  2.313916367048838\n",
            "Training Accuracy:  9.8875\n",
            "Training Loss:  2.314744349860179\n",
            "Validation Accuracy:  10.45\n",
            "Validation Loss:  2.3122394903854486\n",
            "Training Accuracy:  9.8875\n",
            "Training Loss:  2.3129295934792893\n"
          ]
        },
        {
          "output_type": "display_data",
          "data": {
            "text/plain": [
              "<IPython.core.display.HTML object>"
            ],
            "text/html": []
          },
          "metadata": {}
        },
        {
          "output_type": "display_data",
          "data": {
            "text/plain": [
              "<IPython.core.display.HTML object>"
            ],
            "text/html": [
              "<br>    <style><br>        .wandb-row {<br>            display: flex;<br>            flex-direction: row;<br>            flex-wrap: wrap;<br>            justify-content: flex-start;<br>            width: 100%;<br>        }<br>        .wandb-col {<br>            display: flex;<br>            flex-direction: column;<br>            flex-basis: 100%;<br>            flex: 1;<br>            padding: 10px;<br>        }<br>    </style><br><div class=\"wandb-row\"><div class=\"wandb-col\"><h3>Run history:</h3><br/><table class=\"wandb\"><tr><td>Batch Size</td><td>▁▁▁▁▁▁▁▁▁▁</td></tr><tr><td>Epoch</td><td>▁▂▃▃▄▅▆▆▇█</td></tr><tr><td>Learning Rate</td><td>▁▁▁▁▁▁▁▁▁▁</td></tr><tr><td>Training Accuracy</td><td>█████▁▁▁▁▁</td></tr><tr><td>Training Loss</td><td>█▅▄▅▅▄▃▂▂▁</td></tr><tr><td>Validation Accuracy</td><td>▁▁▁▁▁█████</td></tr><tr><td>Validation Loss</td><td>█▅▅▅▅▄▃▂▁▁</td></tr></table><br/></div><div class=\"wandb-col\"><h3>Run summary:</h3><br/><table class=\"wandb\"><tr><td>Batch Size</td><td>64</td></tr><tr><td>Epoch</td><td>10</td></tr><tr><td>Learning Rate</td><td>0.001</td></tr><tr><td>Optimiser</td><td>nesterovAcceleratedB...</td></tr><tr><td>Training Accuracy</td><td>9.8875</td></tr><tr><td>Training Loss</td><td>2.31293</td></tr><tr><td>Validation Accuracy</td><td>10.45</td></tr><tr><td>Validation Loss</td><td>2.31224</td></tr></table><br/></div></div>"
            ]
          },
          "metadata": {}
        },
        {
          "output_type": "display_data",
          "data": {
            "text/plain": [
              "<IPython.core.display.HTML object>"
            ],
            "text/html": [
              " View run <strong style=\"color:#cdcd00\">hS128_lr0.001_nesterovAcceleratedBasedGradientDescent_bs64_afsigmoid</strong> at: <a href='https://wandb.ai/cs24m018-iitmaana/DA6401%20Assignment1/runs/z7fh4ngq' target=\"_blank\">https://wandb.ai/cs24m018-iitmaana/DA6401%20Assignment1/runs/z7fh4ngq</a><br> View project at: <a href='https://wandb.ai/cs24m018-iitmaana/DA6401%20Assignment1' target=\"_blank\">https://wandb.ai/cs24m018-iitmaana/DA6401%20Assignment1</a><br>Synced 5 W&B file(s), 0 media file(s), 0 artifact file(s) and 0 other file(s)"
            ]
          },
          "metadata": {}
        },
        {
          "output_type": "display_data",
          "data": {
            "text/plain": [
              "<IPython.core.display.HTML object>"
            ],
            "text/html": [
              "Find logs at: <code>./wandb/run-20250310_025609-z7fh4ngq/logs</code>"
            ]
          },
          "metadata": {}
        },
        {
          "output_type": "stream",
          "name": "stderr",
          "text": [
            "\u001b[34m\u001b[1mwandb\u001b[0m: Agent Starting Run: u520yo8z with config:\n",
            "\u001b[34m\u001b[1mwandb\u001b[0m: \tactivationFunc: relu\n",
            "\u001b[34m\u001b[1mwandb\u001b[0m: \tbatchSize: 16\n",
            "\u001b[34m\u001b[1mwandb\u001b[0m: \tepochs: 5\n",
            "\u001b[34m\u001b[1mwandb\u001b[0m: \thiddenLayerCount: 4\n",
            "\u001b[34m\u001b[1mwandb\u001b[0m: \thiddenSize: 64\n",
            "\u001b[34m\u001b[1mwandb\u001b[0m: \tinitMode: random\n",
            "\u001b[34m\u001b[1mwandb\u001b[0m: \tlearningRate: 0.01\n",
            "\u001b[34m\u001b[1mwandb\u001b[0m: \toptimiser: momentumBasedGradientDescent\n",
            "\u001b[34m\u001b[1mwandb\u001b[0m: \tweightDecay: 0.0005\n"
          ]
        },
        {
          "output_type": "display_data",
          "data": {
            "text/plain": [
              "<IPython.core.display.HTML object>"
            ],
            "text/html": [
              "Tracking run with wandb version 0.19.7"
            ]
          },
          "metadata": {}
        },
        {
          "output_type": "display_data",
          "data": {
            "text/plain": [
              "<IPython.core.display.HTML object>"
            ],
            "text/html": [
              "Run data is saved locally in <code>/content/wandb/run-20250310_030431-u520yo8z</code>"
            ]
          },
          "metadata": {}
        },
        {
          "output_type": "display_data",
          "data": {
            "text/plain": [
              "<IPython.core.display.HTML object>"
            ],
            "text/html": [
              "Syncing run <strong><a href='https://wandb.ai/cs24m018-iitmaana/DA6401%20Assignment1/runs/u520yo8z' target=\"_blank\">fiery-sweep-2</a></strong> to <a href='https://wandb.ai/cs24m018-iitmaana/DA6401%20Assignment1' target=\"_blank\">Weights & Biases</a> (<a href='https://wandb.me/developer-guide' target=\"_blank\">docs</a>)<br>Sweep page: <a href='https://wandb.ai/cs24m018-iitmaana/DA6401%20Assignment1/sweeps/292018fh' target=\"_blank\">https://wandb.ai/cs24m018-iitmaana/DA6401%20Assignment1/sweeps/292018fh</a>"
            ]
          },
          "metadata": {}
        },
        {
          "output_type": "display_data",
          "data": {
            "text/plain": [
              "<IPython.core.display.HTML object>"
            ],
            "text/html": [
              " View project at <a href='https://wandb.ai/cs24m018-iitmaana/DA6401%20Assignment1' target=\"_blank\">https://wandb.ai/cs24m018-iitmaana/DA6401%20Assignment1</a>"
            ]
          },
          "metadata": {}
        },
        {
          "output_type": "display_data",
          "data": {
            "text/plain": [
              "<IPython.core.display.HTML object>"
            ],
            "text/html": [
              " View sweep at <a href='https://wandb.ai/cs24m018-iitmaana/DA6401%20Assignment1/sweeps/292018fh' target=\"_blank\">https://wandb.ai/cs24m018-iitmaana/DA6401%20Assignment1/sweeps/292018fh</a>"
            ]
          },
          "metadata": {}
        },
        {
          "output_type": "display_data",
          "data": {
            "text/plain": [
              "<IPython.core.display.HTML object>"
            ],
            "text/html": [
              " View run at <a href='https://wandb.ai/cs24m018-iitmaana/DA6401%20Assignment1/runs/u520yo8z' target=\"_blank\">https://wandb.ai/cs24m018-iitmaana/DA6401%20Assignment1/runs/u520yo8z</a>"
            ]
          },
          "metadata": {}
        },
        {
          "output_type": "stream",
          "name": "stdout",
          "text": [
            "Validation Accuracy:  10.116666666666667\n",
            "Validation Loss:  2.3455537199502916\n",
            "Training Accuracy:  9.970833333333333\n",
            "Training Loss:  2.3456386752584053\n",
            "Validation Accuracy:  10.116666666666667\n",
            "Validation Loss:  2.3514518378940408\n",
            "Training Accuracy:  9.970833333333333\n",
            "Training Loss:  2.3516736165505407\n",
            "Validation Accuracy:  10.116666666666667\n",
            "Validation Loss:  2.351818388436307\n",
            "Training Accuracy:  9.970833333333333\n",
            "Training Loss:  2.352063513405459\n",
            "Validation Accuracy:  10.116666666666667\n",
            "Validation Loss:  2.3518389837526534\n",
            "Training Accuracy:  9.970833333333333\n",
            "Training Loss:  2.3520865938337163\n",
            "Validation Accuracy:  10.116666666666667\n",
            "Validation Loss:  2.3518401838269285\n",
            "Training Accuracy:  9.970833333333333\n",
            "Training Loss:  2.3520880046455397\n"
          ]
        },
        {
          "output_type": "display_data",
          "data": {
            "text/plain": [
              "<IPython.core.display.HTML object>"
            ],
            "text/html": []
          },
          "metadata": {}
        },
        {
          "output_type": "display_data",
          "data": {
            "text/plain": [
              "<IPython.core.display.HTML object>"
            ],
            "text/html": [
              "<br>    <style><br>        .wandb-row {<br>            display: flex;<br>            flex-direction: row;<br>            flex-wrap: wrap;<br>            justify-content: flex-start;<br>            width: 100%;<br>        }<br>        .wandb-col {<br>            display: flex;<br>            flex-direction: column;<br>            flex-basis: 100%;<br>            flex: 1;<br>            padding: 10px;<br>        }<br>    </style><br><div class=\"wandb-row\"><div class=\"wandb-col\"><h3>Run history:</h3><br/><table class=\"wandb\"><tr><td>Batch Size</td><td>▁▁▁▁▁</td></tr><tr><td>Epoch</td><td>▁▃▅▆█</td></tr><tr><td>Learning Rate</td><td>▁▁▁▁▁</td></tr><tr><td>Training Accuracy</td><td>▁▁▁▁▁</td></tr><tr><td>Training Loss</td><td>▁████</td></tr><tr><td>Validation Accuracy</td><td>▁▁▁▁▁</td></tr><tr><td>Validation Loss</td><td>▁████</td></tr></table><br/></div><div class=\"wandb-col\"><h3>Run summary:</h3><br/><table class=\"wandb\"><tr><td>Batch Size</td><td>16</td></tr><tr><td>Epoch</td><td>5</td></tr><tr><td>Learning Rate</td><td>0.01</td></tr><tr><td>Optimiser</td><td>momentumBasedGradien...</td></tr><tr><td>Training Accuracy</td><td>9.97083</td></tr><tr><td>Training Loss</td><td>2.35209</td></tr><tr><td>Validation Accuracy</td><td>10.11667</td></tr><tr><td>Validation Loss</td><td>2.35184</td></tr></table><br/></div></div>"
            ]
          },
          "metadata": {}
        },
        {
          "output_type": "display_data",
          "data": {
            "text/plain": [
              "<IPython.core.display.HTML object>"
            ],
            "text/html": [
              " View run <strong style=\"color:#cdcd00\">hS64_lr0.01_momentumBasedGradientDescent_bs16_afrelu</strong> at: <a href='https://wandb.ai/cs24m018-iitmaana/DA6401%20Assignment1/runs/u520yo8z' target=\"_blank\">https://wandb.ai/cs24m018-iitmaana/DA6401%20Assignment1/runs/u520yo8z</a><br> View project at: <a href='https://wandb.ai/cs24m018-iitmaana/DA6401%20Assignment1' target=\"_blank\">https://wandb.ai/cs24m018-iitmaana/DA6401%20Assignment1</a><br>Synced 5 W&B file(s), 0 media file(s), 0 artifact file(s) and 0 other file(s)"
            ]
          },
          "metadata": {}
        },
        {
          "output_type": "display_data",
          "data": {
            "text/plain": [
              "<IPython.core.display.HTML object>"
            ],
            "text/html": [
              "Find logs at: <code>./wandb/run-20250310_030431-u520yo8z/logs</code>"
            ]
          },
          "metadata": {}
        },
        {
          "output_type": "stream",
          "name": "stderr",
          "text": [
            "\u001b[34m\u001b[1mwandb\u001b[0m: Sweep Agent: Waiting for job.\n",
            "\u001b[34m\u001b[1mwandb\u001b[0m: Job received.\n",
            "\u001b[34m\u001b[1mwandb\u001b[0m: Agent Starting Run: pwzhui71 with config:\n",
            "\u001b[34m\u001b[1mwandb\u001b[0m: \tactivationFunc: sigmoid\n",
            "\u001b[34m\u001b[1mwandb\u001b[0m: \tbatchSize: 32\n",
            "\u001b[34m\u001b[1mwandb\u001b[0m: \tepochs: 10\n",
            "\u001b[34m\u001b[1mwandb\u001b[0m: \thiddenLayerCount: 5\n",
            "\u001b[34m\u001b[1mwandb\u001b[0m: \thiddenSize: 32\n",
            "\u001b[34m\u001b[1mwandb\u001b[0m: \tinitMode: random\n",
            "\u001b[34m\u001b[1mwandb\u001b[0m: \tlearningRate: 0.001\n",
            "\u001b[34m\u001b[1mwandb\u001b[0m: \toptimiser: rmsProp\n",
            "\u001b[34m\u001b[1mwandb\u001b[0m: \tweightDecay: 0\n"
          ]
        },
        {
          "output_type": "display_data",
          "data": {
            "text/plain": [
              "<IPython.core.display.HTML object>"
            ],
            "text/html": [
              "Tracking run with wandb version 0.19.7"
            ]
          },
          "metadata": {}
        },
        {
          "output_type": "display_data",
          "data": {
            "text/plain": [
              "<IPython.core.display.HTML object>"
            ],
            "text/html": [
              "Run data is saved locally in <code>/content/wandb/run-20250310_030512-pwzhui71</code>"
            ]
          },
          "metadata": {}
        },
        {
          "output_type": "display_data",
          "data": {
            "text/plain": [
              "<IPython.core.display.HTML object>"
            ],
            "text/html": [
              "Syncing run <strong><a href='https://wandb.ai/cs24m018-iitmaana/DA6401%20Assignment1/runs/pwzhui71' target=\"_blank\">vivid-sweep-3</a></strong> to <a href='https://wandb.ai/cs24m018-iitmaana/DA6401%20Assignment1' target=\"_blank\">Weights & Biases</a> (<a href='https://wandb.me/developer-guide' target=\"_blank\">docs</a>)<br>Sweep page: <a href='https://wandb.ai/cs24m018-iitmaana/DA6401%20Assignment1/sweeps/292018fh' target=\"_blank\">https://wandb.ai/cs24m018-iitmaana/DA6401%20Assignment1/sweeps/292018fh</a>"
            ]
          },
          "metadata": {}
        },
        {
          "output_type": "display_data",
          "data": {
            "text/plain": [
              "<IPython.core.display.HTML object>"
            ],
            "text/html": [
              " View project at <a href='https://wandb.ai/cs24m018-iitmaana/DA6401%20Assignment1' target=\"_blank\">https://wandb.ai/cs24m018-iitmaana/DA6401%20Assignment1</a>"
            ]
          },
          "metadata": {}
        },
        {
          "output_type": "display_data",
          "data": {
            "text/plain": [
              "<IPython.core.display.HTML object>"
            ],
            "text/html": [
              " View sweep at <a href='https://wandb.ai/cs24m018-iitmaana/DA6401%20Assignment1/sweeps/292018fh' target=\"_blank\">https://wandb.ai/cs24m018-iitmaana/DA6401%20Assignment1/sweeps/292018fh</a>"
            ]
          },
          "metadata": {}
        },
        {
          "output_type": "display_data",
          "data": {
            "text/plain": [
              "<IPython.core.display.HTML object>"
            ],
            "text/html": [
              " View run at <a href='https://wandb.ai/cs24m018-iitmaana/DA6401%20Assignment1/runs/pwzhui71' target=\"_blank\">https://wandb.ai/cs24m018-iitmaana/DA6401%20Assignment1/runs/pwzhui71</a>"
            ]
          },
          "metadata": {}
        },
        {
          "output_type": "stream",
          "name": "stdout",
          "text": [
            "Validation Accuracy:  10.075\n",
            "Validation Loss:  2.305237622381204\n",
            "Training Accuracy:  9.98125\n",
            "Training Loss:  2.305579247911156\n",
            "Validation Accuracy:  10.075\n",
            "Validation Loss:  2.306787342219312\n",
            "Training Accuracy:  9.98125\n",
            "Training Loss:  2.3072563270373756\n",
            "Validation Accuracy:  10.075\n",
            "Validation Loss:  2.3076140182816705\n",
            "Training Accuracy:  9.98125\n",
            "Training Loss:  2.308150430337684\n",
            "Validation Accuracy:  10.075\n",
            "Validation Loss:  2.3080021300070053\n",
            "Training Accuracy:  9.98125\n",
            "Training Loss:  2.3085754491487616\n",
            "Validation Accuracy:  10.075\n",
            "Validation Loss:  2.3081669806226164\n",
            "Training Accuracy:  9.98125\n",
            "Training Loss:  2.3087608995119164\n",
            "Validation Accuracy:  10.075\n",
            "Validation Loss:  2.308224255207562\n",
            "Training Accuracy:  9.98125\n",
            "Training Loss:  2.308830186957992\n",
            "Validation Accuracy:  10.075\n",
            "Validation Loss:  2.3082312034371846\n",
            "Training Accuracy:  9.98125\n",
            "Training Loss:  2.3088447047257863\n",
            "Validation Accuracy:  10.075\n",
            "Validation Loss:  2.3082152858149243\n",
            "Training Accuracy:  9.98125\n",
            "Training Loss:  2.3088341017059197\n",
            "Validation Accuracy:  10.075\n",
            "Validation Loss:  2.308189766747425\n",
            "Training Accuracy:  9.98125\n",
            "Training Loss:  2.3088127655788835\n",
            "Validation Accuracy:  10.075\n",
            "Validation Loss:  2.3081612272363663\n",
            "Training Accuracy:  9.98125\n",
            "Training Loss:  2.3087878483975848\n"
          ]
        },
        {
          "output_type": "display_data",
          "data": {
            "text/plain": [
              "<IPython.core.display.HTML object>"
            ],
            "text/html": []
          },
          "metadata": {}
        },
        {
          "output_type": "display_data",
          "data": {
            "text/plain": [
              "<IPython.core.display.HTML object>"
            ],
            "text/html": [
              "<br>    <style><br>        .wandb-row {<br>            display: flex;<br>            flex-direction: row;<br>            flex-wrap: wrap;<br>            justify-content: flex-start;<br>            width: 100%;<br>        }<br>        .wandb-col {<br>            display: flex;<br>            flex-direction: column;<br>            flex-basis: 100%;<br>            flex: 1;<br>            padding: 10px;<br>        }<br>    </style><br><div class=\"wandb-row\"><div class=\"wandb-col\"><h3>Run history:</h3><br/><table class=\"wandb\"><tr><td>Batch Size</td><td>▁▁▁▁▁▁▁▁▁▁</td></tr><tr><td>Epoch</td><td>▁▂▃▃▄▅▆▆▇█</td></tr><tr><td>Learning Rate</td><td>▁▁▁▁▁▁▁▁▁▁</td></tr><tr><td>Training Accuracy</td><td>▁▁▁▁▁▁▁▁▁▁</td></tr><tr><td>Training Loss</td><td>▁▅▇▇██████</td></tr><tr><td>Validation Accuracy</td><td>▁▁▁▁▁▁▁▁▁▁</td></tr><tr><td>Validation Loss</td><td>▁▅▇▇██████</td></tr></table><br/></div><div class=\"wandb-col\"><h3>Run summary:</h3><br/><table class=\"wandb\"><tr><td>Batch Size</td><td>32</td></tr><tr><td>Epoch</td><td>10</td></tr><tr><td>Learning Rate</td><td>0.001</td></tr><tr><td>Optimiser</td><td>rmsProp</td></tr><tr><td>Training Accuracy</td><td>9.98125</td></tr><tr><td>Training Loss</td><td>2.30879</td></tr><tr><td>Validation Accuracy</td><td>10.075</td></tr><tr><td>Validation Loss</td><td>2.30816</td></tr></table><br/></div></div>"
            ]
          },
          "metadata": {}
        },
        {
          "output_type": "display_data",
          "data": {
            "text/plain": [
              "<IPython.core.display.HTML object>"
            ],
            "text/html": [
              " View run <strong style=\"color:#cdcd00\">hS32_lr0.001_rmsProp_bs32_afsigmoid</strong> at: <a href='https://wandb.ai/cs24m018-iitmaana/DA6401%20Assignment1/runs/pwzhui71' target=\"_blank\">https://wandb.ai/cs24m018-iitmaana/DA6401%20Assignment1/runs/pwzhui71</a><br> View project at: <a href='https://wandb.ai/cs24m018-iitmaana/DA6401%20Assignment1' target=\"_blank\">https://wandb.ai/cs24m018-iitmaana/DA6401%20Assignment1</a><br>Synced 5 W&B file(s), 0 media file(s), 0 artifact file(s) and 0 other file(s)"
            ]
          },
          "metadata": {}
        },
        {
          "output_type": "display_data",
          "data": {
            "text/plain": [
              "<IPython.core.display.HTML object>"
            ],
            "text/html": [
              "Find logs at: <code>./wandb/run-20250310_030512-pwzhui71/logs</code>"
            ]
          },
          "metadata": {}
        },
        {
          "output_type": "stream",
          "name": "stderr",
          "text": [
            "\u001b[34m\u001b[1mwandb\u001b[0m: Agent Starting Run: 9gx4f8kn with config:\n",
            "\u001b[34m\u001b[1mwandb\u001b[0m: \tactivationFunc: tanh\n",
            "\u001b[34m\u001b[1mwandb\u001b[0m: \tbatchSize: 64\n",
            "\u001b[34m\u001b[1mwandb\u001b[0m: \tepochs: 5\n",
            "\u001b[34m\u001b[1mwandb\u001b[0m: \thiddenLayerCount: 5\n",
            "\u001b[34m\u001b[1mwandb\u001b[0m: \thiddenSize: 32\n",
            "\u001b[34m\u001b[1mwandb\u001b[0m: \tinitMode: random\n",
            "\u001b[34m\u001b[1mwandb\u001b[0m: \tlearningRate: 0.001\n",
            "\u001b[34m\u001b[1mwandb\u001b[0m: \toptimiser: adam\n",
            "\u001b[34m\u001b[1mwandb\u001b[0m: \tweightDecay: 0.0005\n"
          ]
        },
        {
          "output_type": "display_data",
          "data": {
            "text/plain": [
              "<IPython.core.display.HTML object>"
            ],
            "text/html": [
              "Tracking run with wandb version 0.19.7"
            ]
          },
          "metadata": {}
        },
        {
          "output_type": "display_data",
          "data": {
            "text/plain": [
              "<IPython.core.display.HTML object>"
            ],
            "text/html": [
              "Run data is saved locally in <code>/content/wandb/run-20250310_030548-9gx4f8kn</code>"
            ]
          },
          "metadata": {}
        },
        {
          "output_type": "display_data",
          "data": {
            "text/plain": [
              "<IPython.core.display.HTML object>"
            ],
            "text/html": [
              "Syncing run <strong><a href='https://wandb.ai/cs24m018-iitmaana/DA6401%20Assignment1/runs/9gx4f8kn' target=\"_blank\">fanciful-sweep-4</a></strong> to <a href='https://wandb.ai/cs24m018-iitmaana/DA6401%20Assignment1' target=\"_blank\">Weights & Biases</a> (<a href='https://wandb.me/developer-guide' target=\"_blank\">docs</a>)<br>Sweep page: <a href='https://wandb.ai/cs24m018-iitmaana/DA6401%20Assignment1/sweeps/292018fh' target=\"_blank\">https://wandb.ai/cs24m018-iitmaana/DA6401%20Assignment1/sweeps/292018fh</a>"
            ]
          },
          "metadata": {}
        },
        {
          "output_type": "display_data",
          "data": {
            "text/plain": [
              "<IPython.core.display.HTML object>"
            ],
            "text/html": [
              " View project at <a href='https://wandb.ai/cs24m018-iitmaana/DA6401%20Assignment1' target=\"_blank\">https://wandb.ai/cs24m018-iitmaana/DA6401%20Assignment1</a>"
            ]
          },
          "metadata": {}
        },
        {
          "output_type": "display_data",
          "data": {
            "text/plain": [
              "<IPython.core.display.HTML object>"
            ],
            "text/html": [
              " View sweep at <a href='https://wandb.ai/cs24m018-iitmaana/DA6401%20Assignment1/sweeps/292018fh' target=\"_blank\">https://wandb.ai/cs24m018-iitmaana/DA6401%20Assignment1/sweeps/292018fh</a>"
            ]
          },
          "metadata": {}
        },
        {
          "output_type": "display_data",
          "data": {
            "text/plain": [
              "<IPython.core.display.HTML object>"
            ],
            "text/html": [
              " View run at <a href='https://wandb.ai/cs24m018-iitmaana/DA6401%20Assignment1/runs/9gx4f8kn' target=\"_blank\">https://wandb.ai/cs24m018-iitmaana/DA6401%20Assignment1/runs/9gx4f8kn</a>"
            ]
          },
          "metadata": {}
        },
        {
          "output_type": "stream",
          "name": "stdout",
          "text": [
            "Validation Accuracy:  9.975\n",
            "Validation Loss:  2.302585196689991\n",
            "Training Accuracy:  10.00625\n",
            "Training Loss:  2.302589226988604\n",
            "Validation Accuracy:  9.975\n",
            "Validation Loss:  2.3025848028661677\n",
            "Training Accuracy:  10.00625\n",
            "Training Loss:  2.3025923440000557\n",
            "Validation Accuracy:  9.975\n",
            "Validation Loss:  2.3025905030211087\n",
            "Training Accuracy:  10.00625\n",
            "Training Loss:  2.302601756697289\n",
            "Validation Accuracy:  9.975\n",
            "Validation Loss:  2.3026058108466976\n",
            "Training Accuracy:  10.00625\n",
            "Training Loss:  2.3026214173822583\n",
            "Validation Accuracy:  9.975\n",
            "Validation Loss:  2.302639435305601\n",
            "Training Accuracy:  10.00625\n",
            "Training Loss:  2.3026604903628276\n"
          ]
        },
        {
          "output_type": "display_data",
          "data": {
            "text/plain": [
              "<IPython.core.display.HTML object>"
            ],
            "text/html": []
          },
          "metadata": {}
        },
        {
          "output_type": "display_data",
          "data": {
            "text/plain": [
              "<IPython.core.display.HTML object>"
            ],
            "text/html": [
              "<br>    <style><br>        .wandb-row {<br>            display: flex;<br>            flex-direction: row;<br>            flex-wrap: wrap;<br>            justify-content: flex-start;<br>            width: 100%;<br>        }<br>        .wandb-col {<br>            display: flex;<br>            flex-direction: column;<br>            flex-basis: 100%;<br>            flex: 1;<br>            padding: 10px;<br>        }<br>    </style><br><div class=\"wandb-row\"><div class=\"wandb-col\"><h3>Run history:</h3><br/><table class=\"wandb\"><tr><td>Batch Size</td><td>▁▁▁▁▁</td></tr><tr><td>Epoch</td><td>▁▃▅▆█</td></tr><tr><td>Learning Rate</td><td>▁▁▁▁▁</td></tr><tr><td>Training Accuracy</td><td>▁▁▁▁▁</td></tr><tr><td>Training Loss</td><td>▁▁▂▄█</td></tr><tr><td>Validation Accuracy</td><td>▁▁▁▁▁</td></tr><tr><td>Validation Loss</td><td>▁▁▂▄█</td></tr></table><br/></div><div class=\"wandb-col\"><h3>Run summary:</h3><br/><table class=\"wandb\"><tr><td>Batch Size</td><td>64</td></tr><tr><td>Epoch</td><td>5</td></tr><tr><td>Learning Rate</td><td>0.001</td></tr><tr><td>Optimiser</td><td>adam</td></tr><tr><td>Training Accuracy</td><td>10.00625</td></tr><tr><td>Training Loss</td><td>2.30266</td></tr><tr><td>Validation Accuracy</td><td>9.975</td></tr><tr><td>Validation Loss</td><td>2.30264</td></tr></table><br/></div></div>"
            ]
          },
          "metadata": {}
        },
        {
          "output_type": "display_data",
          "data": {
            "text/plain": [
              "<IPython.core.display.HTML object>"
            ],
            "text/html": [
              " View run <strong style=\"color:#cdcd00\">hS32_lr0.001_adam_bs64_aftanh</strong> at: <a href='https://wandb.ai/cs24m018-iitmaana/DA6401%20Assignment1/runs/9gx4f8kn' target=\"_blank\">https://wandb.ai/cs24m018-iitmaana/DA6401%20Assignment1/runs/9gx4f8kn</a><br> View project at: <a href='https://wandb.ai/cs24m018-iitmaana/DA6401%20Assignment1' target=\"_blank\">https://wandb.ai/cs24m018-iitmaana/DA6401%20Assignment1</a><br>Synced 5 W&B file(s), 0 media file(s), 0 artifact file(s) and 0 other file(s)"
            ]
          },
          "metadata": {}
        },
        {
          "output_type": "display_data",
          "data": {
            "text/plain": [
              "<IPython.core.display.HTML object>"
            ],
            "text/html": [
              "Find logs at: <code>./wandb/run-20250310_030548-9gx4f8kn/logs</code>"
            ]
          },
          "metadata": {}
        },
        {
          "output_type": "stream",
          "name": "stderr",
          "text": [
            "\u001b[34m\u001b[1mwandb\u001b[0m: Agent Starting Run: bjg6bo2y with config:\n",
            "\u001b[34m\u001b[1mwandb\u001b[0m: \tactivationFunc: sigmoid\n",
            "\u001b[34m\u001b[1mwandb\u001b[0m: \tbatchSize: 64\n",
            "\u001b[34m\u001b[1mwandb\u001b[0m: \tepochs: 10\n",
            "\u001b[34m\u001b[1mwandb\u001b[0m: \thiddenLayerCount: 3\n",
            "\u001b[34m\u001b[1mwandb\u001b[0m: \thiddenSize: 128\n",
            "\u001b[34m\u001b[1mwandb\u001b[0m: \tinitMode: xavier\n",
            "\u001b[34m\u001b[1mwandb\u001b[0m: \tlearningRate: 0.001\n",
            "\u001b[34m\u001b[1mwandb\u001b[0m: \toptimiser: rmsProp\n",
            "\u001b[34m\u001b[1mwandb\u001b[0m: \tweightDecay: 0.5\n"
          ]
        },
        {
          "output_type": "display_data",
          "data": {
            "text/plain": [
              "<IPython.core.display.HTML object>"
            ],
            "text/html": [
              "Tracking run with wandb version 0.19.7"
            ]
          },
          "metadata": {}
        },
        {
          "output_type": "display_data",
          "data": {
            "text/plain": [
              "<IPython.core.display.HTML object>"
            ],
            "text/html": [
              "Run data is saved locally in <code>/content/wandb/run-20250310_030624-bjg6bo2y</code>"
            ]
          },
          "metadata": {}
        },
        {
          "output_type": "display_data",
          "data": {
            "text/plain": [
              "<IPython.core.display.HTML object>"
            ],
            "text/html": [
              "Syncing run <strong><a href='https://wandb.ai/cs24m018-iitmaana/DA6401%20Assignment1/runs/bjg6bo2y' target=\"_blank\">trim-sweep-5</a></strong> to <a href='https://wandb.ai/cs24m018-iitmaana/DA6401%20Assignment1' target=\"_blank\">Weights & Biases</a> (<a href='https://wandb.me/developer-guide' target=\"_blank\">docs</a>)<br>Sweep page: <a href='https://wandb.ai/cs24m018-iitmaana/DA6401%20Assignment1/sweeps/292018fh' target=\"_blank\">https://wandb.ai/cs24m018-iitmaana/DA6401%20Assignment1/sweeps/292018fh</a>"
            ]
          },
          "metadata": {}
        },
        {
          "output_type": "display_data",
          "data": {
            "text/plain": [
              "<IPython.core.display.HTML object>"
            ],
            "text/html": [
              " View project at <a href='https://wandb.ai/cs24m018-iitmaana/DA6401%20Assignment1' target=\"_blank\">https://wandb.ai/cs24m018-iitmaana/DA6401%20Assignment1</a>"
            ]
          },
          "metadata": {}
        },
        {
          "output_type": "display_data",
          "data": {
            "text/plain": [
              "<IPython.core.display.HTML object>"
            ],
            "text/html": [
              " View sweep at <a href='https://wandb.ai/cs24m018-iitmaana/DA6401%20Assignment1/sweeps/292018fh' target=\"_blank\">https://wandb.ai/cs24m018-iitmaana/DA6401%20Assignment1/sweeps/292018fh</a>"
            ]
          },
          "metadata": {}
        },
        {
          "output_type": "display_data",
          "data": {
            "text/plain": [
              "<IPython.core.display.HTML object>"
            ],
            "text/html": [
              " View run at <a href='https://wandb.ai/cs24m018-iitmaana/DA6401%20Assignment1/runs/bjg6bo2y' target=\"_blank\">https://wandb.ai/cs24m018-iitmaana/DA6401%20Assignment1/runs/bjg6bo2y</a>"
            ]
          },
          "metadata": {}
        },
        {
          "output_type": "stream",
          "name": "stdout",
          "text": [
            "Validation Accuracy:  9.825\n",
            "Validation Loss:  2.377128439332326\n",
            "Training Accuracy:  10.04375\n",
            "Training Loss:  2.336250834110984\n",
            "Validation Accuracy:  9.825\n",
            "Validation Loss:  2.3706578015038335\n",
            "Training Accuracy:  10.04375\n",
            "Training Loss:  2.3344119191933443\n",
            "Validation Accuracy:  9.825\n",
            "Validation Loss:  2.3652737734363556\n",
            "Training Accuracy:  10.04375\n",
            "Training Loss:  2.332980240360627\n",
            "Validation Accuracy:  9.825\n",
            "Validation Loss:  2.3604314253728997\n",
            "Training Accuracy:  10.04375\n",
            "Training Loss:  2.331714762701755\n",
            "Validation Accuracy:  9.825\n",
            "Validation Loss:  2.3560124927001533\n",
            "Training Accuracy:  10.04375\n",
            "Training Loss:  2.3305571434840466\n"
          ]
        },
        {
          "output_type": "stream",
          "name": "stderr",
          "text": [
            "\u001b[34m\u001b[1mwandb\u001b[0m: Ctrl + C detected. Stopping sweep.\n"
          ]
        }
      ]
    },
    {
      "cell_type": "code",
      "source": [],
      "metadata": {
        "id": "m_HPXkMxZSNN"
      },
      "execution_count": null,
      "outputs": []
    }
  ]
}