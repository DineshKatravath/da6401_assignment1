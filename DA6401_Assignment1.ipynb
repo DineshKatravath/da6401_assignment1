{
  "nbformat": 4,
  "nbformat_minor": 0,
  "metadata": {
    "colab": {
      "provenance": [],
      "mount_file_id": "19vUMa14pElIaaTFQPBYtHIXth-3FGDI4",
      "authorship_tag": "ABX9TyN5gzmNNliw2XAhIqMZGWPX",
      "include_colab_link": true
    },
    "kernelspec": {
      "name": "python3",
      "display_name": "Python 3"
    },
    "language_info": {
      "name": "python"
    }
  },
  "cells": [
    {
      "cell_type": "markdown",
      "metadata": {
        "id": "view-in-github",
        "colab_type": "text"
      },
      "source": [
        "<a href=\"https://colab.research.google.com/github/DineshKatravath/da6401_assignment1/blob/main/DA6401_Assignment1.ipynb\" target=\"_parent\"><img src=\"https://colab.research.google.com/assets/colab-badge.svg\" alt=\"Open In Colab\"/></a>"
      ]
    },
    {
      "cell_type": "markdown",
      "source": [
        "# Connecting to Wandb"
      ],
      "metadata": {
        "id": "i2AKthrOGZsq"
      }
    },
    {
      "cell_type": "code",
      "execution_count": null,
      "metadata": {
        "colab": {
          "base_uri": "https://localhost:8080/"
        },
        "collapsed": true,
        "id": "DUlc7pPDEKHJ",
        "outputId": "919fe10b-0d00-486a-c021-8d59c4dfea55"
      },
      "outputs": [
        {
          "output_type": "stream",
          "name": "stdout",
          "text": [
            "Requirement already satisfied: wandb in /usr/local/lib/python3.11/dist-packages (0.19.7)\n",
            "Requirement already satisfied: click!=8.0.0,>=7.1 in /usr/local/lib/python3.11/dist-packages (from wandb) (8.1.8)\n",
            "Requirement already satisfied: docker-pycreds>=0.4.0 in /usr/local/lib/python3.11/dist-packages (from wandb) (0.4.0)\n",
            "Requirement already satisfied: gitpython!=3.1.29,>=1.0.0 in /usr/local/lib/python3.11/dist-packages (from wandb) (3.1.44)\n",
            "Requirement already satisfied: platformdirs in /usr/local/lib/python3.11/dist-packages (from wandb) (4.3.6)\n",
            "Requirement already satisfied: protobuf!=4.21.0,!=5.28.0,<6,>=3.19.0 in /usr/local/lib/python3.11/dist-packages (from wandb) (4.25.6)\n",
            "Requirement already satisfied: psutil>=5.0.0 in /usr/local/lib/python3.11/dist-packages (from wandb) (5.9.5)\n",
            "Requirement already satisfied: pydantic<3,>=2.6 in /usr/local/lib/python3.11/dist-packages (from wandb) (2.10.6)\n",
            "Requirement already satisfied: pyyaml in /usr/local/lib/python3.11/dist-packages (from wandb) (6.0.2)\n",
            "Requirement already satisfied: requests<3,>=2.0.0 in /usr/local/lib/python3.11/dist-packages (from wandb) (2.32.3)\n",
            "Requirement already satisfied: sentry-sdk>=2.0.0 in /usr/local/lib/python3.11/dist-packages (from wandb) (2.22.0)\n",
            "Requirement already satisfied: setproctitle in /usr/local/lib/python3.11/dist-packages (from wandb) (1.3.5)\n",
            "Requirement already satisfied: setuptools in /usr/local/lib/python3.11/dist-packages (from wandb) (75.1.0)\n",
            "Requirement already satisfied: typing-extensions<5,>=4.4 in /usr/local/lib/python3.11/dist-packages (from wandb) (4.12.2)\n",
            "Requirement already satisfied: six>=1.4.0 in /usr/local/lib/python3.11/dist-packages (from docker-pycreds>=0.4.0->wandb) (1.17.0)\n",
            "Requirement already satisfied: gitdb<5,>=4.0.1 in /usr/local/lib/python3.11/dist-packages (from gitpython!=3.1.29,>=1.0.0->wandb) (4.0.12)\n",
            "Requirement already satisfied: annotated-types>=0.6.0 in /usr/local/lib/python3.11/dist-packages (from pydantic<3,>=2.6->wandb) (0.7.0)\n",
            "Requirement already satisfied: pydantic-core==2.27.2 in /usr/local/lib/python3.11/dist-packages (from pydantic<3,>=2.6->wandb) (2.27.2)\n",
            "Requirement already satisfied: charset-normalizer<4,>=2 in /usr/local/lib/python3.11/dist-packages (from requests<3,>=2.0.0->wandb) (3.4.1)\n",
            "Requirement already satisfied: idna<4,>=2.5 in /usr/local/lib/python3.11/dist-packages (from requests<3,>=2.0.0->wandb) (3.10)\n",
            "Requirement already satisfied: urllib3<3,>=1.21.1 in /usr/local/lib/python3.11/dist-packages (from requests<3,>=2.0.0->wandb) (2.3.0)\n",
            "Requirement already satisfied: certifi>=2017.4.17 in /usr/local/lib/python3.11/dist-packages (from requests<3,>=2.0.0->wandb) (2025.1.31)\n",
            "Requirement already satisfied: smmap<6,>=3.0.1 in /usr/local/lib/python3.11/dist-packages (from gitdb<5,>=4.0.1->gitpython!=3.1.29,>=1.0.0->wandb) (5.0.2)\n"
          ]
        }
      ],
      "source": [
        "!pip install wandb"
      ]
    },
    {
      "cell_type": "code",
      "source": [
        "import wandb\n",
        "wandb.login()"
      ],
      "metadata": {
        "colab": {
          "base_uri": "https://localhost:8080/",
          "height": 425
        },
        "collapsed": true,
        "id": "5MPbxRm6GsTI",
        "outputId": "b21757f2-60d2-4703-87c0-8d3d6aa6de84"
      },
      "execution_count": 2,
      "outputs": [
        {
          "output_type": "stream",
          "name": "stderr",
          "text": [
            "\u001b[34m\u001b[1mwandb\u001b[0m: Using wandb-core as the SDK backend.  Please refer to https://wandb.me/wandb-core for more information.\n"
          ]
        },
        {
          "output_type": "display_data",
          "data": {
            "text/plain": [
              "<IPython.core.display.Javascript object>"
            ],
            "application/javascript": [
              "\n",
              "        window._wandbApiKey = new Promise((resolve, reject) => {\n",
              "            function loadScript(url) {\n",
              "            return new Promise(function(resolve, reject) {\n",
              "                let newScript = document.createElement(\"script\");\n",
              "                newScript.onerror = reject;\n",
              "                newScript.onload = resolve;\n",
              "                document.body.appendChild(newScript);\n",
              "                newScript.src = url;\n",
              "            });\n",
              "            }\n",
              "            loadScript(\"https://cdn.jsdelivr.net/npm/postmate/build/postmate.min.js\").then(() => {\n",
              "            const iframe = document.createElement('iframe')\n",
              "            iframe.style.cssText = \"width:0;height:0;border:none\"\n",
              "            document.body.appendChild(iframe)\n",
              "            const handshake = new Postmate({\n",
              "                container: iframe,\n",
              "                url: 'https://wandb.ai/authorize'\n",
              "            });\n",
              "            const timeout = setTimeout(() => reject(\"Couldn't auto authenticate\"), 5000)\n",
              "            handshake.then(function(child) {\n",
              "                child.on('authorize', data => {\n",
              "                    clearTimeout(timeout)\n",
              "                    resolve(data)\n",
              "                });\n",
              "            });\n",
              "            })\n",
              "        });\n",
              "    "
            ]
          },
          "metadata": {}
        },
        {
          "output_type": "stream",
          "name": "stderr",
          "text": [
            "\u001b[34m\u001b[1mwandb\u001b[0m: Logging into wandb.ai. (Learn how to deploy a W&B server locally: https://wandb.me/wandb-server)\n",
            "\u001b[34m\u001b[1mwandb\u001b[0m: You can find your API key in your browser here: https://wandb.ai/authorize\n",
            "wandb: Paste an API key from your profile and hit enter:"
          ]
        },
        {
          "name": "stdout",
          "output_type": "stream",
          "text": [
            " ··········\n"
          ]
        },
        {
          "output_type": "stream",
          "name": "stderr",
          "text": [
            "\u001b[34m\u001b[1mwandb\u001b[0m: \u001b[33mWARNING\u001b[0m If you're specifying your api key in code, ensure this code is not shared publicly.\n",
            "\u001b[34m\u001b[1mwandb\u001b[0m: \u001b[33mWARNING\u001b[0m Consider setting the WANDB_API_KEY environment variable, or running `wandb login` from the command line.\n"
          ]
        },
        {
          "output_type": "error",
          "ename": "ValueError",
          "evalue": "API key must be 40 characters long, yours was 77",
          "traceback": [
            "\u001b[0;31m---------------------------------------------------------------------------\u001b[0m",
            "\u001b[0;31mValueError\u001b[0m                                Traceback (most recent call last)",
            "\u001b[0;32m<ipython-input-2-ae6b39ac68ed>\u001b[0m in \u001b[0;36m<cell line: 0>\u001b[0;34m()\u001b[0m\n\u001b[1;32m      1\u001b[0m \u001b[0;32mimport\u001b[0m \u001b[0mwandb\u001b[0m\u001b[0;34m\u001b[0m\u001b[0;34m\u001b[0m\u001b[0m\n\u001b[0;32m----> 2\u001b[0;31m \u001b[0mwandb\u001b[0m\u001b[0;34m.\u001b[0m\u001b[0mlogin\u001b[0m\u001b[0;34m(\u001b[0m\u001b[0;34m)\u001b[0m\u001b[0;34m\u001b[0m\u001b[0;34m\u001b[0m\u001b[0m\n\u001b[0m",
            "\u001b[0;32m/usr/local/lib/python3.11/dist-packages/wandb/sdk/wandb_login.py\u001b[0m in \u001b[0;36mlogin\u001b[0;34m(anonymous, key, relogin, host, force, timeout, verify)\u001b[0m\n\u001b[1;32m     74\u001b[0m     \"\"\"\n\u001b[1;32m     75\u001b[0m     \u001b[0m_handle_host_wandb_setting\u001b[0m\u001b[0;34m(\u001b[0m\u001b[0mhost\u001b[0m\u001b[0;34m)\u001b[0m\u001b[0;34m\u001b[0m\u001b[0;34m\u001b[0m\u001b[0m\n\u001b[0;32m---> 76\u001b[0;31m     return _login(\n\u001b[0m\u001b[1;32m     77\u001b[0m         \u001b[0manonymous\u001b[0m\u001b[0;34m=\u001b[0m\u001b[0manonymous\u001b[0m\u001b[0;34m,\u001b[0m\u001b[0;34m\u001b[0m\u001b[0;34m\u001b[0m\u001b[0m\n\u001b[1;32m     78\u001b[0m         \u001b[0mkey\u001b[0m\u001b[0;34m=\u001b[0m\u001b[0mkey\u001b[0m\u001b[0;34m,\u001b[0m\u001b[0;34m\u001b[0m\u001b[0;34m\u001b[0m\u001b[0m\n",
            "\u001b[0;32m/usr/local/lib/python3.11/dist-packages/wandb/sdk/wandb_login.py\u001b[0m in \u001b[0;36m_login\u001b[0;34m(anonymous, key, relogin, host, force, timeout, verify, _silent, _disable_warning)\u001b[0m\n\u001b[1;32m    309\u001b[0m \u001b[0;34m\u001b[0m\u001b[0m\n\u001b[1;32m    310\u001b[0m     \u001b[0;32mif\u001b[0m \u001b[0;32mnot\u001b[0m \u001b[0mkey_is_pre_configured\u001b[0m\u001b[0;34m:\u001b[0m\u001b[0;34m\u001b[0m\u001b[0;34m\u001b[0m\u001b[0m\n\u001b[0;32m--> 311\u001b[0;31m         \u001b[0mwlogin\u001b[0m\u001b[0;34m.\u001b[0m\u001b[0mtry_save_api_key\u001b[0m\u001b[0;34m(\u001b[0m\u001b[0mkey\u001b[0m\u001b[0;34m)\u001b[0m\u001b[0;34m\u001b[0m\u001b[0;34m\u001b[0m\u001b[0m\n\u001b[0m\u001b[1;32m    312\u001b[0m         \u001b[0mwlogin\u001b[0m\u001b[0;34m.\u001b[0m\u001b[0mupdate_session\u001b[0m\u001b[0;34m(\u001b[0m\u001b[0mkey\u001b[0m\u001b[0;34m,\u001b[0m \u001b[0mstatus\u001b[0m\u001b[0;34m=\u001b[0m\u001b[0mkey_status\u001b[0m\u001b[0;34m)\u001b[0m\u001b[0;34m\u001b[0m\u001b[0;34m\u001b[0m\u001b[0m\n\u001b[1;32m    313\u001b[0m         \u001b[0mwlogin\u001b[0m\u001b[0;34m.\u001b[0m\u001b[0m_update_global_anonymous_setting\u001b[0m\u001b[0;34m(\u001b[0m\u001b[0;34m)\u001b[0m\u001b[0;34m\u001b[0m\u001b[0;34m\u001b[0m\u001b[0m\n",
            "\u001b[0;32m/usr/local/lib/python3.11/dist-packages/wandb/sdk/wandb_login.py\u001b[0m in \u001b[0;36mtry_save_api_key\u001b[0;34m(self, key)\u001b[0m\n\u001b[1;32m    174\u001b[0m         \u001b[0;32mif\u001b[0m \u001b[0mkey\u001b[0m\u001b[0;34m:\u001b[0m\u001b[0;34m\u001b[0m\u001b[0;34m\u001b[0m\u001b[0m\n\u001b[1;32m    175\u001b[0m             \u001b[0;32mtry\u001b[0m\u001b[0;34m:\u001b[0m\u001b[0;34m\u001b[0m\u001b[0;34m\u001b[0m\u001b[0m\n\u001b[0;32m--> 176\u001b[0;31m                 \u001b[0mapikey\u001b[0m\u001b[0;34m.\u001b[0m\u001b[0mwrite_key\u001b[0m\u001b[0;34m(\u001b[0m\u001b[0mself\u001b[0m\u001b[0;34m.\u001b[0m\u001b[0m_settings\u001b[0m\u001b[0;34m,\u001b[0m \u001b[0mkey\u001b[0m\u001b[0;34m)\u001b[0m\u001b[0;34m\u001b[0m\u001b[0;34m\u001b[0m\u001b[0m\n\u001b[0m\u001b[1;32m    177\u001b[0m             \u001b[0;32mexcept\u001b[0m \u001b[0mapikey\u001b[0m\u001b[0;34m.\u001b[0m\u001b[0mWriteNetrcError\u001b[0m \u001b[0;32mas\u001b[0m \u001b[0me\u001b[0m\u001b[0;34m:\u001b[0m\u001b[0;34m\u001b[0m\u001b[0;34m\u001b[0m\u001b[0m\n\u001b[1;32m    178\u001b[0m                 \u001b[0mwandb\u001b[0m\u001b[0;34m.\u001b[0m\u001b[0mtermwarn\u001b[0m\u001b[0;34m(\u001b[0m\u001b[0mstr\u001b[0m\u001b[0;34m(\u001b[0m\u001b[0me\u001b[0m\u001b[0;34m)\u001b[0m\u001b[0;34m)\u001b[0m\u001b[0;34m\u001b[0m\u001b[0;34m\u001b[0m\u001b[0m\n",
            "\u001b[0;32m/usr/local/lib/python3.11/dist-packages/wandb/sdk/lib/apikey.py\u001b[0m in \u001b[0;36mwrite_key\u001b[0;34m(settings, key, api)\u001b[0m\n\u001b[1;32m    292\u001b[0m \u001b[0;34m\u001b[0m\u001b[0m\n\u001b[1;32m    293\u001b[0m     \u001b[0;32mif\u001b[0m \u001b[0mlen\u001b[0m\u001b[0;34m(\u001b[0m\u001b[0msuffix\u001b[0m\u001b[0;34m)\u001b[0m \u001b[0;34m!=\u001b[0m \u001b[0;36m40\u001b[0m\u001b[0;34m:\u001b[0m\u001b[0;34m\u001b[0m\u001b[0;34m\u001b[0m\u001b[0m\n\u001b[0;32m--> 294\u001b[0;31m         raise ValueError(\n\u001b[0m\u001b[1;32m    295\u001b[0m             \u001b[0;34m\"API key must be 40 characters long, yours was {}\"\u001b[0m\u001b[0;34m.\u001b[0m\u001b[0mformat\u001b[0m\u001b[0;34m(\u001b[0m\u001b[0mlen\u001b[0m\u001b[0;34m(\u001b[0m\u001b[0mkey\u001b[0m\u001b[0;34m)\u001b[0m\u001b[0;34m)\u001b[0m\u001b[0;34m\u001b[0m\u001b[0;34m\u001b[0m\u001b[0m\n\u001b[1;32m    296\u001b[0m         )\n",
            "\u001b[0;31mValueError\u001b[0m: API key must be 40 characters long, yours was 77"
          ]
        }
      ]
    },
    {
      "cell_type": "code",
      "source": [
        "import wandb\n",
        "\n",
        "# Initialize a new WandB run\n",
        "wandb.init(project=\"DA6401 Assignment1\")\n",
        "\n",
        "# Finish the run when you're done\n",
        "wandb.finish()"
      ],
      "metadata": {
        "colab": {
          "base_uri": "https://localhost:8080/",
          "height": 329
        },
        "id": "1XS8CCimILVl",
        "outputId": "bf05b72d-ef1a-477b-e2a5-3651a4ef7e64"
      },
      "execution_count": 3,
      "outputs": [
        {
          "output_type": "display_data",
          "data": {
            "text/plain": [
              "<IPython.core.display.Javascript object>"
            ],
            "application/javascript": [
              "\n",
              "        window._wandbApiKey = new Promise((resolve, reject) => {\n",
              "            function loadScript(url) {\n",
              "            return new Promise(function(resolve, reject) {\n",
              "                let newScript = document.createElement(\"script\");\n",
              "                newScript.onerror = reject;\n",
              "                newScript.onload = resolve;\n",
              "                document.body.appendChild(newScript);\n",
              "                newScript.src = url;\n",
              "            });\n",
              "            }\n",
              "            loadScript(\"https://cdn.jsdelivr.net/npm/postmate/build/postmate.min.js\").then(() => {\n",
              "            const iframe = document.createElement('iframe')\n",
              "            iframe.style.cssText = \"width:0;height:0;border:none\"\n",
              "            document.body.appendChild(iframe)\n",
              "            const handshake = new Postmate({\n",
              "                container: iframe,\n",
              "                url: 'https://wandb.ai/authorize'\n",
              "            });\n",
              "            const timeout = setTimeout(() => reject(\"Couldn't auto authenticate\"), 5000)\n",
              "            handshake.then(function(child) {\n",
              "                child.on('authorize', data => {\n",
              "                    clearTimeout(timeout)\n",
              "                    resolve(data)\n",
              "                });\n",
              "            });\n",
              "            })\n",
              "        });\n",
              "    "
            ]
          },
          "metadata": {}
        },
        {
          "output_type": "stream",
          "name": "stderr",
          "text": [
            "\u001b[34m\u001b[1mwandb\u001b[0m: Logging into wandb.ai. (Learn how to deploy a W&B server locally: https://wandb.me/wandb-server)\n",
            "\u001b[34m\u001b[1mwandb\u001b[0m: You can find your API key in your browser here: https://wandb.ai/authorize\n",
            "wandb: Paste an API key from your profile and hit enter:"
          ]
        },
        {
          "name": "stdout",
          "output_type": "stream",
          "text": [
            " ··········\n"
          ]
        },
        {
          "output_type": "stream",
          "name": "stderr",
          "text": [
            "\u001b[34m\u001b[1mwandb\u001b[0m: \u001b[33mWARNING\u001b[0m If you're specifying your api key in code, ensure this code is not shared publicly.\n",
            "\u001b[34m\u001b[1mwandb\u001b[0m: \u001b[33mWARNING\u001b[0m Consider setting the WANDB_API_KEY environment variable, or running `wandb login` from the command line.\n",
            "\u001b[34m\u001b[1mwandb\u001b[0m: No netrc file found, creating one.\n",
            "\u001b[34m\u001b[1mwandb\u001b[0m: Appending key for api.wandb.ai to your netrc file: /root/.netrc\n",
            "\u001b[34m\u001b[1mwandb\u001b[0m: Currently logged in as: \u001b[33mcs24m018\u001b[0m (\u001b[33mcs24m018-iitmaana\u001b[0m) to \u001b[32mhttps://api.wandb.ai\u001b[0m. Use \u001b[1m`wandb login --relogin`\u001b[0m to force relogin\n"
          ]
        },
        {
          "output_type": "display_data",
          "data": {
            "text/plain": [
              "<IPython.core.display.HTML object>"
            ],
            "text/html": [
              "Tracking run with wandb version 0.19.7"
            ]
          },
          "metadata": {}
        },
        {
          "output_type": "display_data",
          "data": {
            "text/plain": [
              "<IPython.core.display.HTML object>"
            ],
            "text/html": [
              "Run data is saved locally in <code>/content/wandb/run-20250309_033936-viwm63rj</code>"
            ]
          },
          "metadata": {}
        },
        {
          "output_type": "display_data",
          "data": {
            "text/plain": [
              "<IPython.core.display.HTML object>"
            ],
            "text/html": [
              "Syncing run <strong><a href='https://wandb.ai/cs24m018-iitmaana/DA6401%20Assignment1/runs/viwm63rj' target=\"_blank\">crimson-sunset-8</a></strong> to <a href='https://wandb.ai/cs24m018-iitmaana/DA6401%20Assignment1' target=\"_blank\">Weights & Biases</a> (<a href='https://wandb.me/developer-guide' target=\"_blank\">docs</a>)<br>"
            ]
          },
          "metadata": {}
        },
        {
          "output_type": "display_data",
          "data": {
            "text/plain": [
              "<IPython.core.display.HTML object>"
            ],
            "text/html": [
              " View project at <a href='https://wandb.ai/cs24m018-iitmaana/DA6401%20Assignment1' target=\"_blank\">https://wandb.ai/cs24m018-iitmaana/DA6401%20Assignment1</a>"
            ]
          },
          "metadata": {}
        },
        {
          "output_type": "display_data",
          "data": {
            "text/plain": [
              "<IPython.core.display.HTML object>"
            ],
            "text/html": [
              " View run at <a href='https://wandb.ai/cs24m018-iitmaana/DA6401%20Assignment1/runs/viwm63rj' target=\"_blank\">https://wandb.ai/cs24m018-iitmaana/DA6401%20Assignment1/runs/viwm63rj</a>"
            ]
          },
          "metadata": {}
        },
        {
          "output_type": "display_data",
          "data": {
            "text/plain": [
              "<IPython.core.display.HTML object>"
            ],
            "text/html": []
          },
          "metadata": {}
        },
        {
          "output_type": "display_data",
          "data": {
            "text/plain": [
              "<IPython.core.display.HTML object>"
            ],
            "text/html": [
              " View run <strong style=\"color:#cdcd00\">crimson-sunset-8</strong> at: <a href='https://wandb.ai/cs24m018-iitmaana/DA6401%20Assignment1/runs/viwm63rj' target=\"_blank\">https://wandb.ai/cs24m018-iitmaana/DA6401%20Assignment1/runs/viwm63rj</a><br> View project at: <a href='https://wandb.ai/cs24m018-iitmaana/DA6401%20Assignment1' target=\"_blank\">https://wandb.ai/cs24m018-iitmaana/DA6401%20Assignment1</a><br>Synced 5 W&B file(s), 0 media file(s), 0 artifact file(s) and 0 other file(s)"
            ]
          },
          "metadata": {}
        },
        {
          "output_type": "display_data",
          "data": {
            "text/plain": [
              "<IPython.core.display.HTML object>"
            ],
            "text/html": [
              "Find logs at: <code>./wandb/run-20250309_033936-viwm63rj/logs</code>"
            ]
          },
          "metadata": {}
        }
      ]
    },
    {
      "cell_type": "code",
      "source": [],
      "metadata": {
        "id": "sKowCJ3NJ9jL"
      },
      "execution_count": null,
      "outputs": []
    },
    {
      "cell_type": "markdown",
      "source": [
        "# Question 1"
      ],
      "metadata": {
        "id": "S-Dzn_qeKo9w"
      }
    },
    {
      "cell_type": "code",
      "source": [
        "import numpy as np\n",
        "import matplotlib.pyplot as plt\n",
        "from keras.datasets import fashion_mnist\n",
        "\n",
        "# Load the Fashion-MNIST dataset\n",
        "(x_train, y_train), (x_test, y_test) = fashion_mnist.load_data()\n",
        "\n",
        "\n",
        "wandb.init(project=\"DA6401 Assignment1\")\n",
        "runName = \"Generating Images\"\n",
        "wandb.run.name = runName\n",
        "wandb.run.save()\n",
        "\n",
        "# Define class labels\n",
        "class_labels = ['T-shirt/top', 'Trouser', 'Pullover', 'Dress', 'Coat', 'Sandal', 'Shirt', 'Sneaker', 'Bag', 'Ankle boot']\n",
        "\n",
        "fig, axs = plt.subplots(2,5)\n",
        "images = []\n",
        "\n",
        "# Loop through each class\n",
        "for i in range(10):\n",
        "    # Find the first image of the current class in the training set\n",
        "    idx = np.where(y_train == i)[0][0]\n",
        "\n",
        "    # Plot the image\n",
        "    x = i//5\n",
        "    y = i%5\n",
        "\n",
        "    wandb.log({\"Image\": wandb.Image(x_train[idx],caption=class_labels[i])})\n",
        "    axs[x,y].imshow(x_train[idx], cmap='gray')\n",
        "    axs[x,y].set_title(class_labels[i])\n",
        "    axs[x,y].axis('off')  # Turn off axis for better visualization\n",
        "\n",
        "wandb.finish()\n",
        "\n",
        "plt.tight_layout()\n",
        "plt.show()"
      ],
      "metadata": {
        "colab": {
          "base_uri": "https://localhost:8080/",
          "height": 545
        },
        "id": "9acWJ48jKxWD",
        "outputId": "c7700864-4f37-4c83-80a5-00b0f91f296e"
      },
      "execution_count": 4,
      "outputs": [
        {
          "output_type": "display_data",
          "data": {
            "text/plain": [
              "<IPython.core.display.HTML object>"
            ],
            "text/html": [
              "Tracking run with wandb version 0.19.7"
            ]
          },
          "metadata": {}
        },
        {
          "output_type": "display_data",
          "data": {
            "text/plain": [
              "<IPython.core.display.HTML object>"
            ],
            "text/html": [
              "Run data is saved locally in <code>/content/wandb/run-20250309_033947-s9zevwqi</code>"
            ]
          },
          "metadata": {}
        },
        {
          "output_type": "display_data",
          "data": {
            "text/plain": [
              "<IPython.core.display.HTML object>"
            ],
            "text/html": [
              "Syncing run <strong><a href='https://wandb.ai/cs24m018-iitmaana/DA6401%20Assignment1/runs/s9zevwqi' target=\"_blank\">peach-frost-9</a></strong> to <a href='https://wandb.ai/cs24m018-iitmaana/DA6401%20Assignment1' target=\"_blank\">Weights & Biases</a> (<a href='https://wandb.me/developer-guide' target=\"_blank\">docs</a>)<br>"
            ]
          },
          "metadata": {}
        },
        {
          "output_type": "display_data",
          "data": {
            "text/plain": [
              "<IPython.core.display.HTML object>"
            ],
            "text/html": [
              " View project at <a href='https://wandb.ai/cs24m018-iitmaana/DA6401%20Assignment1' target=\"_blank\">https://wandb.ai/cs24m018-iitmaana/DA6401%20Assignment1</a>"
            ]
          },
          "metadata": {}
        },
        {
          "output_type": "display_data",
          "data": {
            "text/plain": [
              "<IPython.core.display.HTML object>"
            ],
            "text/html": [
              " View run at <a href='https://wandb.ai/cs24m018-iitmaana/DA6401%20Assignment1/runs/s9zevwqi' target=\"_blank\">https://wandb.ai/cs24m018-iitmaana/DA6401%20Assignment1/runs/s9zevwqi</a>"
            ]
          },
          "metadata": {}
        },
        {
          "output_type": "stream",
          "name": "stderr",
          "text": [
            "\u001b[34m\u001b[1mwandb\u001b[0m: \u001b[33mWARNING\u001b[0m Calling wandb.run.save without any arguments is deprecated.Changes to attributes are automatically persisted.\n"
          ]
        },
        {
          "output_type": "display_data",
          "data": {
            "text/plain": [
              "<IPython.core.display.HTML object>"
            ],
            "text/html": []
          },
          "metadata": {}
        },
        {
          "output_type": "display_data",
          "data": {
            "text/plain": [
              "<IPython.core.display.HTML object>"
            ],
            "text/html": [
              " View run <strong style=\"color:#cdcd00\">Generating Images</strong> at: <a href='https://wandb.ai/cs24m018-iitmaana/DA6401%20Assignment1/runs/s9zevwqi' target=\"_blank\">https://wandb.ai/cs24m018-iitmaana/DA6401%20Assignment1/runs/s9zevwqi</a><br> View project at: <a href='https://wandb.ai/cs24m018-iitmaana/DA6401%20Assignment1' target=\"_blank\">https://wandb.ai/cs24m018-iitmaana/DA6401%20Assignment1</a><br>Synced 5 W&B file(s), 10 media file(s), 0 artifact file(s) and 0 other file(s)"
            ]
          },
          "metadata": {}
        },
        {
          "output_type": "display_data",
          "data": {
            "text/plain": [
              "<IPython.core.display.HTML object>"
            ],
            "text/html": [
              "Find logs at: <code>./wandb/run-20250309_033947-s9zevwqi/logs</code>"
            ]
          },
          "metadata": {}
        },
        {
          "output_type": "display_data",
          "data": {
            "text/plain": [
              "<Figure size 640x480 with 10 Axes>"
            ],
            "image/png": "[encoded data removed]"
          },
          "metadata": {}
        }
      ]
    },
    {
      "cell_type": "code",
      "source": [],
      "metadata": {
        "id": "bO_mQEoRLvts"
      },
      "execution_count": null,
      "outputs": []
    },
    {
      "cell_type": "markdown",
      "source": [
        "# Question 2"
      ],
      "metadata": {
        "id": "-Bs8voaCRs99"
      }
    },
    {
      "cell_type": "code",
      "source": [
        "from keras.datasets import mnist\n",
        "from sklearn.model_selection import train_test_split\n",
        "import numpy as np\n",
        "import matplotlib.pyplot as plt"
      ],
      "metadata": {
        "id": "VtAwQtTti1iC"
      },
      "execution_count": 1,
      "outputs": []
    },
    {
      "cell_type": "code",
      "source": [
        "# Activation Functions\n",
        "\n",
        "def sigmoid(X):\n",
        "  return 1./1+np.exp(-X)\n",
        "\n",
        "def tanh(X):\n",
        "  return np.exp(X)-np.exp(-X)/np.exp(X)+np.exp(-X)\n",
        "\n",
        "def relu(X):\n",
        "  return np.maximum(0,X)\n",
        "\n",
        "def softMax(X):\n",
        "  # subtracting maxVal for stability\n",
        "  maxVal = np.max(X,axis=0)\n",
        "  X = X - maxVal\n",
        "  return np.exp(X)/np.sum(np.exp(X),axis=0)\n",
        "\n",
        "\n",
        "# Gradient Activation Functions\n",
        "\n",
        "def sigmoidGrad(X):\n",
        "  return sigmoid(X)*(1-sigmoid(X))\n",
        "\n",
        "def tanhGrad(X):\n",
        "  return 1-tanh(X)**2\n",
        "\n",
        "def reluGrad(X):\n",
        "  return np.where(X>0,1,0)\n",
        "\n",
        "def softMaxGrad(X):\n",
        "  return softMax(X)*(1-softMax(X))\n",
        "\n",
        "# Weight Initializations\n",
        "\n",
        "def randomInit(shape):\n",
        "  return np.random.randn(*shape)*0.01\n",
        "\n",
        "def xavierInit(shape):\n",
        "  inputCount,outputCount = shape\n",
        "  std = np.sqrt(2/(inputCount+outputCount))\n",
        "  return np.random.normal(0,std,shape)\n",
        "\n",
        "# Loss Functions\n",
        "\n",
        "def"
      ],
      "metadata": {
        "id": "K9ycPapWpQYx"
      },
      "execution_count": null,
      "outputs": []
    },
    {
      "cell_type": "code",
      "source": [
        "class feedForwardNeuralNetwork:\n",
        "\n",
        "  def __init__(self,inputSize,hiddenSize,hiddenLayerCount,outputSize,epochs,batchSize,optimiser,weightDecay,beta,lossFunc,activationFunc,learningRate,beta1,beta2,dataset=\"fashionMNIST\"):\n",
        "    self.inputSize = inputSize\n",
        "    self.hiddenSize = hiddenSize\n",
        "    self.hiddenLayerCount = hiddenLayerCount\n",
        "    self.outputSize = outputSize\n",
        "    self.epochs = epochs\n",
        "    self.batchSize = batchSize\n",
        "    self.weightDecay = weightDecay\n",
        "    self.beta = beta\n",
        "    self.beta1 = beta1\n",
        "    self.beta2 = beta2\n",
        "    self.lossFunc = lossFunc\n",
        "    self.activationFunc = activationFunc\n",
        "    self.learningRate = learningRate\n",
        "    self.optimiser = optimiser\n",
        "    self.initialize()\n",
        "    self.weights = []\n",
        "    self.biases = []\n",
        "    self.activationLayer = []\n",
        "    self.preActivationLayer = []\n",
        "\n",
        "    if dataset == \"fashionMNIST\":\n",
        "      (X_train, y_train), (X_test, y_test) = fashion_mnist.load_data()\n",
        "      X_train, X_val, y_train, y_val = train_test_split(X_train, y_train, test_size=0.1, random_state=42)\n",
        "    elif dataset == \"MNIST\":\n",
        "      (X_train, y_train), (X_test, y_test) = mnist.load_data()\n",
        "      X_train, X_val, y_train, y_val = train_test_split(X_train, y_train, test_size=0.1, random_state=42)\n",
        "\n",
        "    # normalizing and resizing images\n",
        "\n",
        "    X_train = X_train.reshape(X_train.shape[0], -1) / 255.0\n",
        "    X_val = X_val.reshape(X_val.shape[0], -1) / 255.0\n",
        "    X_test = X_test.reshape(X_test.shape[0], -1) / 255.0\n",
        "\n",
        "    self.X_train = X_train\n",
        "    self.y_train = y_train\n",
        "    self.X_val = X_val\n",
        "    self.y_val = y_val\n",
        "    self.X_test = X_test\n",
        "    self.y_test = y_test\n",
        "\n",
        "  def initialize(self,initMode = 'xavier'):\n",
        "\n",
        "    weights = []\n",
        "    biases = []\n",
        "    activationLayer = []\n",
        "    preActivationLayer = []\n",
        "\n",
        "    for i in range(self.hiddenLayerCount+1):\n",
        "      if initMode == 'xavier': # initializing random weights\n",
        "        weights.append(xavierInit((self.hiddenSize,self.hiddenSize)))\n",
        "      else:\n",
        "        weights.append(randomInit((self.hiddenSize,self.hiddenSize)))\n",
        "        biases.append(np.zeros((self.hiddenSize,1))) # initializing biases to 0.\n",
        "\n",
        "    self.weights = weights\n",
        "    self.biases = biases\n",
        "    self.activationLayer = activationLayer\n",
        "    self.preActivationLayer = preActivationLayer\n",
        "\n",
        "  def activationLayer(self,X,type='softmax'):\n",
        "    if type == 'sigmoid':\n",
        "      activatedLayer = sigmoid(X)\n",
        "    elif type == 'tanh':\n",
        "      activatedLayer = tanh(X)\n",
        "    elif type == 'relu':\n",
        "      activatedLayer = relu(X)\n",
        "    elif type == 'softmax':\n",
        "      activatedLayer = softMax(X)\n",
        "\n",
        "    return activatedLayer\n",
        "\n",
        "  def gradActivationLayer(self,X,type='softmax'):\n",
        "    if type == 'sigmoid':\n",
        "      gradActivatedLayer = sigmoidGrad(X)\n",
        "    elif type == 'tanh':\n",
        "      gradActivatedLayer = tanhGrad(X)\n",
        "    elif type == 'relu':\n",
        "      gradActivatedLayer = reluGrad(X)\n",
        "    elif type == 'softmax':\n",
        "      gradActivatedLayer = softMaxGrad(X)\n",
        "\n",
        "    return gradActivatedLayer\n",
        "\n",
        "  def outputActivationLayer(self,X):\n",
        "    return softMax(X)\n",
        "\n",
        "  def inputLayer(self,X):\n",
        "    return np.dot(self.weights[0],X)+self.biases[0]\n",
        "\n",
        "  def hiddenLayer(self,X,layerNo):\n",
        "    activatedLayer = self.activationLayer(X)\n",
        "    self.activationLayer.append(activatedLayer)\n",
        "    return np.dot(self.weights[layerNo],activatedLayer)+self.biases[layerNo]\n",
        "\n",
        "  def forward(self,X):\n",
        "\n",
        "    self.activationLayer.append(X) # h0 is input\n",
        "    self.preActivationLayer.append(self.inputLayer(X))\n",
        "    for num in range(1,self.hiddenLayerCount+1):\n",
        "      self.preActivationLayer.append(self.hiddenLayer(self.preActivationLayer[num-1],num))\n",
        "\n",
        "    self.output = self.activationLaself.outputActivationLayer(self.preActivationLayer[self.hiddenLayerCount])\n",
        "\n",
        "  def backPropagation(self,X,ypred,y,weights,ai_x,hi_x,loss=\"crossEntropyLoss\",activationType=\"softmax\"):\n",
        "\n",
        "    dw = []\n",
        "    db = []\n",
        "\n",
        "    # gradient of loss w.r.t pre-activation of output layer\n",
        "\n",
        "    if loss == \"crossEntropyLoss\":\n",
        "      grad_al = -(y-ypred)\n",
        "    elif loss == \"squaredLoss\":\n",
        "      grad_al = 2*(ypred-y)*ypred(1-ypred)\n",
        "\n",
        "    grad_ai = grad_al\n",
        "\n",
        "    for k in range(self.hiddenLayerCount,-1,-1):\n",
        "      grad_Wi = np.dot(grad_ai,hi_x[k].T) # gradient of loss w.r.t weights of kth layer\n",
        "      dw.append(grad_ai)\n",
        "\n",
        "      grad_bi = grad_ai # gradient of loss w.r.t biases of ith layer.\n",
        "      db.append(grad_bi)\n",
        "\n",
        "      if(k>0):\n",
        "        grad_h = np.dot(weights[k].T,grad_ai)\n",
        "        grad_a = grad_h * self.gradActivatedLayer(ai_x[k-1])\n",
        "        grad_ai = grad_a\n",
        "\n",
        "    dw.reverse()\n",
        "    db.reverse()\n",
        "\n",
        "    for i in range(len(dw)):\n",
        "      dw[i] += self.weightDecay*weights[i]\n",
        "\n",
        "    return dw,db\n",
        "\n",
        "  def sgd(self):\n",
        "    self.initialize()\n",
        "\n",
        "    it = 0\n",
        "    while it < self.epochs:\n",
        "      it += 1\n",
        "\n",
        "      i = 0\n",
        "      while i<len(self.X_train):\n",
        "        self.forward(self.X_train[i:i+self.batchSize])\n",
        "        dw,db = self.backPropagation(self.X_train[i:i+self.batchSize],self.ypred,self.y_train[i:i+self.batchSize],self.preActivationLayer,self.activationLayer,self.lossFunc,self.activationFunc)\n",
        "\n",
        "        for k in range(len(dw)):\n",
        "          self.weights[k] -= self.learningRate*dw[k]\n",
        "          self.biases[k] -= self.learningRate*db[k]\n",
        "\n",
        "        i += self.batchSize\n",
        "\n",
        "  def momentumBasedGradientDescent(self):\n",
        "    self.initialize()\n",
        "\n",
        "    it=0\n",
        "    uw=[]\n",
        "    ub=[]\n",
        "\n",
        "    while it < self.epochs:\n",
        "      it += 1\n",
        "\n",
        "      i = 0\n",
        "      while i<len(self.X_train):\n",
        "        self.forward(self.X_train[i:i+self.batchSize])\n",
        "        dw,db = self.backPropagation(self.X_train[i:i+self.batchSize],self.ypred,self.y_train[i:i+self.batchSize],self.preActivationLayer,self.activationLayer,self.lossFunc,self.activationFunc)\n",
        "\n",
        "        # update the momentum with the gradient\n",
        "        uw = self.beta*uw + dw\n",
        "        ub = self.beta*ub + db\n",
        "\n",
        "        for k in range(len(dw)):\n",
        "          self.weights[k] -= self.learningRate*uw[k]\n",
        "          self.biases[k] -= self.learningRate*ub[k]\n",
        "\n",
        "        i += self.batchSize\n",
        "\n",
        "  def nesterovAcceleratedBasedGradientDescent(self):\n",
        "    self.initialize()\n",
        "\n",
        "    it=0\n",
        "    while it<self.epochs:\n",
        "      it+=1\n",
        "\n",
        "      i=0\n",
        "      while i<len(self.X_train):\n",
        "        self.forward(self.X_train[i:i+self.batchSize])\n",
        "        dw,db = self.backPropagation(self.X_train[i:i+self.batchSize],self.ypred,self.y_train[i:i+self.batchSize],self.preActivationLayer,self.activationLayer,self.lossFunc,self.activationFunc)\n",
        "\n",
        "        ut = self.beta*ut + dw\n",
        "        ub = self.beta*ub + db\n",
        "\n",
        "        self.weights = self.weights - self.learningRate*(self.beta*ut +dw)\n",
        "        self.biases = self.biases - self.learningRate*(self.beta*ub +db)\n",
        "\n",
        "        i += self.batchSize\n",
        "\n",
        "  def rmsProp(self):\n",
        "    self.initialize()\n",
        "\n",
        "    it=0\n",
        "    v_w, v_b = [], []\n",
        "    eps = 1e-4\n",
        "    while(it<self.epochs):\n",
        "      it+=1\n",
        "      i=0\n",
        "      while(i<len(self.X_train)):\n",
        "        self.forward(self.X_train[i:i+self.batchSize])\n",
        "        dw,db = self.backPropagation(self.X_train[i:i+self.batchSize],self.ypred,self.y_train[i:i+self.batchSize],self.preActivationLayer,self.activationLayer,self.lossFunc,self.activationFunc)\n",
        "\n",
        "        # compute Intermediate Values\n",
        "        v_w = self.beta*v_w + (1-self.beta)*(dw**2)\n",
        "        v_b = self.beta*v_b + (1-self.beta)*(db**2)\n",
        "\n",
        "        #update parameters\n",
        "        self.weights = self.weights - (self.learningRate/(np.sqrt(v_w)+eps))*dw\n",
        "        self.biases = self.biases - (self.learningRate/(np.sqrt(v_b)+eps))*db\n",
        "\n",
        "        i += self.batchSize\n",
        "\n",
        "  def adam(self):\n",
        "    self.initialize()\n",
        "\n",
        "    v_w , v_b = [] , []\n",
        "    m_w , m_b = [] , []\n",
        "    vhat_w , vhat_b = [] , []\n",
        "    mhat_w , mhat_b = [] , []\n",
        "    eps = 1e-4\n",
        "    it = 0\n",
        "    t = 0\n",
        "\n",
        "    while it<self.epochs:\n",
        "      it+=1\n",
        "      i=0\n",
        "\n",
        "      while i<len(self.X_train):\n",
        "        self.forward(self.X_train[i:i+self.batchSize])\n",
        "        dw,db = self.backPropagation(self.X_train[i:i+self.batchSize],self.ypred,self.y_train[i:i+self.batchSize],self.preActivationLayer,self.activationLayer,self.lossFunc,self.activationFunc)\n",
        "\n",
        "        # updating Momentum and v\n",
        "        m_w = self.beta1*m_w + (1-self.beta1)*dw\n",
        "        m_b = self.beta1*m_b + (l-self.beta1)*db\n",
        "\n",
        "        v_w = self.beta2*v_w + (1-self.beta2)*(dw**2)\n",
        "        v_b = self.beta2*v_b + (1-self.beta2)*(db**2)\n",
        "\n",
        "        # finding mhat and vhat\n",
        "\n",
        "        mhat_w = m_w/(1-self.beta1**t)\n",
        "        mhat_b = m_b/(1-self.beta1**t)\n",
        "\n",
        "        vhat_w = v_w/(1-self.beta2**t)\n",
        "        vhat_b = v_b/(1-self.beta2**t)\n",
        "\n",
        "        # updating weights\n",
        "        l2_normW = np.linalg.norm(vhat_w)\n",
        "        l2_normB = np.linalg.norm(vhat_b)\n",
        "\n",
        "        self.weights = self.weights - (self.learningRate/(np.sqrt(l2_normW)+eps))*mhat_w\n",
        "        self.biases = self.biases - (self.learningRate/(np.sqrt(l2_normB)+eps))*mhat_b\n",
        "        t += 1\n",
        "        i += self.batchSize\n",
        "\n",
        "  def nadam(self):\n",
        "    self.initialize()\n",
        "\n",
        "    v_w , v_b = [] , []\n",
        "    m_w , m_b = [] , []\n",
        "    vhat_w , vhat_b = [] , []\n",
        "    mhat_w , mhat_b = [] , []\n",
        "    eps = 1e-4\n",
        "    it = 0\n",
        "    t = 0\n",
        "\n",
        "    while it<self.epochs:\n",
        "      it+=1\n",
        "      i=0\n",
        "\n",
        "      while i<len(self.X_train):\n",
        "        self.forward(self.X_train[i:i+self.batchSize])\n",
        "        dw,db = self.backPropagation(self.X_train[i:i+self.batchSize],self.ypred,self.y_train[i:i+self.batchSize],self.preActivationLayer,self.activationLayer,self.lossFunc,self.activationFunc)\n",
        "\n",
        "        # updating Momentum and v\n",
        "        m_w = self.beta1*m_w + (1-self.beta1)*dw\n",
        "        m_b = self.beta1*m_b + (l-self.beta1)*db\n",
        "\n",
        "        v_w = self.beta2*v_w + (1-self.beta2)*(dw**2)\n",
        "        v_b = self.beta2*v_b + (1-self.beta2)*(db**2)\n",
        "\n",
        "        # finding mhat and vhat\n",
        "\n",
        "        mhat_w = m_w/(1-self.beta1**t)\n",
        "        mhat_b = m_b/(1-self.beta1**t)\n",
        "\n",
        "        vhat_w = v_w/(1-self.beta2**t)\n",
        "        vhat_b = v_b/(1-self.beta2**t)\n",
        "\n",
        "        # updating weights\n",
        "        l2_normW = np.linalg.norm(vhat_w)\n",
        "        l2_normB = np.linalg.norm(vhat_b)\n",
        "\n",
        "        self.weights = self.weights - (self.learningRate/(np.sqrt(l2_normW)+eps))*(mhat_w*self.beta1 +(1-self.beta1)*dw/(1-self.beta1**t))\n",
        "        self.biases = self.biases - (self.learningRate/(np.sqrt(l2_normB)+eps))*(mhat_w*self.beta1 +(1-self.beta1)*dw/(1-self.beta1**t))\n",
        "\n",
        "        t += 1\n",
        "        i += self.batchSize\n",
        "\n",
        "  def fit(self):\n",
        "    if self.optimiser == \"sgd\":\n",
        "      self.sgd()\n",
        "    elif self.optimiser == \"momentumBasedGradientDescent\":\n",
        "      self.momentumBasedGradientDescent()\n",
        "    elif self.optimiser == \"nesterovAcceleratedBasedGradientDescent\":\n",
        "      self.nesterovAcceleratedBasedGradientDescent()\n",
        "    elif self.optimiser == \"rmsProp\":\n",
        "      self.rmsProp()\n",
        "    elif self.optimiser == \"adam\":\n",
        "      self.adam()\n",
        "    elif self.optimiser == \"nadam\":\n",
        "      self.nadam()\n",
        "\n"
      ],
      "metadata": {
        "id": "iQ7re2q2SD1s"
      },
      "execution_count": null,
      "outputs": []
    },
    {
      "cell_type": "code",
      "source": [],
      "metadata": {
        "id": "H8uCqktZyDRI"
      },
      "execution_count": null,
      "outputs": []
    }
  ]
}